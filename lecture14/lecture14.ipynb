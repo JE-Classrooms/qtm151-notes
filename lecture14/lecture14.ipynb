{
 "cells": [
  {
   "cell_type": "markdown",
   "metadata": {},
   "source": [
    "# Module 4: Data Manipulation with Pandas"
   ]
  },
  {
   "cell_type": "markdown",
   "metadata": {},
   "source": [
    "## <span style=\"color:darkblue\"> Review </span>\n",
    "\n",
    "<font size=\"5\"> \n",
    "\n",
    "- Import data frame from a differnt folder using Pandas\n",
    "\n",
    "- Select data by column name ```DataFrame['column_name']```"
   ]
  },
  {
   "cell_type": "code",
   "execution_count": null,
   "metadata": {},
   "outputs": [],
   "source": [
    "import os \n",
    "os.getcwd()"
   ]
  },
  {
   "cell_type": "code",
   "execution_count": null,
   "metadata": {},
   "outputs": [],
   "source": [
    "import pandas as pd\n",
    "fifa = pd.read_csv('../lecture12/fifa23_players.csv')"
   ]
  },
  {
   "cell_type": "markdown",
   "metadata": {},
   "source": [
    "# <span style=\"color:darkblue\"> Topics we did not cover the last time </span>"
   ]
  },
  {
   "cell_type": "markdown",
   "metadata": {},
   "source": [
    "## <span style=\"color:darkblue\"> 1. Selection by label </span>\n",
    "\n",
    "<font size=\"5\"> \n",
    "\n",
    "- If you want to extract a subset of rows and a subset of columns, you have to use the notation ```DataFrame.loc[]```\n",
    "\n",
    "**Task:**\n",
    "\n",
    "- Extract only the name, nationality and overall of the players in the rows 15 to 20"
   ]
  },
  {
   "cell_type": "code",
   "execution_count": null,
   "metadata": {},
   "outputs": [],
   "source": []
  },
  {
   "cell_type": "markdown",
   "metadata": {},
   "source": [
    "## <span style=\"color:darkblue\"> 2. Selection by position </span>\n",
    "\n",
    "<font size=\"5\"> \n",
    "\n",
    "- You can select all columns of a given row by passing its position as an integer using ```DataFrame.iloc``` \n",
    "\n",
    "**Task:** \n",
    "\n",
    "- Use ```DtaFrame.sort_values()``` and ```DataFrame.iloc``` to see all the columns for the with the highest wage ```Wage(in Euro)```"
   ]
  },
  {
   "cell_type": "code",
   "execution_count": null,
   "metadata": {},
   "outputs": [],
   "source": []
  },
  {
   "cell_type": "markdown",
   "metadata": {},
   "source": [
    "<font size=\"5\"> \n",
    "\n",
    "- You can also use slicing for both the rows and the columns \n",
    "\n",
    "- Let's check the top three wages and just display the columns 1 to 10"
   ]
  },
  {
   "cell_type": "code",
   "execution_count": null,
   "metadata": {},
   "outputs": [],
   "source": []
  },
  {
   "cell_type": "markdown",
   "metadata": {},
   "source": [
    "<font size=\"5\"> \n",
    "\n",
    "- Finally, you can also pass lists with rows and columns positions\n",
    "\n",
    "- For instance get the rows 1, 5, and 100 and the columns 1, 7 and 10"
   ]
  },
  {
   "cell_type": "code",
   "execution_count": null,
   "metadata": {},
   "outputs": [],
   "source": []
  },
  {
   "cell_type": "markdown",
   "metadata": {},
   "source": [
    "# <span style=\"color:darkblue\"> Today: Filter data frame based on conditions and the groupby() function </span>"
   ]
  },
  {
   "cell_type": "markdown",
   "metadata": {},
   "source": [
    "## <span style=\"color:darkblue\"> 1. Filter data frame based on conditions</span>"
   ]
  },
  {
   "cell_type": "markdown",
   "metadata": {},
   "source": [
    "<font size=\"5\"> \n",
    "\n",
    "- On last class we counted the number of Brazilian players by first getting ```Series``` nationality and then using a labmbda function + filter\n",
    "\n",
    "- There is a direct way to perform the same task only using Pandas function\n",
    "\n",
    "- The approach is called **Boolean Indexing**\n",
    "\n",
    "1. We can return a vector of booleans by applying a logical statement to a Pandas Series. **Example:** check if the Nationality name equals the string ```'Brazil'```"
   ]
  },
  {
   "cell_type": "code",
   "execution_count": null,
   "metadata": {},
   "outputs": [],
   "source": []
  },
  {
   "cell_type": "markdown",
   "metadata": {},
   "source": [
    "<font size=\"5\"> \n",
    "\n",
    "2. You can use the slicing notation to select the rows in the data frame where the condition we imposed is ```True```. **Example:** keep only the rows with Brazilian players. How many Brazilian players are there?"
   ]
  },
  {
   "cell_type": "code",
   "execution_count": null,
   "metadata": {},
   "outputs": [],
   "source": []
  },
  {
   "cell_type": "markdown",
   "metadata": {},
   "source": [
    "<font size=\"5\"> \n",
    "\n",
    "- keep only the rows with Colombian players. How many Colombian players are there?"
   ]
  },
  {
   "cell_type": "code",
   "execution_count": null,
   "metadata": {},
   "outputs": [],
   "source": []
  },
  {
   "cell_type": "markdown",
   "metadata": {},
   "source": [
    "<font size=\"5\"> \n",
    "\n",
    "- What if you only want to keep a subset of the total number of columns?\n",
    "\n",
    "\n",
    "- **Example:** get the full name, the nationality, and the Wage(in Euro) only for Brazilian players\n"
   ]
  },
  {
   "cell_type": "code",
   "execution_count": null,
   "metadata": {},
   "outputs": [],
   "source": []
  },
  {
   "cell_type": "markdown",
   "metadata": {},
   "source": [
    "<font size=\"5\"> \n",
    "\n",
    "- What if we want the same information as before for both Colombian and Brazilian players?"
   ]
  },
  {
   "cell_type": "code",
   "execution_count": null,
   "metadata": {},
   "outputs": [],
   "source": []
  },
  {
   "cell_type": "markdown",
   "metadata": {},
   "source": [
    "## <span style=\"color:darkblue\"> 2. The groupby() function</span>"
   ]
  },
  {
   "cell_type": "markdown",
   "metadata": {},
   "source": [
    "<font size=\"5\"> \n",
    "\n",
    "- We use the ```groupby()``` function when we want to calculate an statistic of a variable (or different variables) for different subgroups in the data\n",
    "\n",
    "- For example, let's explore the variable for the players' Wage in Euros\n",
    "\n",
    "1. What is the average wage for all players in the data:"
   ]
  },
  {
   "cell_type": "code",
   "execution_count": null,
   "metadata": {},
   "outputs": [],
   "source": []
  },
  {
   "cell_type": "markdown",
   "metadata": {},
   "source": [
    "<font size=\"5\"> \n",
    "\n",
    "- We can transform that value to dollars using the following exchange rate: 1 Euro can be exchanged for 0.98 dollars"
   ]
  },
  {
   "cell_type": "code",
   "execution_count": null,
   "metadata": {},
   "outputs": [],
   "source": []
  },
  {
   "cell_type": "markdown",
   "metadata": {},
   "source": [
    "<font size=\"5\"> \n",
    "\n",
    "- Now, let's imagine that we want to compare the average value of Brazilian and Colombian players"
   ]
  },
  {
   "cell_type": "markdown",
   "metadata": {},
   "source": [
    "<font size=\"5\"> \n",
    "\n",
    "1. Create a new data frame with only players from Brazil and Colombia and keep only the nationality and valuation columns"
   ]
  },
  {
   "cell_type": "code",
   "execution_count": null,
   "metadata": {},
   "outputs": [],
   "source": []
  },
  {
   "cell_type": "code",
   "execution_count": null,
   "metadata": {},
   "outputs": [],
   "source": []
  },
  {
   "cell_type": "markdown",
   "metadata": {},
   "source": [
    "<font size=\"5\"> \n",
    "\n",
    "2. Use ```groupby()``` and the statistic mean() to calculate average value for Colombian and Brazilian players"
   ]
  },
  {
   "cell_type": "code",
   "execution_count": null,
   "metadata": {},
   "outputs": [],
   "source": []
  }
 ],
 "metadata": {
  "kernelspec": {
   "display_name": "Python 3.8.5 ('base')",
   "language": "python",
   "name": "python3"
  },
  "language_info": {
   "codemirror_mode": {
    "name": "ipython",
    "version": 3
   },
   "file_extension": ".py",
   "mimetype": "text/x-python",
   "name": "python",
   "nbconvert_exporter": "python",
   "pygments_lexer": "ipython3",
   "version": "3.8.5"
  },
  "orig_nbformat": 4,
  "vscode": {
   "interpreter": {
    "hash": "9fbb33e86ca55080a202fed700efde3fb4ffe3f46131e5b52201b9ba06ce5f72"
   }
  }
 },
 "nbformat": 4,
 "nbformat_minor": 2
}
