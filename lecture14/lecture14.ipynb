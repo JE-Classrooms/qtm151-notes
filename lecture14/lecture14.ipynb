{
 "cells": [
  {
   "cell_type": "markdown",
   "metadata": {},
   "source": [
    "# Module 4: Data Manipulation with Pandas"
   ]
  },
  {
   "cell_type": "markdown",
   "metadata": {},
   "source": [
    "## <span style=\"color:darkblue\"> Review </span>\n",
    "\n",
    "<font size=\"5\"> \n",
    "\n",
    "- Import data frame from a differnt folder using Pandas\n",
    "\n",
    "- Select data by column name ```DataFrame['column_name']```"
   ]
  },
  {
   "cell_type": "code",
   "execution_count": 2,
   "metadata": {},
   "outputs": [
    {
     "data": {
      "text/plain": [
       "'c:\\\\Users\\\\juane\\\\OneDrive - Emory University\\\\EmoryUniversity\\\\Courses\\\\QTM151\\\\qtm151-notes\\\\lecture14'"
      ]
     },
     "execution_count": 2,
     "metadata": {},
     "output_type": "execute_result"
    }
   ],
   "source": [
    "import os \n",
    "os.getcwd()"
   ]
  },
  {
   "cell_type": "code",
   "execution_count": 3,
   "metadata": {},
   "outputs": [],
   "source": [
    "import pandas as pd\n",
    "fifa = pd.read_csv('../lecture12/fifa23_players.csv')"
   ]
  },
  {
   "cell_type": "code",
   "execution_count": 8,
   "metadata": {},
   "outputs": [
    {
     "data": {
      "text/html": [
       "<div>\n",
       "<style scoped>\n",
       "    .dataframe tbody tr th:only-of-type {\n",
       "        vertical-align: middle;\n",
       "    }\n",
       "\n",
       "    .dataframe tbody tr th {\n",
       "        vertical-align: top;\n",
       "    }\n",
       "\n",
       "    .dataframe thead th {\n",
       "        text-align: right;\n",
       "    }\n",
       "</style>\n",
       "<table border=\"1\" class=\"dataframe\">\n",
       "  <thead>\n",
       "    <tr style=\"text-align: right;\">\n",
       "      <th></th>\n",
       "      <th>Full Name</th>\n",
       "      <th>Overall</th>\n",
       "    </tr>\n",
       "  </thead>\n",
       "  <tbody>\n",
       "    <tr>\n",
       "      <th>0</th>\n",
       "      <td>Lionel Messi</td>\n",
       "      <td>91</td>\n",
       "    </tr>\n",
       "    <tr>\n",
       "      <th>1</th>\n",
       "      <td>Karim Benzema</td>\n",
       "      <td>91</td>\n",
       "    </tr>\n",
       "    <tr>\n",
       "      <th>2</th>\n",
       "      <td>Robert Lewandowski</td>\n",
       "      <td>91</td>\n",
       "    </tr>\n",
       "    <tr>\n",
       "      <th>3</th>\n",
       "      <td>Kevin De Bruyne</td>\n",
       "      <td>91</td>\n",
       "    </tr>\n",
       "    <tr>\n",
       "      <th>4</th>\n",
       "      <td>Kylian Mbappé</td>\n",
       "      <td>91</td>\n",
       "    </tr>\n",
       "    <tr>\n",
       "      <th>...</th>\n",
       "      <td>...</td>\n",
       "      <td>...</td>\n",
       "    </tr>\n",
       "    <tr>\n",
       "      <th>18534</th>\n",
       "      <td>Darren Collins</td>\n",
       "      <td>47</td>\n",
       "    </tr>\n",
       "    <tr>\n",
       "      <th>18535</th>\n",
       "      <td>Dejiang Yang</td>\n",
       "      <td>47</td>\n",
       "    </tr>\n",
       "    <tr>\n",
       "      <th>18536</th>\n",
       "      <td>Liam Mullan</td>\n",
       "      <td>47</td>\n",
       "    </tr>\n",
       "    <tr>\n",
       "      <th>18537</th>\n",
       "      <td>Daithí McCallion</td>\n",
       "      <td>47</td>\n",
       "    </tr>\n",
       "    <tr>\n",
       "      <th>18538</th>\n",
       "      <td>Nabin Rabha</td>\n",
       "      <td>47</td>\n",
       "    </tr>\n",
       "  </tbody>\n",
       "</table>\n",
       "<p>18539 rows × 2 columns</p>\n",
       "</div>"
      ],
      "text/plain": [
       "                Full Name  Overall\n",
       "0            Lionel Messi       91\n",
       "1           Karim Benzema       91\n",
       "2      Robert Lewandowski       91\n",
       "3         Kevin De Bruyne       91\n",
       "4           Kylian Mbappé       91\n",
       "...                   ...      ...\n",
       "18534      Darren Collins       47\n",
       "18535        Dejiang Yang       47\n",
       "18536         Liam Mullan       47\n",
       "18537    Daithí McCallion       47\n",
       "18538         Nabin Rabha       47\n",
       "\n",
       "[18539 rows x 2 columns]"
      ]
     },
     "execution_count": 8,
     "metadata": {},
     "output_type": "execute_result"
    }
   ],
   "source": [
    "fifa[['Full Name', 'Overall']]"
   ]
  },
  {
   "cell_type": "code",
   "execution_count": 5,
   "metadata": {},
   "outputs": [
    {
     "data": {
      "text/plain": [
       "Index(['Known As', 'Full Name', 'Overall', 'Potential', 'Value(in Euro)',\n",
       "       'Positions Played', 'Best Position', 'Nationality', 'Image Link', 'Age',\n",
       "       'Height(in cm)', 'Weight(in kg)', 'TotalStats', 'BaseStats',\n",
       "       'Club Name', 'Wage(in Euro)', 'Release Clause', 'Club Position',\n",
       "       'Contract Until', 'Club Jersey Number', 'Joined On', 'On Loan',\n",
       "       'Preferred Foot', 'Weak Foot Rating', 'Skill Moves',\n",
       "       'International Reputation', 'National Team Name',\n",
       "       'National Team Image Link', 'National Team Position',\n",
       "       'National Team Jersey Number', 'Attacking Work Rate',\n",
       "       'Defensive Work Rate', 'Pace Total', 'Shooting Total', 'Passing Total',\n",
       "       'Dribbling Total', 'Defending Total', 'Physicality Total', 'Crossing',\n",
       "       'Finishing', 'Heading Accuracy', 'Short Passing', 'Volleys',\n",
       "       'Dribbling', 'Curve', 'Freekick Accuracy', 'LongPassing', 'BallControl',\n",
       "       'Acceleration', 'Sprint Speed', 'Agility', 'Reactions', 'Balance',\n",
       "       'Shot Power', 'Jumping', 'Stamina', 'Strength', 'Long Shots',\n",
       "       'Aggression', 'Interceptions', 'Positioning', 'Vision', 'Penalties',\n",
       "       'Composure', 'Marking', 'Standing Tackle', 'Sliding Tackle',\n",
       "       'Goalkeeper Diving', 'Goalkeeper Handling', ' GoalkeeperKicking',\n",
       "       'Goalkeeper Positioning', 'Goalkeeper Reflexes', 'ST Rating',\n",
       "       'LW Rating', 'LF Rating', 'CF Rating', 'RF Rating', 'RW Rating',\n",
       "       'CAM Rating', 'LM Rating', 'CM Rating', 'RM Rating', 'LWB Rating',\n",
       "       'CDM Rating', 'RWB Rating', 'LB Rating', 'CB Rating', 'RB Rating',\n",
       "       'GK Rating'],\n",
       "      dtype='object')"
      ]
     },
     "execution_count": 5,
     "metadata": {},
     "output_type": "execute_result"
    }
   ],
   "source": [
    "fifa.columns"
   ]
  },
  {
   "cell_type": "markdown",
   "metadata": {},
   "source": [
    "# <span style=\"color:darkblue\"> Topics we did not cover the last time </span>"
   ]
  },
  {
   "cell_type": "markdown",
   "metadata": {},
   "source": [
    "## <span style=\"color:darkblue\"> 1. Selection by label </span>\n",
    "\n",
    "<font size=\"5\"> \n",
    "\n",
    "- If you want to extract a subset of rows and a subset of columns, you have to use the notation ```DataFrame.loc[]```\n",
    "\n",
    "**Task:**\n",
    "\n",
    "- Extract only the name, nationality and overall of the players in the rows 15 to 20"
   ]
  },
  {
   "cell_type": "code",
   "execution_count": 17,
   "metadata": {},
   "outputs": [
    {
     "data": {
      "text/html": [
       "<div>\n",
       "<style scoped>\n",
       "    .dataframe tbody tr th:only-of-type {\n",
       "        vertical-align: middle;\n",
       "    }\n",
       "\n",
       "    .dataframe tbody tr th {\n",
       "        vertical-align: top;\n",
       "    }\n",
       "\n",
       "    .dataframe thead th {\n",
       "        text-align: right;\n",
       "    }\n",
       "</style>\n",
       "<table border=\"1\" class=\"dataframe\">\n",
       "  <thead>\n",
       "    <tr style=\"text-align: right;\">\n",
       "      <th></th>\n",
       "      <th>Full Name</th>\n",
       "      <th>Overall</th>\n",
       "      <th>Nationality</th>\n",
       "    </tr>\n",
       "  </thead>\n",
       "  <tbody>\n",
       "    <tr>\n",
       "      <th>15</th>\n",
       "      <td>Sadio Mané</td>\n",
       "      <td>89</td>\n",
       "      <td>Senegal</td>\n",
       "    </tr>\n",
       "    <tr>\n",
       "      <th>16</th>\n",
       "      <td>Ederson Santana de Moraes</td>\n",
       "      <td>89</td>\n",
       "      <td>Brazil</td>\n",
       "    </tr>\n",
       "    <tr>\n",
       "      <th>17</th>\n",
       "      <td>Joshua Kimmich</td>\n",
       "      <td>89</td>\n",
       "      <td>Germany</td>\n",
       "    </tr>\n",
       "    <tr>\n",
       "      <th>18</th>\n",
       "      <td>Alisson Ramses Becker</td>\n",
       "      <td>89</td>\n",
       "      <td>Brazil</td>\n",
       "    </tr>\n",
       "    <tr>\n",
       "      <th>19</th>\n",
       "      <td>N'Golo Kanté</td>\n",
       "      <td>89</td>\n",
       "      <td>France</td>\n",
       "    </tr>\n",
       "    <tr>\n",
       "      <th>20</th>\n",
       "      <td>Rúben Santos Gato Alves Dias</td>\n",
       "      <td>88</td>\n",
       "      <td>Portugal</td>\n",
       "    </tr>\n",
       "  </tbody>\n",
       "</table>\n",
       "</div>"
      ],
      "text/plain": [
       "                       Full Name  Overall Nationality\n",
       "15                    Sadio Mané       89     Senegal\n",
       "16     Ederson Santana de Moraes       89      Brazil\n",
       "17                Joshua Kimmich       89     Germany\n",
       "18         Alisson Ramses Becker       89      Brazil\n",
       "19                  N'Golo Kanté       89      France\n",
       "20  Rúben Santos Gato Alves Dias       88    Portugal"
      ]
     },
     "execution_count": 17,
     "metadata": {},
     "output_type": "execute_result"
    }
   ],
   "source": [
    "fifa.loc[15:20, ['Full Name', 'Overall', 'Nationality']]"
   ]
  },
  {
   "cell_type": "markdown",
   "metadata": {},
   "source": [
    "## <span style=\"color:darkblue\"> 2. Selection by position </span>\n",
    "\n",
    "<font size=\"5\"> \n",
    "\n",
    "- You can select all columns of a given row by passing its position as an integer using ```DataFrame.iloc``` \n",
    "\n",
    "**Task:** \n",
    "\n",
    "- Use ```DtaFrame.sort_values()``` and ```DataFrame.iloc``` to see all the columns for the with the highest wage ```Wage(in Euro)```"
   ]
  },
  {
   "cell_type": "code",
   "execution_count": 22,
   "metadata": {},
   "outputs": [],
   "source": [
    "fifa_sorted = fifa.sort_values('Wage(in Euro)', ascending = False)"
   ]
  },
  {
   "cell_type": "code",
   "execution_count": 23,
   "metadata": {},
   "outputs": [
    {
     "data": {
      "text/plain": [
       "Known As             K. Benzema\n",
       "Full Name         Karim Benzema\n",
       "Overall                      91\n",
       "Potential                    91\n",
       "Value(in Euro)         64000000\n",
       "                      ...      \n",
       "RWB Rating                   67\n",
       "LB Rating                    63\n",
       "CB Rating                    58\n",
       "RB Rating                    63\n",
       "GK Rating                    21\n",
       "Name: 1, Length: 89, dtype: object"
      ]
     },
     "execution_count": 23,
     "metadata": {},
     "output_type": "execute_result"
    }
   ],
   "source": [
    "fifa_sorted.iloc[0]"
   ]
  },
  {
   "cell_type": "code",
   "execution_count": 19,
   "metadata": {},
   "outputs": [
    {
     "data": {
      "text/plain": [
       "Known As              L. Messi\n",
       "Full Name         Lionel Messi\n",
       "Overall                     91\n",
       "Potential                   91\n",
       "Value(in Euro)        54000000\n",
       "                      ...     \n",
       "RWB Rating                  67\n",
       "LB Rating                   62\n",
       "CB Rating                   53\n",
       "RB Rating                   62\n",
       "GK Rating                   22\n",
       "Name: 0, Length: 89, dtype: object"
      ]
     },
     "execution_count": 19,
     "metadata": {},
     "output_type": "execute_result"
    }
   ],
   "source": [
    "fifa.iloc[0]"
   ]
  },
  {
   "cell_type": "markdown",
   "metadata": {},
   "source": [
    "<font size=\"5\"> \n",
    "\n",
    "- You can also use slicing for both the rows and the columns \n",
    "\n",
    "- Let's check the top three wages and just display the columns 1 to 10"
   ]
  },
  {
   "cell_type": "code",
   "execution_count": 25,
   "metadata": {},
   "outputs": [
    {
     "data": {
      "text/html": [
       "<div>\n",
       "<style scoped>\n",
       "    .dataframe tbody tr th:only-of-type {\n",
       "        vertical-align: middle;\n",
       "    }\n",
       "\n",
       "    .dataframe tbody tr th {\n",
       "        vertical-align: top;\n",
       "    }\n",
       "\n",
       "    .dataframe thead th {\n",
       "        text-align: right;\n",
       "    }\n",
       "</style>\n",
       "<table border=\"1\" class=\"dataframe\">\n",
       "  <thead>\n",
       "    <tr style=\"text-align: right;\">\n",
       "      <th></th>\n",
       "      <th>Full Name</th>\n",
       "      <th>Overall</th>\n",
       "      <th>Potential</th>\n",
       "      <th>Value(in Euro)</th>\n",
       "      <th>Positions Played</th>\n",
       "      <th>Best Position</th>\n",
       "      <th>Nationality</th>\n",
       "      <th>Image Link</th>\n",
       "      <th>Age</th>\n",
       "    </tr>\n",
       "  </thead>\n",
       "  <tbody>\n",
       "    <tr>\n",
       "      <th>1</th>\n",
       "      <td>Karim Benzema</td>\n",
       "      <td>91</td>\n",
       "      <td>91</td>\n",
       "      <td>64000000</td>\n",
       "      <td>CF,ST</td>\n",
       "      <td>CF</td>\n",
       "      <td>France</td>\n",
       "      <td>https://cdn.sofifa.net/players/165/153/23_60.png</td>\n",
       "      <td>34</td>\n",
       "    </tr>\n",
       "    <tr>\n",
       "      <th>2</th>\n",
       "      <td>Robert Lewandowski</td>\n",
       "      <td>91</td>\n",
       "      <td>91</td>\n",
       "      <td>84000000</td>\n",
       "      <td>ST</td>\n",
       "      <td>ST</td>\n",
       "      <td>Poland</td>\n",
       "      <td>https://cdn.sofifa.net/players/188/545/23_60.png</td>\n",
       "      <td>33</td>\n",
       "    </tr>\n",
       "    <tr>\n",
       "      <th>3</th>\n",
       "      <td>Kevin De Bruyne</td>\n",
       "      <td>91</td>\n",
       "      <td>91</td>\n",
       "      <td>107500000</td>\n",
       "      <td>CM,CAM</td>\n",
       "      <td>CM</td>\n",
       "      <td>Belgium</td>\n",
       "      <td>https://cdn.sofifa.net/players/192/985/23_60.png</td>\n",
       "      <td>31</td>\n",
       "    </tr>\n",
       "  </tbody>\n",
       "</table>\n",
       "</div>"
      ],
      "text/plain": [
       "            Full Name  Overall  Potential  Value(in Euro) Positions Played  \\\n",
       "1       Karim Benzema       91         91        64000000            CF,ST   \n",
       "2  Robert Lewandowski       91         91        84000000               ST   \n",
       "3     Kevin De Bruyne       91         91       107500000           CM,CAM   \n",
       "\n",
       "  Best Position Nationality                                        Image Link  \\\n",
       "1            CF      France  https://cdn.sofifa.net/players/165/153/23_60.png   \n",
       "2            ST      Poland  https://cdn.sofifa.net/players/188/545/23_60.png   \n",
       "3            CM     Belgium  https://cdn.sofifa.net/players/192/985/23_60.png   \n",
       "\n",
       "   Age  \n",
       "1   34  \n",
       "2   33  \n",
       "3   31  "
      ]
     },
     "execution_count": 25,
     "metadata": {},
     "output_type": "execute_result"
    }
   ],
   "source": [
    "fifa_sorted.iloc[0:3, 1:10]"
   ]
  },
  {
   "cell_type": "markdown",
   "metadata": {},
   "source": [
    "<font size=\"5\"> \n",
    "\n",
    "- Finally, you can also pass lists with rows and columns positions\n",
    "\n",
    "- For instance get the rows 1, 5, and 100 and the columns 1, 7 and 10"
   ]
  },
  {
   "cell_type": "code",
   "execution_count": 26,
   "metadata": {},
   "outputs": [
    {
     "data": {
      "text/html": [
       "<div>\n",
       "<style scoped>\n",
       "    .dataframe tbody tr th:only-of-type {\n",
       "        vertical-align: middle;\n",
       "    }\n",
       "\n",
       "    .dataframe tbody tr th {\n",
       "        vertical-align: top;\n",
       "    }\n",
       "\n",
       "    .dataframe thead th {\n",
       "        text-align: right;\n",
       "    }\n",
       "</style>\n",
       "<table border=\"1\" class=\"dataframe\">\n",
       "  <thead>\n",
       "    <tr style=\"text-align: right;\">\n",
       "      <th></th>\n",
       "      <th>Full Name</th>\n",
       "      <th>Nationality</th>\n",
       "      <th>Height(in cm)</th>\n",
       "    </tr>\n",
       "  </thead>\n",
       "  <tbody>\n",
       "    <tr>\n",
       "      <th>2</th>\n",
       "      <td>Robert Lewandowski</td>\n",
       "      <td>Poland</td>\n",
       "      <td>185</td>\n",
       "    </tr>\n",
       "    <tr>\n",
       "      <th>23</th>\n",
       "      <td>Bernardo Mota Carvalho e Silva</td>\n",
       "      <td>Portugal</td>\n",
       "      <td>173</td>\n",
       "    </tr>\n",
       "    <tr>\n",
       "      <th>323</th>\n",
       "      <td>Marcus Rashford</td>\n",
       "      <td>England</td>\n",
       "      <td>186</td>\n",
       "    </tr>\n",
       "  </tbody>\n",
       "</table>\n",
       "</div>"
      ],
      "text/plain": [
       "                          Full Name Nationality  Height(in cm)\n",
       "2                Robert Lewandowski      Poland            185\n",
       "23   Bernardo Mota Carvalho e Silva    Portugal            173\n",
       "323                 Marcus Rashford     England            186"
      ]
     },
     "execution_count": 26,
     "metadata": {},
     "output_type": "execute_result"
    }
   ],
   "source": [
    "fifa_sorted.iloc[[1,5,100], [1, 7, 10]]"
   ]
  },
  {
   "cell_type": "markdown",
   "metadata": {},
   "source": [
    "# <span style=\"color:darkblue\"> Today: Filter data frame based on conditions and the groupby() function </span>"
   ]
  },
  {
   "cell_type": "markdown",
   "metadata": {},
   "source": [
    "## <span style=\"color:darkblue\"> 1. Filter data frame based on conditions</span>"
   ]
  },
  {
   "cell_type": "markdown",
   "metadata": {},
   "source": [
    "<font size=\"5\"> \n",
    "\n",
    "- On last class we counted the number of Brazilian players by first getting ```Series``` nationality and then using a labmbda function + filter\n",
    "\n",
    "- There is a direct way to perform the same task only using Pandas function\n",
    "\n",
    "- The approach is called **Boolean Indexing**\n",
    "\n",
    "1. We can return a vector of booleans by applying a logical statement to a Pandas Series. **Example:** check if the Nationality name equals the string ```'Brazil'```"
   ]
  },
  {
   "cell_type": "code",
   "execution_count": null,
   "metadata": {},
   "outputs": [],
   "source": []
  },
  {
   "cell_type": "markdown",
   "metadata": {},
   "source": [
    "<font size=\"5\"> \n",
    "\n",
    "2. You can use the slicing notation to select the rows in the data frame where the condition we imposed is ```True```. **Example:** keep only the rows with Brazilian players. How many Brazilian players are there?"
   ]
  },
  {
   "cell_type": "code",
   "execution_count": null,
   "metadata": {},
   "outputs": [],
   "source": []
  },
  {
   "cell_type": "markdown",
   "metadata": {},
   "source": [
    "<font size=\"5\"> \n",
    "\n",
    "- keep only the rows with Colombian players. How many Colombian players are there?"
   ]
  },
  {
   "cell_type": "code",
   "execution_count": null,
   "metadata": {},
   "outputs": [],
   "source": []
  },
  {
   "cell_type": "markdown",
   "metadata": {},
   "source": [
    "<font size=\"5\"> \n",
    "\n",
    "- What if you only want to keep a subset of the total number of columns?\n",
    "\n",
    "\n",
    "- **Example:** get the full name, the nationality, and the Wage(in Euro) only for Brazilian players\n"
   ]
  },
  {
   "cell_type": "code",
   "execution_count": null,
   "metadata": {},
   "outputs": [],
   "source": []
  },
  {
   "cell_type": "markdown",
   "metadata": {},
   "source": [
    "<font size=\"5\"> \n",
    "\n",
    "- What if we want the same information as before for both Colombian and Brazilian players?"
   ]
  },
  {
   "cell_type": "code",
   "execution_count": null,
   "metadata": {},
   "outputs": [],
   "source": []
  },
  {
   "cell_type": "markdown",
   "metadata": {},
   "source": [
    "## <span style=\"color:darkblue\"> 2. The groupby() function</span>"
   ]
  },
  {
   "cell_type": "markdown",
   "metadata": {},
   "source": [
    "<font size=\"5\"> \n",
    "\n",
    "- We use the ```groupby()``` function when we want to calculate an statistic of a variable (or different variables) for different subgroups in the data\n",
    "\n",
    "- For example, let's explore the variable for the players' Wage in Euros\n",
    "\n",
    "1. What is the average wage for all players in the data:"
   ]
  },
  {
   "cell_type": "code",
   "execution_count": null,
   "metadata": {},
   "outputs": [],
   "source": []
  },
  {
   "cell_type": "markdown",
   "metadata": {},
   "source": [
    "<font size=\"5\"> \n",
    "\n",
    "- We can transform that value to dollars using the following exchange rate: 1 Euro can be exchanged for 0.98 dollars"
   ]
  },
  {
   "cell_type": "code",
   "execution_count": null,
   "metadata": {},
   "outputs": [],
   "source": []
  },
  {
   "cell_type": "markdown",
   "metadata": {},
   "source": [
    "<font size=\"5\"> \n",
    "\n",
    "- Now, let's imagine that we want to compare the average value of Brazilian and Colombian players"
   ]
  },
  {
   "cell_type": "markdown",
   "metadata": {},
   "source": [
    "<font size=\"5\"> \n",
    "\n",
    "1. Create a new data frame with only players from Brazil and Colombia and keep only the nationality and valuation columns"
   ]
  },
  {
   "cell_type": "code",
   "execution_count": null,
   "metadata": {},
   "outputs": [],
   "source": []
  },
  {
   "cell_type": "code",
   "execution_count": null,
   "metadata": {},
   "outputs": [],
   "source": []
  },
  {
   "cell_type": "markdown",
   "metadata": {},
   "source": [
    "<font size=\"5\"> \n",
    "\n",
    "2. Use ```groupby()``` and the statistic mean() to calculate average value for Colombian and Brazilian players"
   ]
  },
  {
   "cell_type": "code",
   "execution_count": null,
   "metadata": {},
   "outputs": [],
   "source": []
  }
 ],
 "metadata": {
  "kernelspec": {
   "display_name": "Python 3.8.5 ('base')",
   "language": "python",
   "name": "python3"
  },
  "language_info": {
   "codemirror_mode": {
    "name": "ipython",
    "version": 3
   },
   "file_extension": ".py",
   "mimetype": "text/x-python",
   "name": "python",
   "nbconvert_exporter": "python",
   "pygments_lexer": "ipython3",
   "version": "3.8.5"
  },
  "orig_nbformat": 4,
  "vscode": {
   "interpreter": {
    "hash": "9fbb33e86ca55080a202fed700efde3fb4ffe3f46131e5b52201b9ba06ce5f72"
   }
  }
 },
 "nbformat": 4,
 "nbformat_minor": 2
}
