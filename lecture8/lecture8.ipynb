{
 "cells": [
  {
   "cell_type": "markdown",
   "metadata": {},
   "source": [
    "## <span style=\"color:darkblue\"> Class Review </span>\n",
    "\n",
    "<font size=\"5\"> \n",
    "\n",
    "Today we are finishing **Module 2**. So far we have covered:\n",
    "\n",
    "1. Numbers, arithmetic and numpy math functions\n",
    "2. Lists and numpy arrays: storing sequences of data\n",
    "3. For loops\n",
    "4. **If-elif-else** statements "
   ]
  },
  {
   "cell_type": "markdown",
   "metadata": {},
   "source": [
    "## <span style=\"color:darkblue\"> Today: while loop, if and break statements </span>\n",
    "\n",
    "<font size=\"5\"> \n",
    "\n",
    "- Introduce while loops syntax and examples\n",
    "\n",
    "- Combine while loops with the if and break statements \n",
    "\n",
    "- **Last 15 minutes:** while, if and break class exercises"
   ]
  },
  {
   "cell_type": "markdown",
   "metadata": {},
   "source": [
    "## <span style=\"color:darkblue\"> The while loop </span>\n",
    "\n",
    "<font size=\"5\"> \n",
    "\n",
    "- The while loop in Python is used to iterate over a block of code as long as the test expression (condition) is true. \n",
    "\n",
    "- **Main difference with the for loop:** we generally use this loop when we don't know the number of times to iterate beforehand."
   ]
  },
  {
   "cell_type": "markdown",
   "metadata": {},
   "source": [
    "<font size=\"5\"> \n",
    "\n",
    "**While loop statement: Python Syntax**\n",
    "\n",
    "``` python\n",
    "    while test_expression:\n",
    "        Body of while\n",
    "```\n",
    "\n",
    "\n",
    "\n",
    "- The while loop checks the test expression first. \n",
    "\n",
    "- The body of the loop is entered only if the test_expression evaluates to ```True```. \n",
    "\n",
    "- After one iteration, the test expression is checked again. \n",
    "\n",
    "- This process continues until the test_expression evaluates to ```False```.\n",
    "\n",
    "![while](images/while.png)\n"
   ]
  },
  {
   "cell_type": "markdown",
   "metadata": {},
   "source": [
    "<font size=\"5\"> \n",
    "\n",
    "**Example:** sum natural numbers until the value of the sum is larger than 100."
   ]
  },
  {
   "cell_type": "code",
   "execution_count": 7,
   "metadata": {},
   "outputs": [
    {
     "name": "stdout",
     "output_type": "stream",
     "text": [
      "yes\n"
     ]
    }
   ],
   "source": [
    "if 2>1:\n",
    "    print('yes')\n"
   ]
  },
  {
   "cell_type": "code",
   "execution_count": 12,
   "metadata": {},
   "outputs": [
    {
     "name": "stdout",
     "output_type": "stream",
     "text": [
      "0 the sum is: 0\n",
      "1 the sum is: 1\n",
      "2 the sum is: 3\n",
      "3 the sum is: 6\n",
      "4 the sum is: 10\n",
      "5 the sum is: 15\n",
      "6 the sum is: 21\n",
      "7 the sum is: 28\n",
      "8 the sum is: 36\n",
      "9 the sum is: 45\n",
      "10 the sum is: 55\n",
      "11 the sum is: 66\n",
      "12 the sum is: 78\n",
      "13 the sum is: 91\n"
     ]
    }
   ],
   "source": [
    "sum = 0\n",
    "for i in range(100):\n",
    "    sum += i\n",
    "    if sum > 100:\n",
    "        break\n",
    "    print(i, 'the sum is:', sum)\n",
    "        \n"
   ]
  },
  {
   "cell_type": "code",
   "execution_count": 8,
   "metadata": {},
   "outputs": [
    {
     "name": "stdout",
     "output_type": "stream",
     "text": [
      "value of i: 1 sum= 0\n",
      "value of i: 2 sum= 1\n",
      "value of i: 3 sum= 3\n",
      "value of i: 4 sum= 6\n",
      "value of i: 5 sum= 10\n",
      "value of i: 6 sum= 15\n",
      "value of i: 7 sum= 21\n",
      "value of i: 8 sum= 28\n",
      "value of i: 9 sum= 36\n",
      "value of i: 10 sum= 45\n",
      "value of i: 11 sum= 55\n",
      "value of i: 12 sum= 66\n",
      "value of i: 13 sum= 78\n",
      "value of i: 14 sum= 91\n"
     ]
    }
   ],
   "source": [
    "sum = 0\n",
    "i = 1\n",
    "while sum <= 100:\n",
    "    print('value of i:',i, 'sum=', sum)\n",
    "    sum = sum + i\n",
    "    i = i + 1\n"
   ]
  },
  {
   "cell_type": "code",
   "execution_count": 14,
   "metadata": {},
   "outputs": [
    {
     "data": {
      "text/plain": [
       "105"
      ]
     },
     "execution_count": 14,
     "metadata": {},
     "output_type": "execute_result"
    }
   ],
   "source": [
    "sum"
   ]
  },
  {
   "cell_type": "markdown",
   "metadata": {},
   "source": [
    "## <span style=\"color:darkblue\"> The break statement </span>\n",
    "\n",
    "<font size=\"5\"> \n",
    "\n",
    "- The break statement can alter the flow of a normal loop including for and while loops.\n",
    "\n",
    "- The break statement terminates the loop containing it.\n",
    "\n",
    "-  The program flows to the statement immediately after the body of the loop.\n",
    "\n",
    "![break](images/break.png)"
   ]
  },
  {
   "cell_type": "markdown",
   "metadata": {},
   "source": [
    "<font size=\"5\"> \n",
    "\n",
    "**Break statement: Python Syntax**\n",
    "\n",
    "![break_loop](images/break_loop.png)"
   ]
  },
  {
   "cell_type": "markdown",
   "metadata": {},
   "source": [
    "<font size=\"5\"> \n",
    "\n",
    "**Example with while loop:** for all possible numbers ```n``` between 1 and 100 compute and print the value 1/n only if the fraction is larger than 0.05\n"
   ]
  },
  {
   "cell_type": "code",
   "execution_count": 25,
   "metadata": {},
   "outputs": [
    {
     "name": "stdout",
     "output_type": "stream",
     "text": [
      "1.0\n",
      "0.5\n",
      "0.3333333333333333\n",
      "0.25\n",
      "0.2\n",
      "0.16666666666666666\n",
      "0.14285714285714285\n",
      "0.125\n",
      "0.1111111111111111\n",
      "0.1\n",
      "0.09090909090909091\n",
      "0.08333333333333333\n",
      "0.07692307692307693\n",
      "0.07142857142857142\n",
      "0.06666666666666667\n",
      "0.0625\n",
      "0.058823529411764705\n",
      "0.05555555555555555\n",
      "0.05263157894736842\n"
     ]
    }
   ],
   "source": [
    "n = 1 \n",
    "while n<=100:\n",
    "    if 1/n<=0.05:\n",
    "        break\n",
    "    print(1/n)\n",
    "    n += 1"
   ]
  },
  {
   "cell_type": "markdown",
   "metadata": {},
   "source": [
    "<font size=\"5\"> \n",
    "\n",
    "**Example with a for loop:** print each character in the string ```'string'``` until the first time the letter ```'i'``` appears"
   ]
  },
  {
   "cell_type": "code",
   "execution_count": 1,
   "metadata": {},
   "outputs": [
    {
     "name": "stdout",
     "output_type": "stream",
     "text": [
      "s\n",
      "t\n",
      "r\n",
      "i\n"
     ]
    }
   ],
   "source": [
    "s = 'string'\n",
    "for c in s:\n",
    "    print(c)\n",
    "    if c == 'i':\n",
    "        break"
   ]
  }
 ],
 "metadata": {
  "kernelspec": {
   "display_name": "Python 3.8.5 ('base')",
   "language": "python",
   "name": "python3"
  },
  "language_info": {
   "codemirror_mode": {
    "name": "ipython",
    "version": 3
   },
   "file_extension": ".py",
   "mimetype": "text/x-python",
   "name": "python",
   "nbconvert_exporter": "python",
   "pygments_lexer": "ipython3",
   "version": "3.8.5"
  },
  "orig_nbformat": 4,
  "vscode": {
   "interpreter": {
    "hash": "9fbb33e86ca55080a202fed700efde3fb4ffe3f46131e5b52201b9ba06ce5f72"
   }
  }
 },
 "nbformat": 4,
 "nbformat_minor": 2
}
