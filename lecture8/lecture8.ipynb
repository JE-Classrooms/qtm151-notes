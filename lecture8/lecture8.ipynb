{
 "cells": [
  {
   "cell_type": "markdown",
   "metadata": {},
   "source": [
    "## <span style=\"color:darkblue\"> Class Review </span>\n",
    "\n",
    "<font size=\"5\"> \n",
    "\n",
    "Today we are finishing **Module 2**. So far we have covered:\n",
    "\n",
    "1. Numbers, arithmetic and numpy math functions\n",
    "2. Lists and numpy arrays: storing sequences of data\n",
    "3. For loops\n",
    "4. **If-elif-else** statements "
   ]
  },
  {
   "cell_type": "markdown",
   "metadata": {},
   "source": [
    "## <span style=\"color:darkblue\"> Today: while loop, if and break statements </span>\n",
    "\n",
    "<font size=\"5\"> \n",
    "\n",
    "- Introduce while loops syntax and examples\n",
    "\n",
    "- Combine while loops with the if and break statements \n",
    "\n",
    "- **Last 15 minutes:** while, if and break class exercises"
   ]
  },
  {
   "cell_type": "markdown",
   "metadata": {},
   "source": [
    "## <span style=\"color:darkblue\"> The while loop </span>\n",
    "\n",
    "<font size=\"5\"> \n",
    "\n",
    "- The while loop in Python is used to iterate over a block of code as long as the test expression (condition) is true. \n",
    "\n",
    "- **Main difference with the for loop:** we generally use this loop when we don't know the number of times to iterate beforehand."
   ]
  },
  {
   "cell_type": "markdown",
   "metadata": {},
   "source": [
    "<font size=\"5\"> \n",
    "\n",
    "**While loop statement: Python Syntax**\n",
    "\n",
    "``` python\n",
    "    while test_expression:\n",
    "        Body of while\n",
    "```\n",
    "\n",
    "\n",
    "\n",
    "- The while loop checks the test expression first. \n",
    "\n",
    "- The body of the loop is entered only if the test_expression evaluates to ```True```. \n",
    "\n",
    "- After one iteration, the test expression is checked again. \n",
    "\n",
    "- This process continues until the test_expression evaluates to ```False```.\n",
    "\n",
    "![while](images/while.png)\n"
   ]
  },
  {
   "cell_type": "markdown",
   "metadata": {},
   "source": [
    "<font size=\"5\"> \n",
    "\n",
    "**Example:** sum natural numbers until the value of the sum is larger than 100."
   ]
  },
  {
   "cell_type": "code",
   "execution_count": null,
   "metadata": {},
   "outputs": [],
   "source": []
  },
  {
   "cell_type": "markdown",
   "metadata": {},
   "source": [
    "## <span style=\"color:darkblue\"> The break statement </span>\n",
    "\n",
    "<font size=\"5\"> \n",
    "\n",
    "- The break statement can alter the flow of a normal loop including for and while loops.\n",
    "\n",
    "- The break statement terminates the loop containing it.\n",
    "\n",
    "-  The program flows to the statement immediately after the body of the loop.\n",
    "\n",
    "![break](images/break.png)"
   ]
  },
  {
   "cell_type": "markdown",
   "metadata": {},
   "source": [
    "<font size=\"5\"> \n",
    "\n",
    "**Break statement: Python Syntax**\n",
    "\n",
    "![break_loop](images/break_loop.png)"
   ]
  },
  {
   "cell_type": "markdown",
   "metadata": {},
   "source": [
    "<font size=\"5\"> \n",
    "\n",
    "**Example with while loop:** for all possible numbers ```n``` between 1 and 100 compute and print the value 1/n only if the fraction is larger than 0.05\n"
   ]
  },
  {
   "cell_type": "code",
   "execution_count": null,
   "metadata": {},
   "outputs": [],
   "source": []
  },
  {
   "cell_type": "markdown",
   "metadata": {},
   "source": [
    "<font size=\"5\"> \n",
    "\n",
    "**Example with a for loop:** print each character in the string ```'string'``` until the first time the letter ```'i'``` appears"
   ]
  },
  {
   "cell_type": "code",
   "execution_count": null,
   "metadata": {},
   "outputs": [],
   "source": []
  }
 ],
 "metadata": {
  "kernelspec": {
   "display_name": "Python 3.8.5 ('base')",
   "language": "python",
   "name": "python3"
  },
  "language_info": {
   "codemirror_mode": {
    "name": "ipython",
    "version": 3
   },
   "file_extension": ".py",
   "mimetype": "text/x-python",
   "name": "python",
   "nbconvert_exporter": "python",
   "pygments_lexer": "ipython3",
   "version": "3.8.5"
  },
  "orig_nbformat": 4,
  "vscode": {
   "interpreter": {
    "hash": "9fbb33e86ca55080a202fed700efde3fb4ffe3f46131e5b52201b9ba06ce5f72"
   }
  }
 },
 "nbformat": 4,
 "nbformat_minor": 2
}
