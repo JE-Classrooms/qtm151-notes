{
 "cells": [
  {
   "cell_type": "markdown",
   "metadata": {},
   "source": [
    "# Module 5: Data Manipulation with SQL"
   ]
  },
  {
   "cell_type": "markdown",
   "metadata": {},
   "source": [
    "## <span style=\"color:darkblue\"> Today: </span>\n",
    "\n",
    "<font size=\"5\"> \n",
    "\n",
    "- How to create tables in a databse using CSV files\n",
    "\n",
    "- Select, filter and sort\n"
   ]
  },
  {
   "cell_type": "markdown",
   "metadata": {},
   "source": [
    "## <span style=\"color:darkblue\"> Create three tables in the formula1 database </span>\n",
    "\n",
    "### 1. Constructors table\n",
    "\n",
    "``` sql\n",
    "    CREATE TABLE f1_tables.constructors(\n",
    "        constructorId int PRIMARY KEY NOT NULL,\n",
    "        constructorRef varchar(30),\n",
    "        name varchar(30),\n",
    "        nationality varchar(30)\n",
    "    );\n",
    "```"
   ]
  },
  {
   "cell_type": "markdown",
   "metadata": {},
   "source": [
    "### 2. Constructors Results table\n",
    "\n",
    "``` sql\n",
    "    CREATE TABLE f1_tables.constructor_results(\n",
    "        constructorResultsId int PRIMARY KEY NOT NULL,\n",
    "        raceId int,\n",
    "        constructorId int,\n",
    "        points float\n",
    "    );\n",
    "```"
   ]
  },
  {
   "cell_type": "markdown",
   "metadata": {},
   "source": [
    "## <span style=\"color:darkblue\"> 1. Selecting </span>\n",
    "\n",
    "<font size=\"5\"> \n",
    "\n",
    "- Selecting in SQL is how you can choose a portion of data from a database.\n",
    "\n",
    "- SQL keywords are generally written using all upper case, while column names and table names use lower case.\n",
    "\n",
    "- The keyword to select data is ```SELECT```\n",
    "\n",
    "- You can select all columns, subset of columns and subsets of rows\n",
    "\n",
    "- The symbol ```*``` is a shorthand denoting \"all columns\"\n",
    "\n",
    "- You can use the keyword ```LIMIT``` to select the number of rows you want to show \n",
    "\n",
    "- **Example:** (1) select the first 5 rows and all the columns from the table constructors (2) select only the constructorId and points from the constructor_results table\n",
    "\n"
   ]
  },
  {
   "cell_type": "markdown",
   "metadata": {},
   "source": [
    "## <span style=\"color:darkblue\"> Selecting aggregate operation on columns</span>\n",
    "\n",
    "<font size=\"5\"> \n",
    "\n",
    "- In addition to selecting just columns, you can also perform aggregate operations on those columns \n",
    "\n",
    "- **Example:** \n",
    "\n",
    "1. select the total number of rows, the sum of all points, and the average point from the constructor_results table\n",
    "\n",
    "2. give a name to the newly created average column (use the keyword ```AS```)"
   ]
  },
  {
   "cell_type": "markdown",
   "metadata": {},
   "source": [
    "## <span style=\"color:darkblue\"> 2. Filtering </span>\n",
    "\n",
    "<font size=\"5\"> \n",
    "\n",
    "- We can filter data to look at only a subset of rows based on a column condition\n",
    "\n",
    "- Filtering data in SQL is as simple as using the ```WHERE``` keyword\n",
    "\n",
    "**Example 1:** write a query to find the **unique** raceId of the constructors achieving less points than the average 3.7 (use the keyword ```DISTINCT```)\n",
    "\n",
    "**Example 2:** write a query to find the name of the first 5 Italian constructors (use the ```LIMIT``` keyword)\n",
    "\n",
    "- You can filter for different conditions using the keywords ```AND``` and ```OR```\n",
    "\n",
    "**Example 3:** write a query to find the constructors with IDs 1 and 2"
   ]
  },
  {
   "cell_type": "markdown",
   "metadata": {},
   "source": [
    "## <span style=\"color:darkblue\"> 3. Sorting </span>\n",
    "\n",
    "<font size=\"5\">\n",
    "\n",
    "- You can use the ```ORDER BY``` keyword to sort the rows returned by the query by whatever criteria you like\n",
    "\n",
    "- The column name after the ```ORDER BY``` clause specifies which column to use as the sorting key\n",
    "\n",
    "- To specify whether you want the rows sorted increasingly (lowest to highest, A-Z) or decreasingly (highest to lowest, Z-A), use the ```ASC``` (ascending) and ```DESC``` (descending) keywords respectively\n",
    "\n",
    "- You can also order by multiple columns: the resulting rows will be ordered by the values in the specified columns, ordered by the first specified column, then the second specified column, and so forth\n",
    "\n",
    "**Example 1:** show the constructorId starting with those with more points to those with less points\n",
    "\n",
    "**Example 2:** what is the name for the three constructors with the most points? "
   ]
  }
 ],
 "metadata": {
  "kernelspec": {
   "display_name": "Python 3.9.0 ('multilayer')",
   "language": "python",
   "name": "python3"
  },
  "language_info": {
   "name": "python",
   "version": "3.9.0"
  },
  "orig_nbformat": 4,
  "vscode": {
   "interpreter": {
    "hash": "11838f79d2aaadbfa3a2adfaf35bacdebdb4e8d9b63957ddf298964812544a76"
   }
  }
 },
 "nbformat": 4,
 "nbformat_minor": 2
}
