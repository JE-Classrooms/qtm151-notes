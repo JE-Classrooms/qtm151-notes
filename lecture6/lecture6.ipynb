{
 "cells": [
  {
   "cell_type": "markdown",
   "metadata": {},
   "source": [
    "## <span style=\"color:darkblue\"> Class Review </span>\n",
    "\n",
    "<font size=\"5\"> \n",
    "\n",
    "- We talked about **lists** and **for loops**\n",
    "\n",
    "- We covered list methods and explained the structure and meaning of a for loop\n",
    "\n",
    "- **Questions?**"
   ]
  },
  {
   "cell_type": "markdown",
   "metadata": {},
   "source": [
    "## <span style=\"color:darkblue\"> Today: arrays, more for loops example and quiz simulation (extra points) </span>\n",
    "\n",
    "<font size=\"5\"> \n",
    "\n",
    "**Learning Objectives:**\n",
    "\n",
    "- What are arrays? What are the main differences before lists and arrays\n",
    "\n",
    "- Use list and arrays to store the results of for loop tasks\n",
    "\n",
    "**During the last 15 minutes of class**\n",
    "\n",
    "- Accept, clone, solve and push a quiz \n",
    "\n",
    "- You can talk and ask questions to each other \n",
    "\n",
    "- I will grade the quizzes. Students with 100% of correct answers get +2 points in any quiz they choose"
   ]
  },
  {
   "cell_type": "markdown",
   "metadata": {},
   "source": [
    "## <span style=\"color:darkblue\"> Arrays </span>\n",
    "\n",
    "<font size=\"5\"> \n",
    "\n",
    "- We’ve already seen that the **Numpy** library provides math functions (for example ```np.exp()``` and ```np.log()```) \n",
    "\n",
    "- **Numpy** also provides a type of sequence call **array**\n",
    "\n",
    "- You can create a new array with the ```np.array``` function, starting with a list "
   ]
  },
  {
   "cell_type": "markdown",
   "metadata": {},
   "source": [
    "<font size=\"5\"> \n",
    "\n",
    "**Example:**\n",
    "\n",
    "![prices](images/prices.png)"
   ]
  },
  {
   "cell_type": "code",
   "execution_count": 5,
   "metadata": {},
   "outputs": [],
   "source": [
    "name_list = [\n",
    "    'Lobster roll',\n",
    "    'Chicken caesar',\n",
    "    'Bang bang chicken',\n",
    "    'Ham and cheese',\n",
    "    'Tuna and cucumber',\n",
    "    'Egg'\n",
    "]\n",
    "\n",
    "boston_price_list = [9.99, 7.99, 7.49, 7.00, 6.29, 4.99]\n",
    "london_price_list = [7.5, 5, 4.4, 5, 3.75, 2.25]"
   ]
  },
  {
   "cell_type": "markdown",
   "metadata": {},
   "source": [
    "<font size=\"5\"> \n",
    "\n",
    "Let's create an array containing Boston prices"
   ]
  },
  {
   "cell_type": "code",
   "execution_count": 8,
   "metadata": {},
   "outputs": [
    {
     "data": {
      "text/plain": [
       "array([9.99, 7.99, 7.49, 7.  , 6.29, 4.99])"
      ]
     },
     "execution_count": 8,
     "metadata": {},
     "output_type": "execute_result"
    }
   ],
   "source": [
    "import numpy as np\n",
    "\n",
    "np.array(boston_price_list)"
   ]
  },
  {
   "cell_type": "code",
   "execution_count": 14,
   "metadata": {},
   "outputs": [
    {
     "data": {
      "text/plain": [
       "dtype('float64')"
      ]
     },
     "execution_count": 14,
     "metadata": {},
     "output_type": "execute_result"
    }
   ],
   "source": []
  },
  {
   "cell_type": "markdown",
   "metadata": {},
   "source": [
    "<font size=\"5\"> \n",
    "\n",
    "We can also create arrays without **explicitly** defining a list before"
   ]
  },
  {
   "cell_type": "code",
   "execution_count": null,
   "metadata": {},
   "outputs": [],
   "source": []
  },
  {
   "cell_type": "markdown",
   "metadata": {},
   "source": [
    "<font size=\"5\"> \n",
    "\n",
    "Numpy arrays are in general ```numpy.ndarray```"
   ]
  },
  {
   "cell_type": "code",
   "execution_count": null,
   "metadata": {},
   "outputs": [],
   "source": []
  },
  {
   "cell_type": "markdown",
   "metadata": {},
   "source": [
    "<font size=\"5\"> \n",
    "\n",
    "- The \"nd\" stands for \"n-dimensional\", which indicates that NumPy arrays can have any number of dimensions. But for now we will work with one-dimensional sequences\n",
    "\n",
    "- You can also display the \"data type\" of the array, which is the type of the elements:"
   ]
  },
  {
   "cell_type": "code",
   "execution_count": null,
   "metadata": {},
   "outputs": [],
   "source": []
  },
  {
   "cell_type": "markdown",
   "metadata": {},
   "source": [
    "<font size=\"5\"> \n",
    "\n",
    "Here is an example of an array with only strings"
   ]
  },
  {
   "cell_type": "code",
   "execution_count": null,
   "metadata": {},
   "outputs": [],
   "source": []
  },
  {
   "cell_type": "markdown",
   "metadata": {},
   "source": [
    "<font size=\"5\"> \n",
    "\n",
    "The main **difference** between an array and a list is that arrays **cannot** store sequences of mixed types "
   ]
  },
  {
   "cell_type": "code",
   "execution_count": null,
   "metadata": {},
   "outputs": [],
   "source": []
  },
  {
   "cell_type": "markdown",
   "metadata": {},
   "source": [
    "<font size=\"5\"> \n",
    "\n",
    "**Exercise:**\n",
    "\n",
    "1. Create three ```np.arrays``` with the sandwich prices for London, Boston and Atlanta (I made up the numbers for Atlanta)\n",
    "\n",
    "    ```atlanta_price_list = [5.5, 2, 2.4, 6, 1.75, 3.25]```\n",
    "\n",
    "2. Calculate the standard deviations for the sandwich prices in the three cities. Which city has the prices with the lowest standard deviation?"
   ]
  },
  {
   "cell_type": "code",
   "execution_count": 15,
   "metadata": {},
   "outputs": [],
   "source": [
    "import numpy as np\n",
    "boston_price_list = [9.99, 7.99, 7.49, 7.00, 6.29, 4.99]\n",
    "london_price_list = [7.5, 5, 4.4, 5, 3.75, 2.25]\n",
    "atlanta_price_list = [5.5, 2, 2.4, 6, 1.75, 3.25]\n",
    "\n",
    "array_boston = np.array(boston_price_list)\n",
    "array_london = np.array(london_price_list)\n",
    "array_atlanta = np.array(atlanta_price_list)"
   ]
  },
  {
   "cell_type": "code",
   "execution_count": 18,
   "metadata": {},
   "outputs": [],
   "source": [
    "prices = [array_boston, array_london, array_atlanta]"
   ]
  },
  {
   "cell_type": "code",
   "execution_count": 32,
   "metadata": {},
   "outputs": [
    {
     "data": {
      "text/plain": [
       "array([9.99, 7.99, 7.49, 7.  , 6.29, 4.99])"
      ]
     },
     "execution_count": 32,
     "metadata": {},
     "output_type": "execute_result"
    }
   ],
   "source": [
    "prices[0]"
   ]
  },
  {
   "cell_type": "code",
   "execution_count": 24,
   "metadata": {},
   "outputs": [
    {
     "data": {
      "text/plain": [
       "3"
      ]
     },
     "execution_count": 24,
     "metadata": {},
     "output_type": "execute_result"
    }
   ],
   "source": [
    "len(prices)"
   ]
  },
  {
   "cell_type": "code",
   "execution_count": 34,
   "metadata": {},
   "outputs": [
    {
     "name": "stdout",
     "output_type": "stream",
     "text": [
      "[9.99 7.99 7.49 7.   6.29 4.99]\n",
      "[7.5  5.   4.4  5.   3.75 2.25]\n",
      "[5.5  2.   2.4  6.   1.75 3.25]\n"
     ]
    }
   ],
   "source": [
    "for x in prices:\n",
    "    print(x)"
   ]
  },
  {
   "cell_type": "code",
   "execution_count": 35,
   "metadata": {},
   "outputs": [
    {
     "data": {
      "text/plain": [
       "3"
      ]
     },
     "execution_count": 35,
     "metadata": {},
     "output_type": "execute_result"
    }
   ],
   "source": [
    "len(prices)"
   ]
  },
  {
   "cell_type": "code",
   "execution_count": 33,
   "metadata": {},
   "outputs": [
    {
     "name": "stdout",
     "output_type": "stream",
     "text": [
      "[9.99 7.99 7.49 7.   6.29 4.99]\n",
      "[7.5  5.   4.4  5.   3.75 2.25]\n",
      "[5.5  2.   2.4  6.   1.75 3.25]\n"
     ]
    }
   ],
   "source": [
    "for x in range(len(prices)):\n",
    "    print(prices[x])"
   ]
  },
  {
   "cell_type": "code",
   "execution_count": 2,
   "metadata": {},
   "outputs": [],
   "source": [
    "stds = []\n",
    "for price in prices:\n",
    "    stds.append(np.array(price).std())"
   ]
  },
  {
   "cell_type": "code",
   "execution_count": 3,
   "metadata": {},
   "outputs": [
    {
     "data": {
      "text/plain": [
       "[1.5380769017040583, 1.5811388300841898, 1.6749792701868151]"
      ]
     },
     "execution_count": 3,
     "metadata": {},
     "output_type": "execute_result"
    }
   ],
   "source": [
    "stds"
   ]
  }
 ],
 "metadata": {
  "kernelspec": {
   "display_name": "Python 3.9.0 ('multilayer')",
   "language": "python",
   "name": "python3"
  },
  "language_info": {
   "codemirror_mode": {
    "name": "ipython",
    "version": 3
   },
   "file_extension": ".py",
   "mimetype": "text/x-python",
   "name": "python",
   "nbconvert_exporter": "python",
   "pygments_lexer": "ipython3",
   "version": "3.9.0"
  },
  "orig_nbformat": 4,
  "vscode": {
   "interpreter": {
    "hash": "11838f79d2aaadbfa3a2adfaf35bacdebdb4e8d9b63957ddf298964812544a76"
   }
  }
 },
 "nbformat": 4,
 "nbformat_minor": 2
}
