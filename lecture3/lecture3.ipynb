{
 "cells": [
  {
   "cell_type": "markdown",
   "metadata": {
    "slideshow": {
     "slide_type": "slide"
    }
   },
   "source": [
    "## <span style=\"color:darkblue\"> GitHub Classroom, AWS Academy and Jupyter Notebooks  </span> \n",
    "\n",
    "<font size=\"5\"> \n",
    "\n",
    "**Learning Objectives:** \n",
    "\n",
    "1. What is the basic idea of cloud computing and AWS Academy?\n",
    "\n",
    "2. How to login to AWS Academy and access the Learner Lab?\n",
    "\n",
    "3. How to create and use a Notebook Instance in Amazon Sagemaker?\n",
    "\n",
    "4. How to accept Assignments with GitHub Classroom?\n",
    "\n",
    "5. How to clone the repositories from GitHub Classroom Assignments to a Notebook Instance?\n",
    "\n",
    "6. How to perform the GitHub workflow (add, commit, push) in a Notebook Instance?"
   ]
  },
  {
   "cell_type": "markdown",
   "metadata": {
    "slideshow": {
     "slide_type": "slide"
    }
   },
   "source": [
    "### <span style=\"color:darkblue\"> We are moving from the local to the cloud workflow </span> \n",
    "\n",
    "\n",
    "![cloud](images/cloud.png)"
   ]
  },
  {
   "cell_type": "markdown",
   "metadata": {
    "slideshow": {
     "slide_type": "slide"
    }
   },
   "source": [
    "### <span style=\"color:darkblue\"> What is cloud computing  </span> \n",
    "\n",
    "<font size=\"5\"> \n",
    "\n",
    "- On demand delivery of computing resources over the internet\n",
    "\n",
    "- The idea is that instead of **buying, owning, and maintaining** physical data centers and servers, you can access technology services on an as-need basis:\n",
    "\n",
    "    (1) computing power\n",
    "\n",
    "    (2) storage\n",
    "    \n",
    "    (3) databases"
   ]
  },
  {
   "cell_type": "markdown",
   "metadata": {
    "slideshow": {
     "slide_type": "slide"
    }
   },
   "source": [
    "### <span style=\"color:darkblue\"> Who is using cloud computing  </span> \n",
    "\n",
    "<font size=\"5\">\n",
    "\n",
    "- Organizations of every type, size, and industry are using the cloud for a wide variety of use cases:\n",
    "\n",
    "    (1) data backup\n",
    "\n",
    "    (2) disaster recovery\n",
    "\n",
    "    (3) virtual desktops\n",
    "\n",
    "    (4) software development and testing\n",
    "\n",
    "    (5) big data analytics"
   ]
  },
  {
   "cell_type": "markdown",
   "metadata": {
    "slideshow": {
     "slide_type": "slide"
    }
   },
   "source": [
    "<font size=\"5\">\n",
    "\n",
    "- **Examples:**\n",
    "\n",
    "    (1) Healthcare companies are using the cloud to develop more personalized treatments for patient\n",
    "    \n",
    "    (2) Financial services companies are using the cloud to power real-time fraud detection and prevention\n",
    "\n",
    "    (3) Video game makers are using the cloud to deliver online games to millions of players around the world"
   ]
  },
  {
   "cell_type": "markdown",
   "metadata": {
    "slideshow": {
     "slide_type": "slide"
    }
   },
   "source": [
    "### <span style=\"color:darkblue\"> Important cloud computing providers </span> \n",
    "\n",
    "![cloud3](images/cloud3.png)"
   ]
  },
  {
   "cell_type": "markdown",
   "metadata": {
    "slideshow": {
     "slide_type": "slide"
    }
   },
   "source": [
    "### <span style=\"color:darkblue\"> AWS Academy </span> \n",
    "\n",
    "<font size=\"5\">\n",
    "\n",
    "- **Objective:** empower higher education institutions to prepare students for industry-recognized certifications and careers in the cloud\n",
    "\n",
    "- Provide access to many cloud courses \n",
    "\n",
    "- For students they consider their benefits to be\n",
    "\n",
    "    - Land a well-paid job in one of the fastest-growing industries\n",
    "    - Gain skills hiring managers value\n",
    "    - Receive 50% discounts on AWS Certification exams\n",
    "    - Exclusive access to the Emerging Talent Community upon course completion"
   ]
  },
  {
   "cell_type": "markdown",
   "metadata": {
    "slideshow": {
     "slide_type": "slide"
    }
   },
   "source": [
    "<font size=\"5\">\n",
    "\n",
    "- In our class we will only use the **Learner Lab:**  it provides a long-running sandbox environment for the exploration of AWS services\n",
    "\n",
    "- I added you all as students in my QTM151 learner lab class\n",
    "\n",
    "- To access the class, let's go through the following process:"
   ]
  },
  {
   "cell_type": "markdown",
   "metadata": {
    "slideshow": {
     "slide_type": "slide"
    }
   },
   "source": [
    "<font size=\"5\">\n",
    "1. Open the AWS Academy email and click on Get Started\n",
    "\n",
    "![awsa1](images/awsa1.png)"
   ]
  },
  {
   "cell_type": "markdown",
   "metadata": {
    "slideshow": {
     "slide_type": "slide"
    }
   },
   "source": [
    "<font size=\"5\">\n",
    "2. Click on Student Login\n",
    "\n",
    "![awsa2](images/awsa2.png)"
   ]
  },
  {
   "cell_type": "markdown",
   "metadata": {
    "slideshow": {
     "slide_type": "slide"
    }
   },
   "source": [
    "<font size=\"5\">\n",
    "3. Click on Create My Account\n",
    "\n",
    "![awsa3](images/awsa3.png)"
   ]
  },
  {
   "cell_type": "markdown",
   "metadata": {
    "slideshow": {
     "slide_type": "slide"
    }
   },
   "source": [
    "<font size=\"5\">\n",
    "4. Click on Register\n",
    "\n",
    "![awsa4](images/awsa4.png)"
   ]
  },
  {
   "cell_type": "markdown",
   "metadata": {
    "slideshow": {
     "slide_type": "slide"
    }
   },
   "source": [
    "<font size=\"5\">\n",
    "5. Accept the class\n",
    "\n",
    "![awsa5](images/awsa5.png)"
   ]
  },
  {
   "cell_type": "markdown",
   "metadata": {
    "slideshow": {
     "slide_type": "slide"
    }
   },
   "source": [
    "<font size=\"5\">\n",
    "\n",
    "Explore the AWS Academy Canvas! Important considerations:\n",
    "\n",
    "1. how to connect to the Lab?\n",
    "\n",
    "2. If you go over the budget you cannot connect to the lab again!\n",
    "\n",
    "3. You have a limit of 4 hours, but you can restart the timer if you need to\n"
   ]
  },
  {
   "cell_type": "markdown",
   "metadata": {
    "slideshow": {
     "slide_type": "slide"
    }
   },
   "source": [
    "<font size=\"5\">\n",
    "\n",
    "- We will use the [Amazon Sagemaker](https://aws.amazon.com/pm/sagemaker/?trk=8987dd52-6f33-407a-b89b-a7ba025c913c&sc_channel=ps&s_kwcid=AL!4422!3!532502995192!e!!g!!amazon%20sagemaker&ef_id=CjwKCAjwx7GYBhB7EiwA0d8oe9YnUFSGhhvHmXkKIC1KDdXfc4r18cs7tNhYgCZ2IFEJ17ElFg9tlxoCa0MQAvD_BwE:G:s&s_kwcid=AL!4422!3!532502995192!e!!g!!amazon%20sagemaker) solution \n",
    "\n",
    "- Sagemaker makes it easier to get started with cloud computing by providing solutions that can be deployed with just a few clicks\n",
    "\n",
    "- Sagemaker is also a convenient option because it is part of the AWS Free Tier program \n",
    "\n",
    "- There are other products that you can explore but we will not cover such as the EC2 instances "
   ]
  },
  {
   "cell_type": "markdown",
   "metadata": {
    "slideshow": {
     "slide_type": "slide"
    }
   },
   "source": [
    "### <span style=\"color:darkblue\"> Creating a Notebook Instance in Sagemaker </span> \n",
    "\n",
    "<font size=\"5\">\n",
    "\n",
    "1. Open the lab and click the AWS link to get to the AWS console \n",
    "\n",
    "2. In the AWS console search for Amazon Sagemaker. When you get into Sagemaker, here is what you should see:\n",
    "\n",
    "![sagemaker1](images/sagemaker1.png)"
   ]
  },
  {
   "cell_type": "markdown",
   "metadata": {
    "slideshow": {
     "slide_type": "slide"
    }
   },
   "source": [
    "<font size=\"5\">\n",
    "\n",
    "3. Click in Notebook Instances\n",
    "\n",
    "4. Click in Create notebook instance and follow the process\n",
    "\n",
    "5. Once the status is InService, click on the Open JupyterLab link\n"
   ]
  },
  {
   "cell_type": "markdown",
   "metadata": {
    "slideshow": {
     "slide_type": "slide"
    }
   },
   "source": [
    "### <span style=\"color:darkblue\"> GitHub Classroom </span> \n",
    "\n",
    "<font size=\"5\">\n",
    "\n",
    "- For Assignments and Quizzes I will use the GitHub classroom workflow\n",
    "\n",
    "- I will post the GitHub classroom links for the Assignments and Quizzes on Canvas\n",
    "\n",
    "- The first time you click on one of the GitHub classroom links, you have to go through the following process:"
   ]
  },
  {
   "cell_type": "markdown",
   "metadata": {
    "slideshow": {
     "slide_type": "slide"
    }
   },
   "source": [
    "<font size=\"5\">\n",
    "1. Authorize GitHub Classroom to verify your GitHub identity\n",
    "\n",
    "![ghc1](images/ghc1.png)"
   ]
  },
  {
   "cell_type": "markdown",
   "metadata": {
    "slideshow": {
     "slide_type": "slide"
    }
   },
   "source": [
    "<font size=\"5\">\n",
    "2. Join the Classroom by selecting your name from the list \n",
    "\n",
    "![ghc2](images/ghc2.png)"
   ]
  },
  {
   "cell_type": "markdown",
   "metadata": {
    "slideshow": {
     "slide_type": "slide"
    }
   },
   "source": [
    "<font size=\"5\">\n",
    "\n",
    "**After the first time you click the GitHub Classroom link,** you will start from this part of the process\n",
    "\n",
    "3. Accept the Assignment\n",
    "\n",
    "![ghc3](images/ghc3.png)"
   ]
  },
  {
   "cell_type": "markdown",
   "metadata": {
    "slideshow": {
     "slide_type": "slide"
    }
   },
   "source": [
    "<font size=\"5\">\n",
    "\n",
    "4. Wait for the Assignment repository to be created. Refresh the page to see updates\n",
    "\n",
    "![ghc4](images/ghc4.png)"
   ]
  },
  {
   "cell_type": "markdown",
   "metadata": {
    "slideshow": {
     "slide_type": "slide"
    }
   },
   "source": [
    "<font size=\"5\">\n",
    "\n",
    "5. Get the link for the repository and click it\n",
    "\n",
    "![ghc5](images/ghc5.png)"
   ]
  },
  {
   "cell_type": "markdown",
   "metadata": {
    "slideshow": {
     "slide_type": "slide"
    }
   },
   "source": [
    "<font size=\"5\">\n",
    "\n",
    "6. You have now access to your Assignment's repository and you can clone it \n",
    "\n",
    "![ghc6](images/ghc6.png)"
   ]
  },
  {
   "cell_type": "markdown",
   "metadata": {
    "slideshow": {
     "slide_type": "slide"
    }
   },
   "source": [
    "### <span style=\"color:darkblue\"> Cloning the Assignment Repository to the Notebook Instance </span> \n",
    "\n",
    "<font size=\"5\">\n",
    "\n",
    "- I will use the ```Example of a quiz``` Assignment to show you how to perform the cloning process \n",
    "\n",
    "- Once you accept the Assignment, you will have access to a repo that looks like this:\n",
    "\n",
    "![ghcl1](images/ghcl1.png)"
   ]
  },
  {
   "cell_type": "markdown",
   "metadata": {
    "slideshow": {
     "slide_type": "slide"
    }
   },
   "source": [
    "<font size=\"5\">\n",
    "\n",
    "- To clone the repo, click on the green button: Code, HTTPS and copy the link \n",
    "\n",
    "- With that linked copied, go to your Jupyter lab and click on the Git button to obtain a screen like this:\n",
    "\n",
    "![ghcl2](images/ghcl2.png)"
   ]
  },
  {
   "cell_type": "markdown",
   "metadata": {
    "slideshow": {
     "slide_type": "slide"
    }
   },
   "source": [
    "<font size=\"5\">\n",
    "\n",
    "- Click on Clone a Repository and paste the link you copied from GitHub\n",
    "\n",
    "- You should get a new folder called example-of-a-quiz-(your GitHub ID)\n",
    "\n",
    "- You can now open the Jupyter Notebook in the folder and answer the questions"
   ]
  },
  {
   "cell_type": "markdown",
   "metadata": {
    "slideshow": {
     "slide_type": "slide"
    }
   },
   "source": [
    "### <span style=\"color:darkblue\"> GitHub workflow in the Notebook Instance </span> \n",
    "\n",
    "<font size=\"5\">\n",
    "\n",
    "-  When you are done making changes in the quiz-example.ipynb file, it is then time to submit the answers\n",
    "\n",
    "- The submission process uses the GitHub workflow steps: add, commit and push\n",
    "\n",
    "- After any change, if you click on the Git page, this is how it looks like:\n",
    "\n",
    "![com1](images/commit.png)"
   ]
  },
  {
   "cell_type": "markdown",
   "metadata": {
    "slideshow": {
     "slide_type": "slide"
    }
   },
   "source": [
    "<font size=\"5\">\n",
    "\n",
    "- To add (stage) the changes click on the + symbol next to the changed files (in this case the quiz-example.ipynb)\n",
    "\n",
    "- Then, to commit write a Summary and a Description (for example: final version quiz-example) and click Commit\n",
    "\n",
    "- Enter your Name and Email for the Commit \n",
    "\n",
    "- Finally, to Push Committed changes click on the cloud with the arrow pointing up\n",
    "\n",
    "- For the push we need the GitHub username and a token (I will upload a video on how to use the token to Push the answers)"
   ]
  },
  {
   "cell_type": "markdown",
   "metadata": {
    "slideshow": {
     "slide_type": "slide"
    }
   },
   "source": [
    "## <span style=\"color:darkblue\"> Summary </span>\n",
    "\n",
    "<font size=\"5\">\n",
    "\n",
    "1. We learned the basics of cloud computing and how to create a Notebook Instance using Amazon Sagemaker.\n",
    "\n",
    "2. We learned how to accept and submit Assignment and Quizzes using GitHub Classroom and a Notebook Instance."
   ]
  }
 ],
 "metadata": {
  "celltoolbar": "Slideshow",
  "kernelspec": {
   "display_name": "Python 3 (ipykernel)",
   "language": "python",
   "name": "python3"
  },
  "language_info": {
   "codemirror_mode": {
    "name": "ipython",
    "version": 3
   },
   "file_extension": ".py",
   "mimetype": "text/x-python",
   "name": "python",
   "nbconvert_exporter": "python",
   "pygments_lexer": "ipython3",
   "version": "3.9.0"
  },
  "vscode": {
   "interpreter": {
    "hash": "11838f79d2aaadbfa3a2adfaf35bacdebdb4e8d9b63957ddf298964812544a76"
   }
  }
 },
 "nbformat": 4,
 "nbformat_minor": 2
}
