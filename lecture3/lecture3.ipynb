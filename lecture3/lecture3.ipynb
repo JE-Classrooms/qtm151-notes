{
 "cells": [
  {
   "cell_type": "markdown",
   "metadata": {
    "slideshow": {
     "slide_type": "slide"
    }
   },
   "source": [
    "## <span style=\"color:darkblue\"> Office Hours Anouncements </span>\n",
    "\n",
    "1. If you have questions related to **Virtual Environment Setup or AWS/GitHub Setup**, come to my office (PAIS 572) during office hours on Wednesday. \n",
    "\n",
    "    Steven will be on the Zoom link for any other kind of questions.\n",
    "\n",
    "2. Office hours on **Monday, September 12, will be with me on Zoom** (same link on Canvas) instead of in person."
   ]
  },
  {
   "cell_type": "markdown",
   "metadata": {
    "slideshow": {
     "slide_type": "slide"
    }
   },
   "source": [
    "## <span style=\"color:darkblue\"> Class Review </span>\n",
    "\n",
    "<font size=\"5\"> \n",
    "\n",
    "- We learned how to create a Python project using our local computers: \n",
    "\n",
    "    - Anaconda + Jupyter Lab + GitHub\n",
    "\n",
    "- We learned some basic Terminal commands to use Anaconda and open Jupyter Lab \n",
    "\n",
    "- Basis introduction to Python and how to understand errors"
   ]
  },
  {
   "cell_type": "markdown",
   "metadata": {
    "slideshow": {
     "slide_type": "slide"
    }
   },
   "source": [
    "## <span style=\"color:darkblue\"> From Assignment 3 </span>\n",
    "\n",
    "<font size=\"5\"> \n",
    "\n",
    "- How to connect to AWS and open Jupyter Lab using Amazon SageMaker \n",
    "\n",
    "- How to commit changes from Jupyter Lab to GitHub (including GitHub Classroom)\n",
    "\n",
    "- Understand the workflow to receive and commit your answers for Assignments and Quizzes \n",
    "\n",
    "**Questions??**"
   ]
  },
  {
   "cell_type": "markdown",
   "metadata": {
    "slideshow": {
     "slide_type": "slide"
    }
   },
   "source": [
    "## <span style=\"color:darkblue\"> Some Historical Context </span>\n",
    "\n",
    "<font size=\"5\"> \n",
    "\n",
    "**High Level vs Low Level languages** and **Compiled vs Interpreted languages**\n",
    "\n",
    "- We want to describe how instructions are passed to a computer \n",
    "\n",
    "- An **assembly language** is a programming language that enables a programmer to use human-readable text to write machine code.\n",
    "\n",
    "- When programming modern computers, specific details to the hardware are hidden from the programmer in **low level languages**. For example Intel X86.\n",
    "\n",
    "- **High level languages** are designed to allow humans to efficiently write powerful programs."
   ]
  },
  {
   "cell_type": "markdown",
   "metadata": {
    "slideshow": {
     "slide_type": "slide"
    }
   },
   "source": [
    "![high](images/low-high.png)"
   ]
  },
  {
   "cell_type": "markdown",
   "metadata": {
    "slideshow": {
     "slide_type": "slide"
    }
   },
   "source": [
    "<font size=\"5\"> \n",
    "\n",
    "**Compiled vs Interpreted languages**\n",
    "\n",
    "- **Compilation** is the process of converting human readable code such as C++ into binary instructions.\n",
    "\n",
    "- **Compiled languages:** \n",
    "\n",
    "    1. Write the code \n",
    "    2. Compile the instructions into binary \n",
    "    3. Run the compiled code as many times as you want\n",
    "\n",
    "- **Interpreted languages:** run inside of a program that interprets the commands and executes them immediately\n",
    "\n",
    "- Since the conversion to binary step is happening every time you run the code, interpreted languages are generally slower\n",
    "\n",
    "- If you are interested in learning more about binary computer language follow this [link](https://codelabs-jacobson.s3.us-east-2.amazonaws.com/essential-computer-literacy/index.html#3)"
   ]
  },
  {
   "cell_type": "markdown",
   "metadata": {
    "slideshow": {
     "slide_type": "slide"
    }
   },
   "source": [
    "## <span style=\"color:darkblue\"> Numbers and Arithmetic</span>\n",
    "\n",
    "<font size=\"5\"> \n",
    "\n",
    "- Python provides tools for working with different types of data: including numbers, words, dates, times, and locations (latitude and longitude).\n",
    "\n",
    "- The two most common types of numbers are:\n",
    "\n",
    "    * `int`, which represents integer values like `3`, and\n",
    "\n",
    "    * `float`, which represents numbers that have a fraction part, like `3.14159`."
   ]
  },
  {
   "cell_type": "code",
   "execution_count": null,
   "metadata": {},
   "outputs": [],
   "source": [
    "print('Is this a number:', 3, 'an integer?')"
   ]
  },
  {
   "cell_type": "code",
   "execution_count": null,
   "metadata": {},
   "outputs": [],
   "source": [
    "type(3)"
   ]
  },
  {
   "cell_type": "code",
   "execution_count": null,
   "metadata": {},
   "outputs": [],
   "source": [
    "type(3.14159)"
   ]
  },
  {
   "cell_type": "markdown",
   "metadata": {},
   "source": [
    "<font size=\"5\"> \n",
    "\n",
    "**Arithmetic operators:**\n",
    "\n",
    "- Addition and Subtraction: ```+``` and ```-```\n",
    "\n",
    "- Multiplication  and Division: ```*``` and ```/```\n",
    "\n",
    "- Exponentiation: ```**```"
   ]
  },
  {
   "cell_type": "markdown",
   "metadata": {},
   "source": [
    "<font size=\"5\"> \n",
    "\n",
    "The arithmetic operators follow the rules of precedence you might have learned as \"PEMDAS\":\n",
    "\n",
    "* Parentheses before\n",
    "\n",
    "* Exponentiation before\n",
    "\n",
    "* Multiplication and division before\n",
    "\n",
    "* Addition and subtraction"
   ]
  },
  {
   "cell_type": "code",
   "execution_count": null,
   "metadata": {},
   "outputs": [],
   "source": [
    "1 + 2 * 3"
   ]
  },
  {
   "cell_type": "code",
   "execution_count": null,
   "metadata": {},
   "outputs": [],
   "source": [
    "(1 + 2) 3"
   ]
  },
  {
   "cell_type": "code",
   "execution_count": null,
   "metadata": {},
   "outputs": [],
   "source": [
    "(1 + 2) * 3"
   ]
  },
  {
   "cell_type": "markdown",
   "metadata": {},
   "source": [
    "## <span style=\"color:darkblue\"> Math Functions and Variables</span>\n",
    "\n",
    "<font size=\"5\"> \n",
    "\n",
    "- Python provides functions that compute all the usual mathematical functions, like sin and cos, exp and log\n",
    "\n",
    "- They are not part of Python itself\n",
    "\n",
    "- They are in a library (package): collection of functions that supplement the Python language\n",
    "\n",
    "- We will use the important and widely used package: [Numpy](https://numpy.org/doc/stable/#)"
   ]
  },
  {
   "cell_type": "code",
   "execution_count": null,
   "metadata": {},
   "outputs": [],
   "source": [
    "import numpy as np"
   ]
  },
  {
   "cell_type": "code",
   "execution_count": null,
   "metadata": {},
   "outputs": [],
   "source": [
    "import numPy as np"
   ]
  },
  {
   "cell_type": "markdown",
   "metadata": {},
   "source": [
    "<font size=\"5\"> \n",
    "\n",
    "**Examples of math functions:**"
   ]
  },
  {
   "cell_type": "code",
   "execution_count": null,
   "metadata": {},
   "outputs": [],
   "source": [
    "np.pi"
   ]
  },
  {
   "cell_type": "code",
   "execution_count": null,
   "metadata": {},
   "outputs": [],
   "source": [
    "np.log(1)"
   ]
  },
  {
   "cell_type": "code",
   "execution_count": null,
   "metadata": {},
   "outputs": [],
   "source": [
    "np.exp(1)"
   ]
  },
  {
   "cell_type": "markdown",
   "metadata": {},
   "source": [
    "<font size=\"5\"> \n",
    "\n",
    "- A **variable** is a name that refers to a value. \n",
    "\n",
    "- The following statement assigns the value 5 to a variable named x:"
   ]
  },
  {
   "cell_type": "code",
   "execution_count": null,
   "metadata": {},
   "outputs": [],
   "source": [
    "x = 5"
   ]
  },
  {
   "cell_type": "code",
   "execution_count": null,
   "metadata": {},
   "outputs": [],
   "source": [
    "x"
   ]
  },
  {
   "cell_type": "code",
   "execution_count": null,
   "metadata": {},
   "outputs": [],
   "source": [
    "x + 1"
   ]
  },
  {
   "cell_type": "code",
   "execution_count": null,
   "metadata": {},
   "outputs": [],
   "source": [
    "x**2"
   ]
  },
  {
   "cell_type": "code",
   "execution_count": null,
   "metadata": {},
   "outputs": [],
   "source": [
    "np.exp(x)"
   ]
  },
  {
   "cell_type": "markdown",
   "metadata": {},
   "source": [
    "## <span style=\"color:darkblue\"> Example of a  Quiz</span>"
   ]
  },
  {
   "cell_type": "markdown",
   "metadata": {},
   "source": [
    "## <span style=\"color:darkblue\"> Summary of a  Quiz</span>\n",
    "\n",
    "<font size=\"5\"> \n",
    "\n",
    "- We introduced some historical context about programming languages including: High Level vs Low Level and Compiled vs Interpreted languages\n",
    "\n",
    "- We discussed the numbers data type and the two most important subtypes: integers (int) and float types\n",
    "\n",
    "- We described the basic arithmetic operators and other math functions included in the ```numpy``` package\n",
    "\n",
    "- We talk about how to define variables and use them to calculate equations \n",
    "\n",
    "- We explained how **quizzes work** and gave an example of one"
   ]
  }
 ],
 "metadata": {
  "celltoolbar": "Slideshow",
  "kernelspec": {
   "display_name": "Python 3 (ipykernel)",
   "language": "python",
   "name": "python3"
  },
  "language_info": {
   "codemirror_mode": {
    "name": "ipython",
    "version": 3
   },
   "file_extension": ".py",
   "mimetype": "text/x-python",
   "name": "python",
   "nbconvert_exporter": "python",
   "pygments_lexer": "ipython3",
   "version": "3.9.0"
  },
  "vscode": {
   "interpreter": {
    "hash": "11838f79d2aaadbfa3a2adfaf35bacdebdb4e8d9b63957ddf298964812544a76"
   }
  }
 },
 "nbformat": 4,
 "nbformat_minor": 2
}
