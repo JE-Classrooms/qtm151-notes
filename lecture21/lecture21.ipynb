{
 "cells": [
  {
   "cell_type": "markdown",
   "metadata": {},
   "source": [
    "# Module 6: Data Manipulation with SQL"
   ]
  },
  {
   "cell_type": "markdown",
   "metadata": {},
   "source": [
    "# <span style=\"color:darkblue\"> Last Classes Review: </span>\n",
    "\n",
    "<font size=\"5\"> \n",
    "\n",
    "- How to create tables in a database using CSV files\n",
    "\n",
    "- Select, filter and sort\n",
    "\n",
    "- Statistical plots using Python"
   ]
  },
  {
   "cell_type": "markdown",
   "metadata": {},
   "source": [
    "## <span style=\"color:darkblue\"> Today: </span>\n",
    "\n",
    "<font size=\"5\"> \n",
    "\n",
    "- SQL join statements \n",
    "\n",
    "- Join types and examples\n",
    "\n",
    "- Group by statement"
   ]
  },
  {
   "cell_type": "markdown",
   "metadata": {},
   "source": [
    "## <span style=\"color:darkblue\"> The join statement </span>\n",
    "\n",
    "<font size=\"5\"> \n",
    "\n",
    "We use the SQL join statement to combine data or rows from two or more tables based on a common field between them. Different types of Joins are as follows: \n",
    "\n",
    "- INNER JOIN\n",
    "\n",
    "- LEFT JOIN\n",
    "\n",
    "- RIGHT JOIN\n",
    "\n",
    "- FULL JOIN"
   ]
  },
  {
   "cell_type": "markdown",
   "metadata": {},
   "source": [
    "## <span style=\"color:darkblue\"> 1.1. The Inner Join </span>\n",
    "\n",
    "<font size=\"5\"> \n",
    "\n",
    "- Creates the result-set by combining all rows from both the tables where the condition is satisfied -->  where the values of the common field are the same\n",
    "\n",
    "<img src=\"inner.png\" alt=\"drawing\" width=\"450\"/>\n",
    "\n",
    "```sql\n",
    "SELECT table1.column1, table1.column2, table2.column1, table2.column2, ....\n",
    "FROM table1 \n",
    "INNER JOIN table2\n",
    "ON table1.matching_column = table2.matching_column;\n",
    "```\n",
    "\n",
    "- **table1:** left table.\n",
    "- **table2:** right table\n",
    "- **matching_column:** common column in both tables."
   ]
  },
  {
   "cell_type": "markdown",
   "metadata": {},
   "source": [
    "## <span style=\"color:darkblue\"> 1.2. The Left Join </span>\n",
    "\n",
    "<font size=\"5\"> \n",
    "\n",
    "- Returns all the rows of the table on the **left** side of the join and **matches rows** for the table on the right side of the join\n",
    "\n",
    "- For the rows for which there is no matching row on the right side, the result-set will contain null\n",
    "\n",
    "- LEFT JOIN is also known as LEFT OUTER JOIN\n",
    "\n",
    "<img src=\"left.png\" alt=\"drawing\" width=\"450\"/>\n",
    "\n",
    "```sql\n",
    "SELECT table1.column1, table1.column2, table2.column1, table2.column2, ....\n",
    "FROM table1 \n",
    "LEFT JOIN table2\n",
    "ON table1.matching_column = table2.matching_column;\n",
    "```"
   ]
  },
  {
   "cell_type": "markdown",
   "metadata": {},
   "source": [
    "## <span style=\"color:darkblue\"> 1.3. The Right Join </span>\n",
    "\n",
    "<font size=\"5\"> \n",
    "\n",
    "- Returns all the rows of the table on the **right** side of the join and **matches rows** for the table on the left side of the join\n",
    "\n",
    "- For the rows for which there is no matching row on the left side, the result-set will contain null\n",
    "\n",
    "- RIGHT JOIN is also known as RIGHT OUTER JOIN\n",
    "\n",
    "<img src=\"right.png\" alt=\"drawing\" width=\"550\"/>\n",
    "\n",
    "```sql\n",
    "SELECT table1.column1, table1.column2, table2.column1, table2.column2, ....\n",
    "FROM table1 \n",
    "LEFT JOIN table2\n",
    "ON table1.matching_column = table2.matching_column;\n",
    "```"
   ]
  },
  {
   "cell_type": "markdown",
   "metadata": {},
   "source": [
    "### **Example:**\n",
    "\n",
    "<font size=\"5\"> \n",
    "\n",
    "- There are five drivers with more than three championships: Michael Schumacher (7), Lewis Hamilton (7), Juan Manuel Fangio (5), Alain Prost (4) and Sebastian Vettel (4)\n",
    "\n",
    "- Let's create a new table only containing drivers with more than three championships. We can use the following query:"
   ]
  },
  {
   "cell_type": "markdown",
   "metadata": {},
   "source": [
    "```sql\n",
    "    CREATE TABLE f1_tables.winners\n",
    "    AS\n",
    "    SELECT *\n",
    "    FROM f1_tables.drivers\n",
    "    WHERE (forename = 'Michael' AND surname = 'Schumacher') \n",
    "    OR (forename = 'Michael' AND surname = 'Hamilton') \n",
    "    OR surname = 'Fangio' OR surname = 'Prost' OR surname = 'Vettel'\n",
    "```"
   ]
  },
  {
   "cell_type": "markdown",
   "metadata": {},
   "source": [
    "<font size=\"5\"> \n",
    "\n",
    "1. Perform an ```INNER JOIN``` for the ```results``` and the ```winners``` table. \n",
    "\n",
    "    - How many rows do we have in the resulting table? \n",
    "\n",
    "    - For those rows, how many have null values for the ```driverId``` column in the winners table? (use WHERE driverid IS NULL)\n",
    "\n",
    "2. Perform a ```LEFT JOIN``` and a ```RIGHT JOIN``` for the same tables. How do the results for the previous two questions change?\n"
   ]
  },
  {
   "cell_type": "markdown",
   "metadata": {},
   "source": [
    "**Solutions:**\n",
    "\n",
    "- For question 1\n",
    "\n",
    "```sql\n",
    "    SELECT *\n",
    "    FROM f1_tables.results\n",
    "    INNER JOIN f1_tables.winners\n",
    "    ON results.driverid = winners.driverid; \n",
    "```\n",
    "\n",
    "```sql\n",
    "    SELECT COUNT(*)\n",
    "    FROM f1_tables.results\n",
    "    INNER JOIN f1_tables.winners\n",
    "    ON results.driverid = winners.driverid; \n",
    "```\n",
    "\n",
    "```sql\n",
    "    SELECT COUNT(*)\n",
    "    FROM f1_tables.results\n",
    "    INNER JOIN f1_tables.winners\n",
    "    ON results.driverid = winners.driverid \n",
    "    WHERE winners.driverid IS NULL;\n",
    "```\n",
    "\n",
    "- For question 2 (same for RIGHT JOIN)\n",
    "\n",
    "```sql\n",
    "    SELECT COUNT(*)\n",
    "    FROM f1_tables.results\n",
    "    LEFT JOIN f1_tables.winners\n",
    "    ON results.driverid = winners.driverid; \n",
    "```\n",
    "\n",
    "```sql\n",
    "    SELECT COUNT(*)\n",
    "    FROM f1_tables.results\n",
    "    LEFT JOIN f1_tables.winners\n",
    "    ON results.driverid = winners.driverid \n",
    "    WHERE winners.driverid IS NULL;\n",
    "```\n"
   ]
  },
  {
   "cell_type": "markdown",
   "metadata": {},
   "source": [
    "## <span style=\"color:darkblue\"> 1.4. The Full Join </span>\n",
    "\n",
    "<font size=\"5\"> \n",
    "\n",
    "- FULL JOIN creates the result-set by combining results of both LEFT JOIN and RIGHT JOIN\n",
    "\n",
    "- The result-set will contain all the rows from both tables \n",
    "\n",
    "- For the rows for which there is no matching, the result table will contain NULL values\n",
    "\n",
    "<img src=\"full.png\" alt=\"drawing\" width=\"450\"/>"
   ]
  },
  {
   "cell_type": "markdown",
   "metadata": {},
   "source": [
    "## <span style=\"color:darkblue\"> 2. The GROUP BY statement  </span>\n",
    "\n",
    "<font size=\"5\"> \n",
    "\n",
    "- We use this clause in collaboration with the ```SELECT``` statement to arrange identical data into groups\n",
    "\n",
    "- We use aggregate functions such as SUM or COUNT to calculate values of interest for the subgroups\n",
    "\n",
    "- Basic syntax:\n",
    "\n",
    "```sql \n",
    "    SELECT column1, column2\n",
    "    FROM table_name\n",
    "    WHERE [ conditions ]\n",
    "    GROUP BY column1, column2\n",
    "```\n",
    "\n",
    "**Example:**\n",
    "\n",
    "1. Use the ```results``` table to get the total points for each driver \n",
    "\n",
    "2. Call the SUM(results) column ```total_points```\n",
    "\n",
    "3. Order by the total_points column\n",
    "\n",
    "4. Save the result as a new table and call it ```points_driver```"
   ]
  },
  {
   "cell_type": "markdown",
   "metadata": {},
   "source": [
    "**Solution:**\n",
    "\n",
    "```sql\n",
    "    CREATE TABLE f1_tables.points_driver\n",
    "    AS\n",
    "    SELECT driverid, SUM(points) AS total_points \n",
    "    FROM f1_tables.results\n",
    "    GROUP BY driverid\n",
    "    ORDER BY total_points DESC\n",
    "```"
   ]
  },
  {
   "cell_type": "markdown",
   "metadata": {},
   "source": [
    "**Combining both:**\n",
    "\n",
    "<font size=\"5\"> \n",
    "\n",
    "- Join the newly created point_driver table with the drivers table \n",
    "\n",
    "- Select the total_points, forename and surname\n",
    "\n",
    "- Are the most championship winners in the top 5?"
   ]
  },
  {
   "cell_type": "markdown",
   "metadata": {},
   "source": [
    "**Solution:**\n",
    "\n",
    "```sql \n",
    "    SELECT total_points, drivers.forename, drivers.surname, winners.surname AS winners\n",
    "    FROM f1_tables.points_driver\n",
    "    JOIN f1_tables.drivers\n",
    "    ON points_driver.driverid = drivers.driverid\n",
    "    LEFT JOIN f1_tables.winners \n",
    "    ON points_driver.driverid = winners.driverid\n",
    "    ORDER BY total_points DESC\n",
    "```"
   ]
  }
 ],
 "metadata": {
  "kernelspec": {
   "display_name": "Python 3.9.0 ('multilayer')",
   "language": "python",
   "name": "python3"
  },
  "language_info": {
   "name": "python",
   "version": "3.9.0"
  },
  "orig_nbformat": 4,
  "vscode": {
   "interpreter": {
    "hash": "11838f79d2aaadbfa3a2adfaf35bacdebdb4e8d9b63957ddf298964812544a76"
   }
  }
 },
 "nbformat": 4,
 "nbformat_minor": 2
}
