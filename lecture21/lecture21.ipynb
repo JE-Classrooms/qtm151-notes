{
 "cells": [
  {
   "cell_type": "markdown",
   "metadata": {},
   "source": [
    "# Module 5: Data Manipulation with SQL"
   ]
  },
  {
   "cell_type": "markdown",
   "metadata": {},
   "source": [
    "# <span style=\"color:darkblue\"> Last Classes Review: </span>\n",
    "\n",
    "<font size=\"5\"> \n",
    "\n",
    "- How to create tables in a database using CSV files\n",
    "\n",
    "- Select, filter and sort\n",
    "\n",
    "- Statistical plots using Python"
   ]
  },
  {
   "cell_type": "markdown",
   "metadata": {},
   "source": [
    "## <span style=\"color:darkblue\"> Today: </span>\n",
    "\n",
    "<font size=\"5\"> \n",
    "\n",
    "- SQL join statements \n",
    "\n",
    "- Join types and examples\n",
    "\n",
    "- Exercises"
   ]
  },
  {
   "cell_type": "markdown",
   "metadata": {},
   "source": [
    "## <span style=\"color:darkblue\"> The join statement </span>\n",
    "\n",
    "<font size=\"5\"> \n",
    "\n",
    "We use the SQL join statement to combine data or rows from two or more tables based on a common field between them. Different types of Joins are as follows: \n",
    "\n",
    "- INNER JOIN\n",
    "\n",
    "- LEFT JOIN\n",
    "\n",
    "- RIGHT JOIN\n",
    "\n",
    "- FULL JOIN"
   ]
  },
  {
   "cell_type": "markdown",
   "metadata": {},
   "source": [
    "## <span style=\"color:darkblue\"> 1. The Inner Join </span>\n",
    "\n",
    "<font size=\"5\"> \n",
    "\n",
    "- Creates the result-set by combining all rows from both the tables where the condition is satisfied -->  where the values of the common field are the same\n",
    "\n",
    "<img src=\"inner.png\" alt=\"drawing\" width=\"450\"/>\n",
    "\n",
    "```sql\n",
    "SELECT table1.column1, table1.column2, table2.column1, table2.column2, ....\n",
    "FROM table1 \n",
    "INNER JOIN table2\n",
    "ON table1.matching_column = table2.matching_column;\n",
    "```\n",
    "\n",
    "- **table1:** left table.\n",
    "- **table2:** right table\n",
    "- **matching_column:** common column in both tables."
   ]
  },
  {
   "cell_type": "markdown",
   "metadata": {},
   "source": [
    "### **Example:**\n",
    "\n"
   ]
  }
 ],
 "metadata": {
  "kernelspec": {
   "display_name": "Python 3.10.6 ('qtm151')",
   "language": "python",
   "name": "python3"
  },
  "language_info": {
   "name": "python",
   "version": "3.10.6"
  },
  "orig_nbformat": 4,
  "vscode": {
   "interpreter": {
    "hash": "41aca5538fb71c95d9979d39d17102ee2d67fb2fbe4f4222ae9e94be3ccaf88e"
   }
  }
 },
 "nbformat": 4,
 "nbformat_minor": 2
}
