{
 "cells": [
  {
   "cell_type": "markdown",
   "metadata": {
    "slideshow": {
     "slide_type": "slide"
    }
   },
   "source": [
    "# <span style=\"color:darkblue\"> QTM 151: Introduction to Statistical Computing II</span>"
   ]
  },
  {
   "cell_type": "markdown",
   "metadata": {
    "slideshow": {
     "slide_type": "subslide"
    }
   },
   "source": [
    "## <span style=\"color:darkblue\"> Introduction to GitHub and Python </span> "
   ]
  },
  {
   "cell_type": "markdown",
   "metadata": {
    "slideshow": {
     "slide_type": "subslide"
    }
   },
   "source": [
    "<font size=\"5\"> \n",
    "\n",
    "* Data science is the use of data to answers questions and guide **decision making**\n",
    "\n",
    "⚠️ Use data and programming tools to **solve problems**"
   ]
  },
  {
   "cell_type": "markdown",
   "metadata": {
    "slideshow": {
     "slide_type": "slide"
    }
   },
   "source": [
    "![title](images/data-process.png)"
   ]
  },
  {
   "cell_type": "markdown",
   "metadata": {
    "slideshow": {
     "slide_type": "slide"
    }
   },
   "source": [
    "## <span style=\"color:darkblue\"> Use Case: Decathlon </span> \n",
    "\n",
    "This example was inspired by Ishan Gaba at Simplilearn"
   ]
  },
  {
   "cell_type": "markdown",
   "metadata": {
    "slideshow": {
     "slide_type": "subslide"
    }
   },
   "source": [
    "<font size=\"5\"> \n",
    "\n",
    "In 2019 Decathlon had 1030 stores across 28 countries and nearly 100,000 employees"
   ]
  },
  {
   "cell_type": "markdown",
   "metadata": {
    "slideshow": {
     "slide_type": "subslide"
    }
   },
   "source": [
    "![title](images/decathlon-stores.png)"
   ]
  },
  {
   "cell_type": "markdown",
   "metadata": {
    "slideshow": {
     "slide_type": "slide"
    }
   },
   "source": [
    "<font size=\"5\"> \n",
    "\n",
    "⚠️ How to coordinate production and buyer experience across different shops and countries?\n",
    "\n",
    "⚠️ How to improve the efficiency of hiring process?"
   ]
  },
  {
   "cell_type": "markdown",
   "metadata": {
    "slideshow": {
     "slide_type": "subslide"
    }
   },
   "source": [
    "---------------------------------------------------------------------------------------------------------------------------------------------\n",
    "<font size=\"5\">\n",
    "\n",
    "**GitHub visibility:** \n",
    "\n",
    "- It is an affordable, open-source community \n",
    "\n",
    "- It is a cloud-based tool ⟿ facilitates visibility across the entire organization\n",
    "\n",
    "- It allows collaboration all over the world ⟿ improves the efficiency of hiring process\n",
    "\n",
    "⚡GitHub improves organization and visualization by taking advantage of the <span style=\"color:darkblue\"> **Version Control System** </span> \n"
   ]
  },
  {
   "cell_type": "code",
   "execution_count": null,
   "metadata": {},
   "outputs": [],
   "source": []
  }
 ],
 "metadata": {
  "celltoolbar": "Slideshow",
  "kernelspec": {
   "display_name": "Python 3 (ipykernel)",
   "language": "python",
   "name": "python3"
  },
  "language_info": {
   "codemirror_mode": {
    "name": "ipython",
    "version": 3
   },
   "file_extension": ".py",
   "mimetype": "text/x-python",
   "name": "python",
   "nbconvert_exporter": "python",
   "pygments_lexer": "ipython3",
   "version": "3.7.6"
  },
  "vscode": {
   "interpreter": {
    "hash": "dad53b1bd150ad5f8a853133a980ad918e93d2227e3184f8ad962191acca0b90"
   }
  }
 },
 "nbformat": 4,
 "nbformat_minor": 4
}
