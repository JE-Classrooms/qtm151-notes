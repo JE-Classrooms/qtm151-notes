{
 "cells": [
  {
   "cell_type": "markdown",
   "metadata": {},
   "source": [
    "## <span style=\"color:darkblue\"> Class Review </span>\n",
    "\n",
    "<font size=\"5\"> \n",
    "\n",
    "- High vs low level and compiled vs interpreted languages \n",
    "\n",
    "- Numbers data types (```int``` and ```float```) and arithmetic (+, -, *, /, **)\n",
    "\n",
    "- Mathematical functions using ```numpy```\n",
    "\n",
    "- How to define variables using ```=```\n"
   ]
  },
  {
   "cell_type": "markdown",
   "metadata": {},
   "source": [
    "## <span style=\"color:darkblue\"> Math and Numbers exercise, string and list data types </span> \n",
    "\n",
    "<font size=\"5\"> \n",
    "\n",
    "**Learning Objectives:** \n",
    "\n",
    "- Understand the quiz workflow solving some math and numbers exercises \n",
    "\n",
    "- Introduce boolean data types\n",
    "\n",
    "- **If time permits:** Introduce lists data types. \n",
    "\n",
    "    - Indexing\n",
    "\n",
    "    - List methods: append, sort, reverse, insert, remove, count, pop, extend\n",
    "\n",
    "    - List of list \n",
    "\n",
    "    "
   ]
  },
  {
   "cell_type": "markdown",
   "metadata": {},
   "source": [
    "### <span style=\"color:darkblue\"> Before the math and numbers exercises: </span> \n",
    "\n",
    "<font size=\"5\"> \n",
    "\n",
    "**Inverse of a function**\n",
    "\n",
    "-  A function $g$ is the inverse of a function $f$ if whenever $y=f(x)$ then $x=g(y)$\n",
    "\n",
    "-  We can write this in terms of the composition of $f$ and $g$ as $g(f(x))=x$\n",
    "\n",
    "\n",
    "![inverse](images/loginverse.jpg)"
   ]
  },
  {
   "cell_type": "code",
   "execution_count": 3,
   "metadata": {},
   "outputs": [
    {
     "name": "stdout",
     "output_type": "stream",
     "text": [
      "log(2)= 0.6931471805599453 then exp(0.693) 2.0\n"
     ]
    }
   ],
   "source": [
    "import numpy as np\n",
    "\n",
    "print('log(2)=', np.log(2), 'then exp(0.693)', np.exp(0.6931471805599453))"
   ]
  },
  {
   "cell_type": "markdown",
   "metadata": {},
   "source": [
    "## <span style=\"color:darkblue\"> Exercise Time! </span> "
   ]
  },
  {
   "cell_type": "markdown",
   "metadata": {},
   "source": [
    "## <span style=\"color:darkblue\"> Strings </span> \n",
    "\n",
    "<font size=\"5\"> \n",
    "\n",
    "- A string is a sequence of letters, numbers, and punctuation marks\n",
    "\n",
    "- In Python you can create a string by typing letters between single or double quotation marks."
   ]
  },
  {
   "cell_type": "code",
   "execution_count": 4,
   "metadata": {},
   "outputs": [
    {
     "data": {
      "text/plain": [
       "'We already knew this'"
      ]
     },
     "execution_count": 4,
     "metadata": {},
     "output_type": "execute_result"
    }
   ],
   "source": [
    "\"We already knew this\""
   ]
  },
  {
   "cell_type": "markdown",
   "metadata": {},
   "source": [
    "<font size=\"5\"> \n",
    "\n",
    "- We can also assign string values to variables"
   ]
  },
  {
   "cell_type": "code",
   "execution_count": null,
   "metadata": {},
   "outputs": [],
   "source": []
  },
  {
   "cell_type": "markdown",
   "metadata": {},
   "source": [
    "<font size=\"5\">\n",
    "\n",
    "- Some arithmetic operators work strings\n",
    "\n",
    "- For example, the operator ```+``` *concatenates* strings"
   ]
  },
  {
   "cell_type": "code",
   "execution_count": null,
   "metadata": {},
   "outputs": [],
   "source": []
  },
  {
   "cell_type": "markdown",
   "metadata": {},
   "source": [
    "<font size=\"5\">\n",
    "\n",
    "- What are some uses for string types? \n",
    "\n",
    "- What if you create what looks like an ```int``` but it really is a string?"
   ]
  },
  {
   "cell_type": "code",
   "execution_count": null,
   "metadata": {},
   "outputs": [],
   "source": []
  },
  {
   "cell_type": "markdown",
   "metadata": {},
   "source": [
    "<font size=\"5\">\n",
    "\n",
    "- That is why it matters to know how to check the type of an object (variable)"
   ]
  },
  {
   "cell_type": "code",
   "execution_count": null,
   "metadata": {},
   "outputs": [],
   "source": []
  },
  {
   "cell_type": "markdown",
   "metadata": {},
   "source": [
    "<font size=\"5\"> \n",
    "\n",
    "- If you have a string that contains only digits, you can convert it into a number"
   ]
  },
  {
   "cell_type": "code",
   "execution_count": null,
   "metadata": {},
   "outputs": [],
   "source": []
  },
  {
   "cell_type": "markdown",
   "metadata": {},
   "source": [
    "<font size=\"5\"> \n",
    "\n",
    "For **Assignment 4**, I will make a couple of videos explaining two important concepts in Python:\n",
    "\n",
    "1. The **dot notation** and the concept of **methods**\n",
    "\n",
    "2. Show some **important** methods to work with strings using real life data\n",
    "\n",
    "3. You will have to solve some exercises using string methods\n"
   ]
  },
  {
   "cell_type": "markdown",
   "metadata": {},
   "source": [
    "## <span style=\"color:darkblue\"> Lists </span> "
   ]
  },
  {
   "cell_type": "markdown",
   "metadata": {},
   "source": [
    "<font size=\"5\"> \n",
    "\n",
    "- Lists are one of the ways to store sequence of elements in Python \n",
    "\n",
    "- There are other two important ways to represent sequences: tuples and arrays (we will cover them later)\n",
    "\n",
    "- To create a list, you put a sequence of elements in square brackets"
   ]
  },
  {
   "cell_type": "code",
   "execution_count": 5,
   "metadata": {},
   "outputs": [
    {
     "data": {
      "text/plain": [
       "[1, 2, 3]"
      ]
     },
     "execution_count": 5,
     "metadata": {},
     "output_type": "execute_result"
    }
   ],
   "source": [
    "[1, 2, 3]"
   ]
  },
  {
   "cell_type": "markdown",
   "metadata": {},
   "source": [
    "<font size=\"5\"> \n",
    "\n",
    "- One important advantage of using lists to store sequences of elements is that the elements can be any type\n",
    "\n",
    "- You can also assign a list to a variable"
   ]
  },
  {
   "cell_type": "code",
   "execution_count": 7,
   "metadata": {},
   "outputs": [
    {
     "data": {
      "text/plain": [
       "['assignment', 4, 'is due', 'on', 'wednesday', 14]"
      ]
     },
     "execution_count": 7,
     "metadata": {},
     "output_type": "execute_result"
    }
   ],
   "source": [
    "mix_list = ['assignment', 4, 'is due', 'on', 'wednesday', 14]\n",
    "mix_list"
   ]
  },
  {
   "cell_type": "markdown",
   "metadata": {},
   "source": [
    "<font size=\"5\"> \n",
    "\n",
    "- You can also define empty lists\n",
    "\n",
    "- Here is the function ```len``` that we will use often in the future"
   ]
  },
  {
   "cell_type": "code",
   "execution_count": 8,
   "metadata": {},
   "outputs": [],
   "source": [
    "empty = []"
   ]
  },
  {
   "cell_type": "markdown",
   "metadata": {},
   "source": [
    "<font size=\"5\"> \n",
    "\n",
    "- You can also use some arithmetic operators with lists: ```+``` and ```*```"
   ]
  },
  {
   "cell_type": "code",
   "execution_count": null,
   "metadata": {},
   "outputs": [],
   "source": []
  },
  {
   "cell_type": "markdown",
   "metadata": {},
   "source": [
    "<font size=\"5\"> \n",
    "\n",
    "In the video for **Assignment 4**, I will also tak about some important methods for lists:\n",
    "\n",
    "- append, sort, reverse, insert, remove, count, pop, extend\n",
    "\n",
    "As well as indexing lists"
   ]
  }
 ],
 "metadata": {
  "kernelspec": {
   "display_name": "Python 3.9.0 ('multilayer')",
   "language": "python",
   "name": "python3"
  },
  "language_info": {
   "codemirror_mode": {
    "name": "ipython",
    "version": 3
   },
   "file_extension": ".py",
   "mimetype": "text/x-python",
   "name": "python",
   "nbconvert_exporter": "python",
   "pygments_lexer": "ipython3",
   "version": "3.9.0"
  },
  "orig_nbformat": 4,
  "vscode": {
   "interpreter": {
    "hash": "11838f79d2aaadbfa3a2adfaf35bacdebdb4e8d9b63957ddf298964812544a76"
   }
  }
 },
 "nbformat": 4,
 "nbformat_minor": 2
}
