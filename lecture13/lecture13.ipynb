{
 "cells": [
  {
   "cell_type": "markdown",
   "metadata": {},
   "source": [
    "# Module 4: Data Manipulation with Pandas"
   ]
  },
  {
   "cell_type": "markdown",
   "metadata": {},
   "source": [
    "## <span style=\"color:darkblue\"> Review </span>\n",
    "\n",
    "<font size=\"5\"> \n",
    "\n",
    "1. Object creation: ```pd.Series()``` and ```pd.DataFrame()```\n",
    "\n",
    "2. Importing CSV tables: ```pd.read_csv()```\n",
    "\n",
    "3. Exploring data: ```DataFrame.head()```, ```DataFrame.tail()```, ```DataFrame.describe()``` and ```DataFrame.sort_values()```"
   ]
  },
  {
   "cell_type": "markdown",
   "metadata": {},
   "source": [
    "## <span style=\"color:darkblue\"> Today: Selection of data using Pandas </span>"
   ]
  },
  {
   "cell_type": "markdown",
   "metadata": {},
   "source": [
    "<font size=\"5\"> \n",
    "\n",
    "- The first step when using Pandas is to import the package \n",
    "\n",
    "- Then, you have to decide what data to use: are you creating or importing data?"
   ]
  },
  {
   "cell_type": "code",
   "execution_count": null,
   "metadata": {},
   "outputs": [],
   "source": []
  },
  {
   "cell_type": "markdown",
   "metadata": {},
   "source": [
    "<font size=\"5\"> \n",
    "\n",
    "- When the data we want to import is not in our current working directory, you have to specify the location where the data is\n",
    "\n",
    "- To find out your current working directory use the package ```os``` (short for operating system)\n",
    "\n",
    "- In particular, we use the function ```os.getcwd()``` (short for get current working directory)"
   ]
  },
  {
   "cell_type": "code",
   "execution_count": null,
   "metadata": {},
   "outputs": [],
   "source": []
  },
  {
   "cell_type": "code",
   "execution_count": null,
   "metadata": {},
   "outputs": [],
   "source": []
  },
  {
   "cell_type": "markdown",
   "metadata": {},
   "source": [
    "## <span style=\"color:darkblue\"> 1. Getting individual columns from a data frame </span>\n",
    "\n",
    "<font size=\"5\"> \n",
    "\n",
    "**Task:**\n",
    "\n",
    "1. Print all the columns in the fifa data frame\n",
    "\n",
    "2. Check if there is a column containing the player nationality \n",
    "\n",
    "3. Extract the column with the nationality name: this will get you a Pandas ```Series```\n",
    "\n",
    "4. Using a ```lambda``` function and the ```filter``` extract the number of players from Brazil (<span style=\"color:darkred\"> we will learn how to do this with Pandas</span>, this is for practice)"
   ]
  },
  {
   "cell_type": "code",
   "execution_count": null,
   "metadata": {},
   "outputs": [],
   "source": []
  },
  {
   "cell_type": "markdown",
   "metadata": {},
   "source": [
    "<font size=\"5\"> \n",
    "\n",
    "- You can also get more than one column by using a list, instead of only the name of one column \n",
    "\n",
    "- **Example:** extract both name and nationality"
   ]
  },
  {
   "cell_type": "code",
   "execution_count": null,
   "metadata": {},
   "outputs": [],
   "source": []
  },
  {
   "cell_type": "markdown",
   "metadata": {},
   "source": [
    "<font size=\"5\"> \n",
    "\n",
    "- You can also extract data using the slicing notation with ```[]```, which will extract rows from the data frame"
   ]
  },
  {
   "cell_type": "code",
   "execution_count": null,
   "metadata": {},
   "outputs": [],
   "source": []
  },
  {
   "cell_type": "markdown",
   "metadata": {},
   "source": [
    "## <span style=\"color:darkblue\"> 2. Selection by label </span>\n",
    "\n",
    "<font size=\"5\"> \n",
    "\n",
    "- If you want to extract a subset of rows and a subset of columns, you have to use the notation ```DataFrame.loc[]```\n",
    "\n",
    "**Task:**\n",
    "\n",
    "- Extract only the name, nationality and overall of the players in the rows 15 to 20"
   ]
  },
  {
   "cell_type": "code",
   "execution_count": null,
   "metadata": {},
   "outputs": [],
   "source": []
  },
  {
   "cell_type": "markdown",
   "metadata": {},
   "source": [
    "## <span style=\"color:darkblue\"> 3. Selection by position </span>\n",
    "\n",
    "<font size=\"5\"> \n",
    "\n",
    "- You can select all columns of a given row by passing its position as an integer using ```DataFrame.iloc``` "
   ]
  },
  {
   "cell_type": "code",
   "execution_count": null,
   "metadata": {},
   "outputs": [],
   "source": []
  },
  {
   "cell_type": "markdown",
   "metadata": {},
   "source": [
    "<font size=\"5\"> \n",
    "\n",
    "- You can also use slicing for both the rows and the columns "
   ]
  },
  {
   "cell_type": "code",
   "execution_count": null,
   "metadata": {},
   "outputs": [],
   "source": []
  },
  {
   "cell_type": "markdown",
   "metadata": {},
   "source": [
    "<font size=\"5\"> \n",
    "\n",
    "- Finally, you can also pass lists with rows and columns positions"
   ]
  },
  {
   "cell_type": "code",
   "execution_count": null,
   "metadata": {},
   "outputs": [],
   "source": []
  }
 ],
 "metadata": {
  "kernelspec": {
   "display_name": "Python 3.9.0 ('multilayer')",
   "language": "python",
   "name": "python3"
  },
  "language_info": {
   "codemirror_mode": {
    "name": "ipython",
    "version": 3
   },
   "file_extension": ".py",
   "mimetype": "text/x-python",
   "name": "python",
   "nbconvert_exporter": "python",
   "pygments_lexer": "ipython3",
   "version": "3.9.0"
  },
  "orig_nbformat": 4,
  "vscode": {
   "interpreter": {
    "hash": "11838f79d2aaadbfa3a2adfaf35bacdebdb4e8d9b63957ddf298964812544a76"
   }
  }
 },
 "nbformat": 4,
 "nbformat_minor": 2
}
