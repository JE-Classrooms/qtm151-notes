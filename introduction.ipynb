{
 "cells": [
  {
   "cell_type": "markdown",
   "metadata": {},
   "source": [
    "# <span style=\"color:darkblue\"> QTM 151: Introduction to Statistical Computing II</span>"
   ]
  },
  {
   "cell_type": "markdown",
   "metadata": {},
   "source": [
    "## <span style=\"color:darkblue\"> Introduction to GitHub and Python </span> "
   ]
  },
  {
   "cell_type": "markdown",
   "metadata": {},
   "source": [
    "<font size=\"5\"> \n",
    "\n",
    "* Data science is the use of data to answers questions and guide **decision making**\n",
    "\n",
    "⚠️ Use data and programming tools to **solve problems**"
   ]
  },
  {
   "cell_type": "markdown",
   "metadata": {},
   "source": [
    "![title](images/data-process.png)"
   ]
  },
  {
   "cell_type": "markdown",
   "metadata": {},
   "source": [
    "## <span style=\"color:darkblue\"> Use Case: Decathlon </span> \n",
    "\n",
    "This example was inspired by Ishan Gaba at Simplilearn"
   ]
  },
  {
   "cell_type": "markdown",
   "metadata": {},
   "source": [
    "<font size=\"5\"> \n",
    "\n",
    "In 2019 Decathlon had 1030 stores across 28 countries and nearly 100,000 employees"
   ]
  },
  {
   "cell_type": "markdown",
   "metadata": {},
   "source": [
    "![title](images/decathlon-stores.png)"
   ]
  },
  {
   "cell_type": "markdown",
   "metadata": {},
   "source": [
    "<font size=\"5\"> \n",
    "\n",
    "⚠️ How to coordinate production and buyer experience across different shops and countries?\n",
    "\n",
    "⚠️ How to improve the efficiency of highering process?"
   ]
  },
  {
   "cell_type": "markdown",
   "metadata": {},
   "source": [
    "-------------------------------------------------------------------------------------------------------------------------------------------------------\n",
    "<font size=\"5\">\n",
    "\n",
    "* GitHub visibility "
   ]
  }
 ],
 "metadata": {
  "kernelspec": {
   "display_name": "Python 3.7.6 ('base')",
   "language": "python",
   "name": "python3"
  },
  "language_info": {
   "name": "python",
   "version": "3.7.6"
  },
  "orig_nbformat": 4,
  "vscode": {
   "interpreter": {
    "hash": "dad53b1bd150ad5f8a853133a980ad918e93d2227e3184f8ad962191acca0b90"
   }
  }
 },
 "nbformat": 4,
 "nbformat_minor": 2
}
