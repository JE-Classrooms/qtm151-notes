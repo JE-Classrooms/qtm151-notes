{
 "cells": [
  {
   "cell_type": "markdown",
   "metadata": {},
   "source": [
    "# <span style=\"color:darkblue\"> Summary: </span>\n",
    "\n",
    "<font size=\"5\"> \n",
    "\n",
    "- Matplotlib ```Figure``` and ```Axes``` objects\n",
    "\n",
    "- How customize the plot using ```Axes``` functions\n",
    "\n",
    "- How to integrate Pandas and Matplotlib using the option ```ax``` for better customization\n"
   ]
  },
  {
   "cell_type": "markdown",
   "metadata": {},
   "source": [
    "# <span style=\"color:darkblue\"> Today: </span>\n",
    "\n",
    "## <span style=\"color:darkblue\"> 1. Combined plots and grouped plot using seaborn </span>\n",
    "\n",
    "## <span style=\"color:darkblue\"> 2. Introduction to statistical plots </span>\n"
   ]
  },
  {
   "cell_type": "markdown",
   "metadata": {},
   "source": [
    "<font size=\"5\"> \n",
    "\n",
    "- **Example 1:**\n",
    "\n",
    "    - Reproduce the plot from previous class\n",
    "\n",
    "    - Repeat the same process for average weight variable and present the two plots next to each other (*hint:* use ```plt.subplots(nrows=1,ncols=2)```)"
   ]
  },
  {
   "cell_type": "code",
   "execution_count": 1,
   "metadata": {},
   "outputs": [],
   "source": [
    "import matplotlib.pyplot as plt\n",
    "import pandas as pd\n",
    "\n",
    "# Define the plot style\n",
    "plt.style.use('seaborn-darkgrid') "
   ]
  },
  {
   "cell_type": "code",
   "execution_count": 2,
   "metadata": {},
   "outputs": [],
   "source": [
    "# Import and merge data\n",
    "\n",
    "names = pd.read_csv('../lecture17/data/names.csv')\n",
    "features = pd.read_csv('../lecture17/data/features.csv')\n",
    "cars = pd.merge(names, features, on = 'vehicle id')"
   ]
  },
  {
   "cell_type": "code",
   "execution_count": 3,
   "metadata": {},
   "outputs": [],
   "source": [
    "# Create subset of the data and aggregate by model\n",
    "\n",
    "cars_model = cars[['model', 'mpg', 'cylinders', 'displacement', 'weight', 'acceleration']].groupby('model', as_index = False).mean()"
   ]
  },
  {
   "cell_type": "code",
   "execution_count": 4,
   "metadata": {},
   "outputs": [
    {
     "data": {
      "text/plain": [
       "<matplotlib.lines.Line2D at 0x209f51ace50>"
      ]
     },
     "execution_count": 4,
     "metadata": {},
     "output_type": "execute_result"
    },
    {
     "data": {
      "image/png": "[encoded data removed]",
      "text/plain": [
       "<Figure size 640x480 with 1 Axes>"
      ]
     },
     "metadata": {},
     "output_type": "display_data"
    }
   ],
   "source": [
    "fig1, ax1 = plt.subplots() \n",
    "cars_model.plot(kind = 'bar', x = 'model', y = 'acceleration', ax=ax1)\n",
    "\n",
    "ax1.set_xlabel('Model')\n",
    "ax1.set_ylabel('Seconds for 0 to 60 Miles')\n",
    "ax1.set_title('Average Acceleration by Models')\n",
    "\n",
    "ax1.legend().set_visible(False)\n",
    "\n",
    "mean_acc = cars_model['acceleration'].mean()\n",
    "ax1.axhline(mean_acc, color='b', linestyle='--', linewidth=2)"
   ]
  },
  {
   "cell_type": "markdown",
   "metadata": {},
   "source": [
    "<font size=\"5\"> \n",
    "\n",
    "- How to combine the two plots in one figure using Pandas plots?"
   ]
  },
  {
   "cell_type": "code",
   "execution_count": null,
   "metadata": {},
   "outputs": [],
   "source": []
  },
  {
   "cell_type": "markdown",
   "metadata": {},
   "source": [
    "<font size=\"5\"> \n",
    "\n",
    "- **Example 1... continuation**\n",
    "\n",
    "    - Both plots share the same x-axis (Model). Rotate the plots and use the same labels to represent the Model axis (*hint:* use the option ```sharey=True```)\n",
    "\n",
    "    - Use the notation set(title, xlabel, ylabel) instead of the previous notation"
   ]
  },
  {
   "cell_type": "code",
   "execution_count": null,
   "metadata": {},
   "outputs": [],
   "source": []
  },
  {
   "cell_type": "markdown",
   "metadata": {},
   "source": [
    "## <span style=\"color:darkblue\"> 1. Using Seaborn instead of Pandas to create grouped plots </span>\n",
    "\n",
    "<font size=\"5\"> \n",
    "\n",
    "- We can use the package ```seaborn``` instead of ```pandas``` to create different plots \n",
    "\n",
    "- For example, we can use ```seaborn``` to create barplots. **Advantage:** easy to create grouplots \n",
    "\n",
    "- **Important:** figure-level vs. axes-level functions in ```seaborn``` (we can combine axes-level functions with ```matplotlib``` as with ```pandas``` **but NOT** figure-level functions)\n",
    "\n",
    "<img src=\"types_plots.png\" alt=\"drawing\" width=\"650\"/>"
   ]
  },
  {
   "cell_type": "markdown",
   "metadata": {},
   "source": [
    "<font size=\"5\"> \n",
    "\n",
    "- **Example 2:**\n",
    "\n",
    "1. Create a new dataframe with the average acceleration group by models and origin\n",
    "\n",
    "2. Use seaborn to create a [barplot]() with the **axes-level** function ```sns.barplot``` that separates the acceleration of each model by Origin (*hint:* use the option ```hue```)\n",
    "\n",
    "3. Change the palette to ```mako``` and the title to 'Acceleration by Model and Origin'\n",
    "\n",
    "4. Use seaborn to create a [lineplot](https://seaborn.pydata.org/generated/seaborn.lineplot.html) to track average acceleration and weight/100 by model\n",
    "\n",
    "3. Change the palette to ```mako``` and the title to 'Acceleration and Weight by Model'\n"
   ]
  },
  {
   "cell_type": "code",
   "execution_count": null,
   "metadata": {},
   "outputs": [],
   "source": []
  },
  {
   "cell_type": "markdown",
   "metadata": {},
   "source": [
    "## <span style=\"color:darkblue\"> 2. Introduction to statistical plots </span>\n",
    "\n",
    "<font size=\"5\"> \n",
    "\n",
    "- Discrete (categorical) versus continuous variables:\n",
    "\n",
    "    - **Discrete:**  origin can only take 3 values and model can take 12\n",
    "\n",
    "    - **Continuous:** the variables acceleration and weight can take potentially infinitely many values\n",
    "\n",
    "- **Plots for discrete data:** bars, lines, pies, etc\n",
    "\n",
    "- **Plots for continuous data:** distribution plots such as histograms, boxplots and violin plots"
   ]
  },
  {
   "cell_type": "markdown",
   "metadata": {},
   "source": [
    "<font size=\"5\"> \n",
    "\n",
    "- **Example 3:** statistical analysis for the weight data\n",
    "\n",
    "    - Choose only the vehicles model 82\n",
    "\n",
    "    - Draw a [boxplot](https://seaborn.pydata.org/generated/seaborn.boxplot.html) and analyze the results. How to interpret a boxplot?"
   ]
  },
  {
   "cell_type": "code",
   "execution_count": null,
   "metadata": {},
   "outputs": [],
   "source": []
  }
 ],
 "metadata": {
  "kernelspec": {
   "display_name": "Python 3.10.6 ('qtm151')",
   "language": "python",
   "name": "python3"
  },
  "language_info": {
   "codemirror_mode": {
    "name": "ipython",
    "version": 3
   },
   "file_extension": ".py",
   "mimetype": "text/x-python",
   "name": "python",
   "nbconvert_exporter": "python",
   "pygments_lexer": "ipython3",
   "version": "3.10.6"
  },
  "orig_nbformat": 4,
  "vscode": {
   "interpreter": {
    "hash": "41aca5538fb71c95d9979d39d17102ee2d67fb2fbe4f4222ae9e94be3ccaf88e"
   }
  }
 },
 "nbformat": 4,
 "nbformat_minor": 2
}
