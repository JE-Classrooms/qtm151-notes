{
 "cells": [
  {
   "cell_type": "markdown",
   "metadata": {},
   "source": [
    "## <span style=\"color:darkblue\"> Class Review </span>\n",
    "\n",
    "<font size=\"5\"> \n",
    "\n",
    "- **Module 1:**\n",
    "\n",
    "    1. Introduction to GitHub \n",
    "    2. Local computing vs. cloud computing \n",
    "    3. Local workflows: Anaconda virtual machines and local folders + GitHub desktop \n",
    "    4. Cloud workflows: AWS Notebooks + GitHub\n",
    "\n",
    "<span style=\"color:white\">'</span>\n",
    "- **Module 2:**\n",
    "\n",
    "    1. Numbers, arithmetic and numpy math functions\n",
    "    2. Lists and numpy arrays: storing sequences of data\n",
    "    3. For loops"
   ]
  },
  {
   "cell_type": "markdown",
   "metadata": {},
   "source": [
    "## <span style=\"color:darkblue\"> Today: If statement- if-elif-else and **quiz** </span>"
   ]
  },
  {
   "cell_type": "markdown",
   "metadata": {},
   "source": [
    "<font size=\"5\"> \n",
    "\n",
    "- Introduce boolean data type\n",
    "\n",
    "- Understand if-elif-else statements \n",
    "\n",
    "- **Next class:** if-elif-else + while loop + break + class exercises"
   ]
  },
  {
   "cell_type": "markdown",
   "metadata": {},
   "source": [
    "## <span style=\"color:darkblue\"> Boolean data type </span>"
   ]
  },
  {
   "cell_type": "markdown",
   "metadata": {},
   "source": [
    "From w3schools"
   ]
  },
  {
   "cell_type": "markdown",
   "metadata": {},
   "source": [
    "<font size=\"5\"> \n",
    "\n",
    "- In programming we often need to know if some expression is ```True``` or ```False```\n",
    "\n",
    "- We can evaluate **any** expression in Python, and get one of two answers, ```True``` or ```False```\n",
    "\n",
    "- When you compare two values, the expression is evaluated and Python returns the **Boolean** answer:\n",
    "\n",
    "**Examples**"
   ]
  },
  {
   "cell_type": "code",
   "execution_count": 1,
   "metadata": {},
   "outputs": [
    {
     "name": "stdout",
     "output_type": "stream",
     "text": [
      "True\n",
      "False\n",
      "False\n"
     ]
    }
   ],
   "source": [
    "print(10 > 9)\n",
    "print(10 == 9)\n",
    "print(10 < 9)"
   ]
  },
  {
   "cell_type": "code",
   "execution_count": 2,
   "metadata": {},
   "outputs": [
    {
     "data": {
      "text/plain": [
       "bool"
      ]
     },
     "execution_count": 2,
     "metadata": {},
     "output_type": "execute_result"
    }
   ],
   "source": [
    "type(10 > 9)"
   ]
  },
  {
   "cell_type": "markdown",
   "metadata": {},
   "source": [
    "## <span style=\"color:darkblue\"> If statement: if-elif-else </span>"
   ]
  },
  {
   "cell_type": "markdown",
   "metadata": {},
   "source": [
    "<font size=\"5\"> \n",
    "\n",
    "- We can use the boolean data type to define if-else statements\n",
    "\n",
    "- **Importance:** decision making requires the ability to execute a code only if a certain condition is satisfied"
   ]
  },
  {
   "cell_type": "markdown",
   "metadata": {},
   "source": [
    "<font size=\"5\"> \n",
    "\n",
    "**If statement: Python Syntax**\n",
    "\n",
    "``` python\n",
    "    if test expression:\n",
    "        statement(s)\n",
    "```\n",
    "\n",
    "![if](images/if.png)"
   ]
  },
  {
   "cell_type": "code",
   "execution_count": null,
   "metadata": {},
   "outputs": [],
   "source": []
  },
  {
   "cell_type": "markdown",
   "metadata": {},
   "source": [
    "<font size=\"5\"> \n",
    "\n",
    "**If-else statement: Python Syntax**\n",
    "\n",
    "``` python\n",
    "    if test expression:\n",
    "        Body of if\n",
    "    else:\n",
    "        Body of else\n",
    "```\n",
    "\n",
    "![ifelse](images/ifelse.png)"
   ]
  },
  {
   "cell_type": "code",
   "execution_count": null,
   "metadata": {},
   "outputs": [],
   "source": []
  },
  {
   "cell_type": "markdown",
   "metadata": {},
   "source": [
    "<font size=\"5\"> \n",
    "\n",
    "**If-elif-else statement: Python Syntax**\n",
    "\n",
    "``` python\n",
    "    if test expression:\n",
    "        Body of if\n",
    "    elif test expression:\n",
    "        Body of elif\n",
    "    else: \n",
    "        Body of else\n",
    "```\n",
    "\n",
    "![elif](images/elif.png)"
   ]
  },
  {
   "cell_type": "code",
   "execution_count": null,
   "metadata": {},
   "outputs": [],
   "source": []
  }
 ],
 "metadata": {
  "kernelspec": {
   "display_name": "Python 3.8.5 ('base')",
   "language": "python",
   "name": "python3"
  },
  "language_info": {
   "codemirror_mode": {
    "name": "ipython",
    "version": 3
   },
   "file_extension": ".py",
   "mimetype": "text/x-python",
   "name": "python",
   "nbconvert_exporter": "python",
   "pygments_lexer": "ipython3",
   "version": "3.8.5"
  },
  "orig_nbformat": 4,
  "vscode": {
   "interpreter": {
    "hash": "9fbb33e86ca55080a202fed700efde3fb4ffe3f46131e5b52201b9ba06ce5f72"
   }
  }
 },
 "nbformat": 4,
 "nbformat_minor": 2
}
