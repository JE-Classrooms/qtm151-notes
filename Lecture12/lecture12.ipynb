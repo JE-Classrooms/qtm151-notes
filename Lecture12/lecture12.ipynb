{
 "cells": [
  {
   "cell_type": "markdown",
   "metadata": {},
   "source": [
    "## <span style=\"color:darkblue\"> First three modules of the class </span>\n",
    "\n",
    "<font size=\"5\"> \n",
    "\n",
    "- **Module 1:**\n",
    "\n",
    "    1. Introduction to GitHub \n",
    "    2. Local computing vs. cloud computing \n",
    "    3. Local workflows: Anaconda virtual machines and local folders + GitHub desktop \n",
    "    4. Cloud workflows: AWS Notebooks + GitHub\n",
    "\n",
    "<span style=\"color:white\">'</span>\n",
    "- **Module 2:**\n",
    "\n",
    "    1. Numbers, arithmetic and numpy math functions\n",
    "    2. Lists and numpy arrays: storing sequences of data\n",
    "    3. For loops and While loops\n",
    "    4. If-elif-else statements\n",
    "    5. Tuples and Dictionaries: other ways to store sequences of data\n",
    "\n",
    "<span style=\"color:white\">'</span>\n",
    "- **Module 3:**\n",
    "\n",
    "    1. Built-in functions and User-defined functions\n",
    "    2. Python scope of variables: local versus global\n",
    "    3. How to use functions to solve different programing problems"
   ]
  },
  {
   "cell_type": "markdown",
   "metadata": {},
   "source": [
    "# Module 4: Data Manipulation with Pandas\n",
    "\n",
    "## <span style=\"color:darkblue\"> Today: Pandas for data analysis in Python </span>\n",
    "\n",
    "<font size=\"5\"> \n",
    "\n",
    "- [Pandas](https://pandas.pydata.org/docs/index.html) is a library for data analysis in Python\n",
    "\n",
    "- It has functions for analyzing, cleaning, exploring, and manipulating data\n",
    "\n",
    "- Pandas can clean messy data sets including both quantitative and qualitative data (text as data)"
   ]
  },
  {
   "cell_type": "code",
   "execution_count": 1,
   "metadata": {},
   "outputs": [],
   "source": [
    "import numpy as np\n",
    "import pandas as pd"
   ]
  },
  {
   "cell_type": "markdown",
   "metadata": {},
   "source": [
    "## <span style=\"color:darkblue\"> 1. Object creation </span>\n",
    "\n",
    "<font size=\"5\"> \n",
    "\n",
    "- Let's start by creating what Pandas call a ```Series```\n",
    "\n",
    "- You can think of a ```Series``` as a column in a table of a dataset\n",
    "\n",
    "- **Example:** FIFA 23\n",
    "\n",
    "![data](images/data.png)\n",
    "\n",
    "- We can create a ```Series``` by passing a ```list``` of values and Pandas will automatically create an index\n",
    "\n",
    "- To create a ```Series```, we use the Pandas method ```pd.Series()```\n",
    "\n",
    "- **Example:** create a ```Series``` with the last names of first four players in the previous image"
   ]
  },
  {
   "cell_type": "code",
   "execution_count": null,
   "metadata": {},
   "outputs": [],
   "source": []
  },
  {
   "cell_type": "markdown",
   "metadata": {},
   "source": [
    "<font size=\"5\"> \n",
    "\n",
    "- We can create Pandas ```DataFrames``` by combining different ```Series```\n",
    "\n",
    "- We can create a ```DataFrame``` by passing a ```Dictionary``` of objects \n",
    "\n",
    "- To create a ```DataFrame```, we use the Pandas method ```pd.DataFrame()```\n",
    "\n",
    "- **Example:** create a ```DataFrame``` with the last name, the overall and the potential from the previous picture."
   ]
  },
  {
   "cell_type": "code",
   "execution_count": null,
   "metadata": {},
   "outputs": [],
   "source": []
  },
  {
   "cell_type": "markdown",
   "metadata": {},
   "source": [
    "<font size=\"5\"> \n",
    "\n",
    "- What if we only pass an ```int``` to the dictionary value instead of a list?"
   ]
  },
  {
   "cell_type": "code",
   "execution_count": null,
   "metadata": {},
   "outputs": [],
   "source": []
  },
  {
   "cell_type": "markdown",
   "metadata": {},
   "source": [
    "<font size=\"5\"> \n",
    "\n",
    "- One (almost) required feature of a table, is that the columns composing it will have different types\n",
    "\n",
    "- Let's check the types of the columns in our table by using the method ```dtypes```\n",
    "\n",
    "- [Here](https://regenerativetoday.com/30-very-useful-pandas-functions-for-everyday-data-analysis-tasks/) are some useful Pandas methods!"
   ]
  },
  {
   "cell_type": "code",
   "execution_count": null,
   "metadata": {},
   "outputs": [],
   "source": []
  },
  {
   "cell_type": "markdown",
   "metadata": {},
   "source": [
    "## <span style=\"color:darkblue\"> 2. Importing a CSV table </span>\n",
    "\n",
    "<font size=\"5\"> \n",
    "\n",
    "- An easier way to analyze data is to take it from a source and import it into Python\n",
    "\n",
    "- Pandas can read different types of data format including CSV, XLSX, txt, JSON, SQL ([here](https://www.cbtnuggets.com/blog/technology/programming/14-file-types-you-can-import-into-pandas) is a list)\n",
    "\n",
    "- In this case, we have access to a CSV table\n",
    "\n",
    "- We can use the Pandas function ```pd.read_csv()``` to import all the data"
   ]
  },
  {
   "cell_type": "code",
   "execution_count": null,
   "metadata": {},
   "outputs": [],
   "source": []
  },
  {
   "cell_type": "markdown",
   "metadata": {},
   "source": [
    "## <span style=\"color:darkblue\"> 3. Exploring the data </span>\n",
    "\n",
    "<font size=\"5\"> \n",
    "\n",
    "- Use ```DataFrame.head()``` and ```DataFrame.tail()``` to view the top and bottom rows of the frame respectively:"
   ]
  },
  {
   "cell_type": "code",
   "execution_count": null,
   "metadata": {},
   "outputs": [],
   "source": []
  },
  {
   "cell_type": "markdown",
   "metadata": {},
   "source": [
    "<font size=\"5\"> \n",
    "\n",
    "- Use the method ```describe()``` to show a quick summary statistic"
   ]
  },
  {
   "cell_type": "code",
   "execution_count": null,
   "metadata": {},
   "outputs": [],
   "source": []
  },
  {
   "cell_type": "markdown",
   "metadata": {},
   "source": [
    "<font size=\"5\"> \n",
    "\n",
    "- Use the method ```sort_values()``` to sort the table by a given column"
   ]
  },
  {
   "cell_type": "code",
   "execution_count": null,
   "metadata": {},
   "outputs": [],
   "source": []
  }
 ],
 "metadata": {
  "kernelspec": {
   "display_name": "Python 3.8.5 ('base')",
   "language": "python",
   "name": "python3"
  },
  "language_info": {
   "codemirror_mode": {
    "name": "ipython",
    "version": 3
   },
   "file_extension": ".py",
   "mimetype": "text/x-python",
   "name": "python",
   "nbconvert_exporter": "python",
   "pygments_lexer": "ipython3",
   "version": "3.8.5"
  },
  "orig_nbformat": 4,
  "vscode": {
   "interpreter": {
    "hash": "9fbb33e86ca55080a202fed700efde3fb4ffe3f46131e5b52201b9ba06ce5f72"
   }
  }
 },
 "nbformat": 4,
 "nbformat_minor": 2
}
