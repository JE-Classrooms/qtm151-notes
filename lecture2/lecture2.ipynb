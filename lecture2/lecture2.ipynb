{
 "cells": [
  {
   "cell_type": "markdown",
   "metadata": {
    "slideshow": {
     "slide_type": "slide"
    }
   },
   "source": [
    "## <span style=\"color:darkblue\"> Last Class Review </span> \n",
    "\n",
    "<font size=\"5\"> \n",
    "\n",
    "1. What is Git, GitHub, Version Control Systems, differences and relevance \n",
    "\n",
    "2. How to create, clone and make changes in a GitHub repository using GitHub desktop?\n",
    "\n",
    "<span style=\"color:red\"> Questions?? </span> "
   ]
  },
  {
   "cell_type": "markdown",
   "metadata": {
    "slideshow": {
     "slide_type": "slide"
    }
   },
   "source": [
    "## <span style=\"color:darkblue\"> Introduction to Python </span> \n",
    "\n",
    "<font size=\"5\"> \n",
    "\n",
    "**Learning Objectives:** \n",
    "\n",
    "1. What is Python and why should I learn it?\n",
    "\n",
    "2. What are Virtual Environments and why they are useful?\n",
    "\n",
    "3. How to create and use a new Virtual Environment?\n",
    "\n",
    "4. How to run Python using the Terminal and Jupyter Notebook?\n",
    "\n",
    "5. How to read Python errors and define variables in Python?"
   ]
  },
  {
   "cell_type": "markdown",
   "metadata": {
    "slideshow": {
     "slide_type": "slide"
    }
   },
   "source": [
    "## <span style=\"color:darkblue\"> What is Python </span> \n",
    "\n",
    "<font size=\"5\"> \n",
    "\n",
    "- Python is one of the most popular programming languages in the world\n",
    "\n",
    "- It is easy to learn, powerful programming language\n",
    "\n",
    "- Pyhton is a *full-spectrum* language: it is both good for beginners and powerful for expert developers\n",
    "\n",
    "    - Programs such as **Scratch** are designed to get started with simple programming concepts but you cannot build professional applications with it\n",
    "    - Programs such as **C++** are powerful but unwelcoming"
   ]
  },
  {
   "cell_type": "markdown",
   "metadata": {
    "slideshow": {
     "slide_type": "slide"
    }
   },
   "source": [
    "### <span style=\"color:darkblue\"> Example </span> \n",
    "\n",
    "<font size=\"5\"> \n",
    "\n",
    "A program as simple as printing Hello World! looks complicated in C++\n",
    "\n",
    "``` c++\n",
    "#include <iostream>\n",
    "\n",
    "int main() {\n",
    "    std::cout << \"Hello World!\";\n",
    "    return 0;\n",
    "}\n",
    "```\n",
    "\n",
    "Here is how it looks in Python\n",
    "\n",
    "``` python\n",
    "print('Hello World!')\n",
    "```"
   ]
  },
  {
   "cell_type": "markdown",
   "metadata": {
    "slideshow": {
     "slide_type": "slide"
    }
   },
   "source": [
    "### <span style=\"color:darkblue\"> A more complicated task? </span> \n",
    "\n",
    "<font size=\"5\"> \n",
    "\n",
    "What would it take to write a program that:\n",
    "\n",
    "(1) accesses an external website \n",
    "\n",
    "(2) downloads the content to your app in memory \n",
    "\n",
    "(3) then displays a subsection of that content to the user\n"
   ]
  },
  {
   "cell_type": "code",
   "execution_count": 2,
   "metadata": {
    "slideshow": {
     "slide_type": "slide"
    }
   },
   "outputs": [
    {
     "name": "stdout",
     "output_type": "stream",
     "text": [
      "<h2>Please log in to access Mount Olympus:</h2\n"
     ]
    }
   ],
   "source": [
    "import requests\n",
    "resp = requests.get(\"http://olympus.realpython.org\")\n",
    "html = resp.text\n",
    "print(html[86:132])"
   ]
  },
  {
   "cell_type": "markdown",
   "metadata": {
    "slideshow": {
     "slide_type": "slide"
    }
   },
   "source": [
    "<font size=\"5\"> \n",
    "\n",
    "- A few trivial lines can unleash incredible power\n",
    "\n",
    "- That is why websites as big as YouTube are written in Python\n",
    "\n",
    "- Why should I **not** learn it?"
   ]
  },
  {
   "cell_type": "markdown",
   "metadata": {
    "slideshow": {
     "slide_type": "slide"
    }
   },
   "source": [
    "## <span style=\"color:darkblue\"> Setting up Python </span>\n",
    "\n",
    "<font size=\"5\"> \n",
    "\n",
    "**Python Implementations:**\n",
    "\n",
    "- CPyhton: reference implementation commonly used for web and applications development\n",
    "\n",
    "- Anaconda: specialized Python distribution tailored for scientific programming such as data science and machine learning\n",
    "\n",
    "- Iron Python: open-source implementation of Python built on the .NET proprietary software framework developed by Microsoft\n"
   ]
  },
  {
   "cell_type": "markdown",
   "metadata": {
    "slideshow": {
     "slide_type": "slide"
    }
   },
   "source": [
    "<font size=\"5\"> \n",
    "\n",
    "**For this class**\n",
    "\n",
    "- We will use the Python implementation from Anaconda \n",
    "\n",
    "- You should already have installed Anaconda and Python (from Assignment 2)\n",
    "\n",
    "- Let's check that Python is install in your Anaconda base environment"
   ]
  },
  {
   "cell_type": "markdown",
   "metadata": {
    "slideshow": {
     "slide_type": "slide"
    }
   },
   "source": [
    "<font size=\"5\"> \n",
    "\n",
    "*On Windows:* \n",
    "\n",
    "1. open Anaconda Prompt \n",
    "\n",
    "2. type ```python --version```"
   ]
  },
  {
   "cell_type": "markdown",
   "metadata": {
    "slideshow": {
     "slide_type": "slide"
    }
   },
   "source": [
    "<font size=\"5\"> \n",
    "\n",
    "*On MacOS:* \n",
    "\n",
    "1. There is a preinstalled Python version in MacOS. To check, open your terminal and type ```python --version```\n",
    "\n",
    "2. You **do not** need to uninstall the preinstalled Python version \n",
    "\n",
    "3. The preinstalled Python and the Python that comes with the Anaconda installation are two different implementations with different executables\n",
    "\n",
    "4. After you install Anaconda, when you open your terminal, you should see (base) which is the default Anaconda environment\n",
    "\n",
    "![mac](images/mac.png)"
   ]
  },
  {
   "cell_type": "markdown",
   "metadata": {
    "slideshow": {
     "slide_type": "slide"
    }
   },
   "source": [
    "<font size=\"5\"> \n",
    "\n",
    "5. Now you can type ```python --version``` and you will see the Python Anaconda version \n",
    "\n",
    "6. To see the two different Python versions, you can do the following:\n",
    "\n",
    "![mac2](images/mac2.png)"
   ]
  },
  {
   "cell_type": "markdown",
   "metadata": {
    "slideshow": {
     "slide_type": "slide"
    }
   },
   "source": [
    "## <span style=\"color:darkblue\"> Virtual Environments (VE) and why They are Useful </span>\n",
    "\n",
    "<font size=\"5\"> \n",
    "\n",
    "- A Virtual Environment is a **directory** that contains a specific **collection of packages**\n",
    "\n",
    "- A package is a folder containing a set of Python scripts or modules which allow you to accomplish a defined task. **Examples:**\n",
    "\n",
    "    - [NumPy](https://numpy.org/doc/stable/): package for scientific computing in Python\n",
    "    - [Pandas](https://pandas.pydata.org/docs/): package for high-performance, easy-to-use data structures and data analysis in Python\n"
   ]
  },
  {
   "cell_type": "markdown",
   "metadata": {
    "slideshow": {
     "slide_type": "slide"
    }
   },
   "source": [
    "<font size=\"5\"> \n",
    "\n",
    "- **Importance:** imagine you are writing code for a data science project that you want to replicate in the future. Here are some advantages of creating a Virtual Environment for that project:\n",
    "\n",
    "    1. We want to keep the packages that we used to create the project (dependencies) isolated from other projects\n",
    "    2. We want to keep the original versions of the packages we used to create to avoid errors from deprecated methods and functions\n",
    "    3. We want to make the project's code reproducible in the future\n",
    "    4. We want to be able to share the project with all the necessary packages for it to work "
   ]
  },
  {
   "cell_type": "markdown",
   "metadata": {
    "slideshow": {
     "slide_type": "slide"
    }
   },
   "source": [
    "## <span style=\"color:darkblue\"> Virtual Environments and why They are Useful </span>\n",
    "\n",
    "<font size=\"5\"> \n",
    "\n",
    "*Using the terminal:* every time you're asked to Proceed ([y]/n)? Type \"y\" in the terminal \n",
    "\n",
    "1. Open Anaconda Prompt in Windows or the Terminal in MacOS. You should see the (base) default VE\n",
    "\n",
    "2. Use the Conda command ```conda create --name qtm151```\n",
    "\n",
    "3. Check the list of VEs using ```conda env list```\n",
    "\n",
    "4. Activate the newly created VE using ```conda activate qtm151```\n",
    "\n",
    "5. Check the packages in the VE using ```conda list```\n",
    "\n",
    "6. Install the latest Python version using ```conda install python=3.10```\n",
    "\n",
    "7. Check python version using ```python --version```\n",
    "\n",
    "8. Install Jupyter Notebook and Jupyter Lab using ```conda install -c conda-forge jupyterlab```"
   ]
  },
  {
   "cell_type": "markdown",
   "metadata": {
    "slideshow": {
     "slide_type": "slide"
    }
   },
   "source": [
    "### <span style=\"color:darkblue\"> Fetch Origin using GitHub Desktop to Pull new Information in the Repo </span>\n",
    "\n",
    "<font size=\"5\"> \n",
    "\n",
    "1. Open GitHub desktop and choose the ```qtm151-notes``` repository\n",
    "\n",
    "2. From the list at the top of the screen, choose the option Fetch origin \n",
    "\n",
    "3. Go to your ```qtm151-notes``` local folder and check that you have access to the new version of ```lecture2.ipynb```"
   ]
  },
  {
   "cell_type": "markdown",
   "metadata": {
    "slideshow": {
     "slide_type": "slide"
    }
   },
   "source": [
    "### <span style=\"color:darkblue\"> Types of files we will use in this class </span>\n",
    "\n",
    "<font size=\"5\"> \n",
    "\n",
    "- Python files: ```.py``` are scrips written in Python and contain instructions to accomplish a defined task\n",
    "\n",
    "    **Example:** run the ```python_example.py``` file in the Terminal\n",
    "    \n",
    "\n",
    "- Jupyter Notebook files: ```.ipynb``` is a notebook document created by Jupyter Notebook, such as the one we are using rigth now\n",
    "\n",
    "    **Example:** open Jupyter Lab using the Terminal and open the file ```lecture2.ipynb``` using Jupyter Lab"
   ]
  },
  {
   "cell_type": "markdown",
   "metadata": {
    "slideshow": {
     "slide_type": "slide"
    }
   },
   "source": [
    "## <span style=\"color:darkblue\"> Your first Python program using Jupyter Notebooks </span> "
   ]
  },
  {
   "cell_type": "markdown",
   "metadata": {},
   "source": [
    "1. Hello world"
   ]
  },
  {
   "cell_type": "code",
   "execution_count": null,
   "metadata": {},
   "outputs": [],
   "source": []
  },
  {
   "cell_type": "markdown",
   "metadata": {},
   "source": [
    "2. Python as a calculator"
   ]
  },
  {
   "cell_type": "code",
   "execution_count": null,
   "metadata": {},
   "outputs": [],
   "source": []
  },
  {
   "cell_type": "markdown",
   "metadata": {},
   "source": [
    "3. Syntax error"
   ]
  },
  {
   "cell_type": "code",
   "execution_count": 1,
   "metadata": {},
   "outputs": [
    {
     "ename": "SyntaxError",
     "evalue": "EOL while scanning string literal (<ipython-input-1-f652d92af2e1>, line 1)",
     "output_type": "error",
     "traceback": [
      "\u001b[1;36m  File \u001b[1;32m\"<ipython-input-1-f652d92af2e1>\"\u001b[1;36m, line \u001b[1;32m1\u001b[0m\n\u001b[1;33m    print(\"Hello, World)\u001b[0m\n\u001b[1;37m                        ^\u001b[0m\n\u001b[1;31mSyntaxError\u001b[0m\u001b[1;31m:\u001b[0m EOL while scanning string literal\n"
     ]
    }
   ],
   "source": [
    "print(\"Hello, World)"
   ]
  },
  {
   "cell_type": "markdown",
   "metadata": {},
   "source": [
    "- What is string?\n",
    "\n",
    "    A string literal is text enclosed in quotation marks\n",
    "\n",
    "- What is EOL?\n",
    "\n",
    "    EOL stands for end of line. the message tells you that Python got to the end of a line while reading a string literal. String literals must be terminated with a quotation mark before the end of a line.    \n"
   ]
  },
  {
   "cell_type": "markdown",
   "metadata": {},
   "source": [
    "4. Runtime errors"
   ]
  },
  {
   "cell_type": "code",
   "execution_count": 2,
   "metadata": {},
   "outputs": [
    {
     "ename": "NameError",
     "evalue": "name 'Hello' is not defined",
     "output_type": "error",
     "traceback": [
      "\u001b[1;31m---------------------------------------------------------------------------\u001b[0m",
      "\u001b[1;31mNameError\u001b[0m                                 Traceback (most recent call last)",
      "\u001b[1;32m<ipython-input-2-7fbed5fc27f5>\u001b[0m in \u001b[0;36m<module>\u001b[1;34m\u001b[0m\n\u001b[1;32m----> 1\u001b[1;33m \u001b[0mprint\u001b[0m\u001b[1;33m(\u001b[0m\u001b[0mHello\u001b[0m\u001b[1;33m,\u001b[0m \u001b[0mWorld\u001b[0m\u001b[1;33m)\u001b[0m\u001b[1;33m\u001b[0m\u001b[1;33m\u001b[0m\u001b[0m\n\u001b[0m",
      "\u001b[1;31mNameError\u001b[0m: name 'Hello' is not defined"
     ]
    }
   ],
   "source": [
    "print(Hello, World)"
   ]
  },
  {
   "cell_type": "markdown",
   "metadata": {},
   "source": [
    "Whenever a runtime error occurs Python stops executing the program and displays several lines of text called a **traceback**\n",
    "\n",
    "**How to read tracebacks?** read them from the bottom up\n",
    "\n",
    "- The last line of the traceback tells you the name of the error and the error message.\n",
    "\n",
    "- The second to last line shows you the code that produced the error.\n",
    "\n",
    "- The third to last line tells you the name of the file and the line number.\n",
    "\n",
    "    - Because we are using Jupyter Notebooks we get <ipython-input-2-7fbed5fc27f5> instead of a file name\n",
    "    \n",
    "    - Give an example with the Python file ```python_example.py```\n"
   ]
  },
  {
   "cell_type": "markdown",
   "metadata": {},
   "source": [
    "### <span style=\"color:darkblue\"> Creating Variables </span> \n",
    "\n",
    "<font size=\"5\"> \n",
    "\n",
    "- A variable is a name that you can assign to a value and then use it to refer to that value throughout your code\n",
    "\n",
    "- Variables keep values accessible. Particularly important if the value is the result of a time consuming operation\n",
    "\n",
    "- Variables give values context. The name *class_size* gives more context than the number 20\n",
    "\n",
    "- **Operator:** an operator is a symbol such as +, -, *, =, etc\n",
    "\n",
    "- In Python, the assignment operator is =\n",
    "\n",
    "Hello, World example with the assignment operator"
   ]
  },
  {
   "cell_type": "code",
   "execution_count": null,
   "metadata": {},
   "outputs": [],
   "source": []
  },
  {
   "cell_type": "markdown",
   "metadata": {},
   "source": [
    "### <span style=\"color:darkblue\"> Some rules when creating Variables </span> \n",
    "\n",
    "<font size=\"5\"> \n",
    "\n",
    "- Variable names may contain uppercase and lowercase letters (A–Z, a–z), digits (0–9), and underscores (_), but they cannot begin with a digit.\n",
    "\n",
    "- Just because a variable name is valid doesn't mean that it's a good name.\n",
    "\n",
    "- ** Descriptive names are better than short names ```seconds_per_hour = 3600``` is better than ```s = 3600```\n",
    "\n",
    "- In Python it is prefer to use ```lower_case_with_underscores``` instead of ```mixedCase```\n",
    "\n",
    "- See Python Enhancement Proposal ([PEP 8](https://pep8.org/)) for the official style guide for writing Python."
   ]
  },
  {
   "cell_type": "markdown",
   "metadata": {},
   "source": [
    "## <span style=\"color:darkblue\"> Summary </span>\n",
    "\n",
    "<font size=\"5\">\n",
    "\n",
    "1. We learned what is Python, why we should learn it, and the basics on how to use it.\n",
    "\n",
    "2. We learned what are Virtual Environments, why it is a good practice to use them, and how to create them and manage them using Anaconda.\n",
    "\n",
    "3. We learned how to run Python code both in the Terminal and in Jupyter Notebooks\n",
    "\n",
    "4. We learned how to read Python errors and create new variables"
   ]
  }
 ],
 "metadata": {
  "celltoolbar": "Slideshow",
  "kernelspec": {
   "display_name": "Python 3 (ipykernel)",
   "language": "python",
   "name": "python3"
  },
  "language_info": {
   "codemirror_mode": {
    "name": "ipython",
    "version": 3
   },
   "file_extension": ".py",
   "mimetype": "text/x-python",
   "name": "python",
   "nbconvert_exporter": "python",
   "pygments_lexer": "ipython3",
   "version": "3.9.0"
  },
  "vscode": {
   "interpreter": {
    "hash": "11838f79d2aaadbfa3a2adfaf35bacdebdb4e8d9b63957ddf298964812544a76"
   }
  }
 },
 "nbformat": 4,
 "nbformat_minor": 2
}
