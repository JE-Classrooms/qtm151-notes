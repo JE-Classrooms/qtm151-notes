{
 "cells": [
  {
   "cell_type": "markdown",
   "metadata": {
    "slideshow": {
     "slide_type": "slide"
    }
   },
   "source": [
    "## <span style=\"color:darkblue\"> First four modules of the class </span>\n",
    "\n",
    "<font size=\"5\"> \n",
    "\n",
    "- **Module 1:** introduction local computing versus cloud computing\n",
    "\n",
    "- **Module 2:** data types\n",
    "\n",
    "- **Module 3:** built-in functions and lambda functions\n",
    "\n",
    "- **Module 4:** data manipulation using Pandas"
   ]
  },
  {
   "cell_type": "markdown",
   "metadata": {
    "slideshow": {
     "slide_type": "slide"
    }
   },
   "source": [
    "# Module 5: Data Manipulation with SQL"
   ]
  },
  {
   "cell_type": "markdown",
   "metadata": {
    "slideshow": {
     "slide_type": "slide"
    }
   },
   "source": [
    "## <span style=\"color:darkblue\"> Databases </span>\n",
    "\n",
    "<font size=\"5\"> \n",
    "\n",
    "- Most information we observe online and in the real world is stored in some sort of database\n",
    "\n",
    "- **Example:** tweets, food orders, soccer players abilities, F1 characteristics, etc\n",
    "\n",
    "- The amount of information is huge --> we store the information in a **database**\n",
    "\n",
    "- A **database** is a collection of related information (files)\n",
    "\n",
    "- Extracting valuable insights from raw data requires efficient organization and data storage techniques"
   ]
  },
  {
   "cell_type": "markdown",
   "metadata": {
    "slideshow": {
     "slide_type": "slide"
    }
   },
   "source": [
    "## <span style=\"color:darkblue\"> Relational Databases </span>\n",
    "\n",
    "<font size=\"5\"> \n",
    "\n",
    "- Most databases today are **relational databases:** tables of data related by a common field\n",
    "\n",
    "- We can represent relational databases with a Entity Relationship Diagram (ERD)"
   ]
  },
  {
   "cell_type": "markdown",
   "metadata": {
    "slideshow": {
     "slide_type": "slide"
    }
   },
   "source": [
    "<center><img src=\"f1_rd.png\" alt=\"drawing\" width=\"750\"/><center>"
   ]
  },
  {
   "cell_type": "markdown",
   "metadata": {
    "slideshow": {
     "slide_type": "slide"
    }
   },
   "source": [
    "## <span style=\"color:darkblue\"> Tables Terminology</span>\n",
    "\n",
    "<font size=\"5\"> \n",
    "\n",
    "- Collection of **rows** also called **records** (people, races, firms, etc)\n",
    "\n",
    "- Each row in a table contains a set of **columns** also called **attributes** (name, nationality, abilities, etc)\n",
    "\n",
    "- Each column has a type:\n",
    "\n",
    "    - String: VARCHAR(20)\n",
    "\n",
    "    - Integer: INTEGER\n",
    "\n",
    "    - Floating-point: FLOAT, DOUBLE\n",
    "\n",
    "    - Date/time DATE, TIME, DATETIME"
   ]
  },
  {
   "cell_type": "markdown",
   "metadata": {
    "slideshow": {
     "slide_type": "slide"
    }
   },
   "source": [
    "## <span style=\"color:darkblue\"> Relevance of Relational Databases</span>\n",
    "\n",
    "<font size=\"5\"> \n",
    "\n",
    "- Avoids **data redundancy**: (1) repeating unnecessary records for some attributes and (2) deletion anomalies\n",
    "\n",
    "<center><img src=\"redundancy.png\" alt=\"drawing\" width=\"1500\"/><center>"
   ]
  },
  {
   "cell_type": "markdown",
   "metadata": {
    "slideshow": {
     "slide_type": "slide"
    }
   },
   "source": [
    "## <span style=\"color:darkblue\"> Relational database management system (RDBMS) </span>\n",
    "\n",
    "<font size=\"5\"> \n",
    "\n",
    "- Software that helps users create and maintain a database\n",
    "\n",
    "- Manage large amounts of information, handle security, take care of data backups, import or export data and let users access data\n",
    "\n",
    "- **PostgreSQL** is one of the most popular RDBMS\n",
    "\n",
    "- Open-source software in active development for over 30 years\n",
    "\n",
    "- **pgAdmin 4:** is a management tool for PostgreSQL which comes with the installation"
   ]
  },
  {
   "cell_type": "markdown",
   "metadata": {
    "slideshow": {
     "slide_type": "slide"
    }
   },
   "source": [
    "## <span style=\"color:darkblue\"> Understanding a database in pgAdmin 4</span>\n",
    "\n",
    "<font size=\"5\"> \n",
    "\n",
    "- pgAdmin can connect to different **servers**\n",
    "\n",
    "- Different servers can contain different **databases** which can contain different **schemas**\n",
    "\n",
    "- Different schemas contain different **related tables**"
   ]
  },
  {
   "cell_type": "markdown",
   "metadata": {
    "slideshow": {
     "slide_type": "slide"
    }
   },
   "source": [
    "<center><img src=\"database.png\" alt=\"drawing\" width=\"1000\"/><center>"
   ]
  },
  {
   "cell_type": "markdown",
   "metadata": {
    "slideshow": {
     "slide_type": "slide"
    }
   },
   "source": [
    "## <span style=\"color:darkblue\"> Creating a new database</span>\n",
    "\n",
    "<font size=\"5\"> \n",
    "\n",
    "- **Option 1:** using the Graphical User Interphase (GUI) pgAdmin\n",
    "\n",
    "    - Right click on the server where you want to create the database (local)\n",
    "\n",
    "    - Click Create --> Database...\n",
    "\n",
    "    - In the Database input write the name (formula1)\n",
    "\n",
    "    - Save changes"
   ]
  },
  {
   "cell_type": "markdown",
   "metadata": {
    "slideshow": {
     "slide_type": "slide"
    }
   },
   "source": [
    "<font size=\"5\"> \n",
    "\n",
    "- **Option 2:** using command line and **Structure Query Language (SQL)**\n",
    "\n",
    "    - Using SQL we can create the database\n",
    "\n",
    "    - The command to create the database is simple:\n",
    "\n",
    "    <font size=\"3\"> \n",
    "\n",
    "    ``` sql\n",
    "        CREATE DATABASE name\n",
    "        [ [ WITH ] [ OWNER [=] user_name ]\n",
    "                [ TEMPLATE [=] template ]\n",
    "                [ ENCODING [=] encoding ]\n",
    "                [ LC_COLLATE [=] lc_collate ]\n",
    "                [ LC_CTYPE [=] lc_ctype ]\n",
    "                [ TABLESPACE [=] tablespace ]\n",
    "                [ CONNECTION LIMIT [=] connlimit ] ]\n",
    "    ```\n",
    "\n",
    "    <font size=\"4\"> \n",
    "\n",
    "    - I will use all the default options to create the database that we will be using in this course:\n",
    "\n",
    "    <font size=\"3\"> \n",
    "\n",
    "    ```sql\n",
    "        CREATE DATABASE formula1\n",
    "    ```"
   ]
  },
  {
   "cell_type": "markdown",
   "metadata": {
    "slideshow": {
     "slide_type": "slide"
    }
   },
   "source": [
    "## <span style=\"color:darkblue\"> Creating a new example table</span>\n",
    "\n",
    "<font size=\"5\"> \n",
    "\n",
    "1. Create an empty table by defining variables names and data types\n",
    "\n",
    "    - Let's for example create the drivers table\n",
    "\n",
    "    **Option 1:** using the GUI\n",
    "\n",
    "    - Click on the schema where you want to create the table\n",
    "\n",
    "    - Right click on the Tables option, and click on Create --> Table...\n",
    "\n",
    "    - Input the Name (drivers) \n",
    "\n",
    "    - click on the Columns section and start adding the columns using the + symbol\n",
    "\n",
    "    - You have to determine the data type, whether the column can have null values or not, and what is the Primary key\n"
   ]
  },
  {
   "cell_type": "markdown",
   "metadata": {
    "slideshow": {
     "slide_type": "slide"
    }
   },
   "source": [
    "<font size=\"5\"> \n",
    "\n",
    "**Option 2:** using the pgAdmin 4 Query Tool and SQL language\n",
    "\n",
    "- Click on the database where you want to create the table\n",
    "\n",
    "- Click on Tools --> Query Tool\n",
    "\n",
    "``` sql\n",
    "    CREATE TABLE schema.drivers(\n",
    "        driver_id int PRIMARY KEY NOT NULL,\n",
    "        driver_name varchar(30),\n",
    "        nationality varchar(15)\n",
    "    );\n",
    "```"
   ]
  },
  {
   "cell_type": "markdown",
   "metadata": {
    "slideshow": {
     "slide_type": "slide"
    }
   },
   "source": [
    "<font size=\"5\"> \n",
    "\n",
    "2. Enter the data into the table using the Query Tool\n",
    "\n",
    "    ``` sql\n",
    "        INSERT INTO schema.drivers  VALUES (1, 'Lewis Hamilton','British');\n",
    "        INSERT INTO schema.drivers  VALUES (4, 'Fernando Alonso', 'Spanish');\n",
    "    ```\n",
    "\n",
    "3. Check if the data was successfully entered into the table\n",
    "\n",
    "    ``` sql\n",
    "        SELECT * FROM schema.drivers;\n",
    "    ```"
   ]
  }
 ],
 "metadata": {
  "celltoolbar": "Slideshow",
  "kernelspec": {
   "display_name": "Python 3 (ipykernel)",
   "language": "python",
   "name": "python3"
  },
  "language_info": {
   "codemirror_mode": {
    "name": "ipython",
    "version": 3
   },
   "file_extension": ".py",
   "mimetype": "text/x-python",
   "name": "python",
   "nbconvert_exporter": "python",
   "pygments_lexer": "ipython3",
   "version": "3.9.0"
  },
  "vscode": {
   "interpreter": {
    "hash": "11838f79d2aaadbfa3a2adfaf35bacdebdb4e8d9b63957ddf298964812544a76"
   }
  }
 },
 "nbformat": 4,
 "nbformat_minor": 2
}
