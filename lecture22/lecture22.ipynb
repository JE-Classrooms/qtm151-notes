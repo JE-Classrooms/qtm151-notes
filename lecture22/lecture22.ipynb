{
 "cells": [
  {
   "cell_type": "markdown",
   "metadata": {},
   "source": [
    "# Module 7: Taking Everything Together with Use Cases"
   ]
  },
  {
   "cell_type": "markdown",
   "metadata": {},
   "source": [
    "## <span style=\"color:darkblue\">Creating Tables of Interest using ```psycopg2``` in Python </span> "
   ]
  },
  {
   "cell_type": "markdown",
   "metadata": {},
   "source": [
    "<font size=\"5\">\n",
    "\n",
    "- We are using two main libraries: \n",
    "\n",
    "    1. Pyscopg2 to connect with SQL ([here](https://www.psycopg.org/docs/) is the documentation)\n",
    "\n",
    "    2. sqlio to run SQL queries directly using Pandas ([here](https://pandas.pydata.org/pandas-docs/stable/reference/api/pandas.read_sql_query.html) is the documentation)"
   ]
  },
  {
   "cell_type": "code",
   "execution_count": 1,
   "metadata": {},
   "outputs": [],
   "source": [
    "import psycopg2\n",
    "import pandas.io.sql as sqlio"
   ]
  },
  {
   "cell_type": "markdown",
   "metadata": {},
   "source": [
    "<font size=\"5\">\n",
    "\n",
    "- The first step is to create a connection between Python and our local Formula 1 database "
   ]
  },
  {
   "cell_type": "code",
   "execution_count": 2,
   "metadata": {},
   "outputs": [],
   "source": [
    "con = psycopg2.connect(\n",
    "    host = 'localhost',\n",
    "    database = 'formula1',\n",
    "    user = 'postgres',\n",
    "    password  = '1nf1n1t0')"
   ]
  },
  {
   "cell_type": "markdown",
   "metadata": {},
   "source": [
    "<font size=\"5\">\n",
    "\n",
    "- Assume we want to create a table with the total points for each driver and read it directly with Pandas\n",
    "\n",
    "- In lecture 21, we use the following SQL query to create that table:\n",
    "\n",
    "```sql\n",
    "    SELECT driverid, SUM(points) AS total_points \n",
    "    FROM f1_tables.results\n",
    "    GROUP BY driverid\n",
    "    ORDER BY total_points DESC\n",
    "```\n",
    "\n",
    "- we can use psycopg2 and sqlio to execute the query and save the result in a pandas DataFrame directly\n",
    "\n",
    "1. Save the string of the query in a Python object "
   ]
  },
  {
   "cell_type": "code",
   "execution_count": 17,
   "metadata": {},
   "outputs": [
    {
     "name": "stderr",
     "output_type": "stream",
     "text": [
      "d:\\Users\\JuanEstrada\\anaconda3\\envs\\qtm151\\lib\\site-packages\\pandas\\io\\sql.py:762: UserWarning: pandas only support SQLAlchemy connectable(engine/connection) ordatabase string URI or sqlite3 DBAPI2 connectionother DBAPI2 objects are not tested, please consider using SQLAlchemy\n",
      "  warnings.warn(\n"
     ]
    }
   ],
   "source": [
    "points_query = (\"SELECT driverid, SUM(points) AS total_points \\\n",
    "                FROM f1_tables.results \\\n",
    "                GROUP BY driverid \\\n",
    "                ORDER BY total_points DESC;\")\n",
    "\n",
    "points = sqlio.read_sql_query(points_query, con)"
   ]
  },
  {
   "cell_type": "markdown",
   "metadata": {},
   "source": [
    "<font size=\"5\">\n",
    "\n",
    "- With the new table, we could create exploratory plots\n",
    "\n",
    "- Let's create a boxplot to explore the distribution of points across drivers"
   ]
  },
  {
   "cell_type": "code",
   "execution_count": 5,
   "metadata": {},
   "outputs": [],
   "source": [
    "import matplotlib.pyplot as plt\n",
    "import seaborn as sns"
   ]
  },
  {
   "cell_type": "code",
   "execution_count": 14,
   "metadata": {},
   "outputs": [
    {
     "data": {
      "text/plain": [
       "Text(0.5, 0, 'Distribution of points across drivers')"
      ]
     },
     "execution_count": 14,
     "metadata": {},
     "output_type": "execute_result"
    },
    {
     "data": {
      "image/png": "[encoded data removed]",
      "text/plain": [
       "<Figure size 640x480 with 1 Axes>"
      ]
     },
     "metadata": {},
     "output_type": "display_data"
    }
   ],
   "source": [
    "fig, ax = plt.subplots() \n",
    "sns.boxplot(data=points, x='total_points', showfliers = False)\n",
    "ax.set_xlabel('Distribution of points across drivers')"
   ]
  },
  {
   "cell_type": "code",
   "execution_count": 16,
   "metadata": {},
   "outputs": [
    {
     "data": {
      "text/plain": [
       "<AxesSubplot:xlabel='total_points'>"
      ]
     },
     "execution_count": 16,
     "metadata": {},
     "output_type": "execute_result"
    },
    {
     "data": {
      "image/png": "[encoded data removed]",
      "text/plain": [
       "<Figure size 640x480 with 1 Axes>"
      ]
     },
     "metadata": {},
     "output_type": "display_data"
    }
   ],
   "source": [
    "sns.boxplot(data=points[points['total_points']>0], x='total_points', showfliers = False)"
   ]
  },
  {
   "cell_type": "markdown",
   "metadata": {},
   "source": [
    "<font size=\"5\">\n",
    "\n",
    "- What if we want to see the distribution of points by drivers' country of origin?\n",
    "\n",
    "- We can use the SQL functions ```WITH``` and ```AS``` to use the result of a query as a table without having to create a new table in the database \n",
    "\n",
    "- If we want to match the points table with the drivers table, we can use the following query:"
   ]
  },
  {
   "cell_type": "markdown",
   "metadata": {},
   "source": [
    "```sql\n",
    "    WITH total_points_table AS (\n",
    "        SELECT driverid, SUM(points) AS total_points \n",
    "        FROM f1_tables.results \n",
    "        GROUP BY driverid \n",
    "        ORDER BY total_points DESC)\n",
    "\n",
    "    SELECT total_points_table.driverid, forename, surname, nationality, total_points\n",
    "    FROM total_points_table \n",
    "    LEFT JOIN f1_tables.drivers\n",
    "    ON total_points_table.driverid = drivers.driverid\n",
    "```"
   ]
  },
  {
   "cell_type": "markdown",
   "metadata": {},
   "source": [
    "<font size=\"5\">\n",
    "\n",
    "- We can use that query directly with sqlio to create a Pandas DataFrame"
   ]
  },
  {
   "cell_type": "code",
   "execution_count": 20,
   "metadata": {},
   "outputs": [
    {
     "name": "stderr",
     "output_type": "stream",
     "text": [
      "d:\\Users\\JuanEstrada\\anaconda3\\envs\\qtm151\\lib\\site-packages\\pandas\\io\\sql.py:762: UserWarning: pandas only support SQLAlchemy connectable(engine/connection) ordatabase string URI or sqlite3 DBAPI2 connectionother DBAPI2 objects are not tested, please consider using SQLAlchemy\n",
      "  warnings.warn(\n"
     ]
    }
   ],
   "source": [
    "points_nationality_query = (\"WITH total_points_table AS \\\n",
    "                            (SELECT driverid, SUM(points) AS total_points \\\n",
    "                            FROM f1_tables.results \\\n",
    "                            GROUP BY driverid  \\\n",
    "                            ORDER BY total_points DESC) \\\n",
    "                            SELECT total_points_table.driverid, forename, surname, nationality, total_points \\\n",
    "                            FROM total_points_table \\\n",
    "                            LEFT JOIN f1_tables.drivers \\\n",
    "                            ON total_points_table.driverid = drivers.driverid;\")\n",
    "\n",
    "points_nationality = sqlio.read_sql_query(points_nationality_query, con)"
   ]
  },
  {
   "cell_type": "code",
   "execution_count": 21,
   "metadata": {},
   "outputs": [
    {
     "data": {
      "text/html": [
       "<div>\n",
       "<style scoped>\n",
       "    .dataframe tbody tr th:only-of-type {\n",
       "        vertical-align: middle;\n",
       "    }\n",
       "\n",
       "    .dataframe tbody tr th {\n",
       "        vertical-align: top;\n",
       "    }\n",
       "\n",
       "    .dataframe thead th {\n",
       "        text-align: right;\n",
       "    }\n",
       "</style>\n",
       "<table border=\"1\" class=\"dataframe\">\n",
       "  <thead>\n",
       "    <tr style=\"text-align: right;\">\n",
       "      <th></th>\n",
       "      <th>driverid</th>\n",
       "      <th>forename</th>\n",
       "      <th>surname</th>\n",
       "      <th>nationality</th>\n",
       "      <th>total_points</th>\n",
       "    </tr>\n",
       "  </thead>\n",
       "  <tbody>\n",
       "    <tr>\n",
       "      <th>0</th>\n",
       "      <td>1</td>\n",
       "      <td>Lewis</td>\n",
       "      <td>Hamilton</td>\n",
       "      <td>British</td>\n",
       "      <td>4308.5</td>\n",
       "    </tr>\n",
       "    <tr>\n",
       "      <th>1</th>\n",
       "      <td>2</td>\n",
       "      <td>Nick</td>\n",
       "      <td>Heidfeld</td>\n",
       "      <td>German</td>\n",
       "      <td>259.0</td>\n",
       "    </tr>\n",
       "    <tr>\n",
       "      <th>2</th>\n",
       "      <td>3</td>\n",
       "      <td>Nico</td>\n",
       "      <td>Rosberg</td>\n",
       "      <td>German</td>\n",
       "      <td>1594.5</td>\n",
       "    </tr>\n",
       "    <tr>\n",
       "      <th>3</th>\n",
       "      <td>4</td>\n",
       "      <td>Fernando</td>\n",
       "      <td>Alonso</td>\n",
       "      <td>Spanish</td>\n",
       "      <td>2021.0</td>\n",
       "    </tr>\n",
       "    <tr>\n",
       "      <th>4</th>\n",
       "      <td>5</td>\n",
       "      <td>Heikki</td>\n",
       "      <td>Kovalainen</td>\n",
       "      <td>Finnish</td>\n",
       "      <td>105.0</td>\n",
       "    </tr>\n",
       "    <tr>\n",
       "      <th>...</th>\n",
       "      <td>...</td>\n",
       "      <td>...</td>\n",
       "      <td>...</td>\n",
       "      <td>...</td>\n",
       "      <td>...</td>\n",
       "    </tr>\n",
       "    <tr>\n",
       "      <th>849</th>\n",
       "      <td>851</td>\n",
       "      <td>Jack</td>\n",
       "      <td>Aitken</td>\n",
       "      <td>British</td>\n",
       "      <td>0.0</td>\n",
       "    </tr>\n",
       "    <tr>\n",
       "      <th>850</th>\n",
       "      <td>852</td>\n",
       "      <td>Yuki</td>\n",
       "      <td>Tsunoda</td>\n",
       "      <td>Japanese</td>\n",
       "      <td>43.0</td>\n",
       "    </tr>\n",
       "    <tr>\n",
       "      <th>851</th>\n",
       "      <td>853</td>\n",
       "      <td>Nikita</td>\n",
       "      <td>Mazepin</td>\n",
       "      <td>Russian</td>\n",
       "      <td>0.0</td>\n",
       "    </tr>\n",
       "    <tr>\n",
       "      <th>852</th>\n",
       "      <td>854</td>\n",
       "      <td>Mick</td>\n",
       "      <td>Schumacher</td>\n",
       "      <td>German</td>\n",
       "      <td>12.0</td>\n",
       "    </tr>\n",
       "    <tr>\n",
       "      <th>853</th>\n",
       "      <td>855</td>\n",
       "      <td>Guanyu</td>\n",
       "      <td>Zhou</td>\n",
       "      <td>Chinese</td>\n",
       "      <td>5.0</td>\n",
       "    </tr>\n",
       "  </tbody>\n",
       "</table>\n",
       "<p>854 rows × 5 columns</p>\n",
       "</div>"
      ],
      "text/plain": [
       "     driverid  forename     surname nationality  total_points\n",
       "0           1     Lewis    Hamilton     British        4308.5\n",
       "1           2      Nick    Heidfeld      German         259.0\n",
       "2           3      Nico     Rosberg      German        1594.5\n",
       "3           4  Fernando      Alonso     Spanish        2021.0\n",
       "4           5    Heikki  Kovalainen     Finnish         105.0\n",
       "..        ...       ...         ...         ...           ...\n",
       "849       851      Jack      Aitken     British           0.0\n",
       "850       852      Yuki     Tsunoda    Japanese          43.0\n",
       "851       853    Nikita     Mazepin     Russian           0.0\n",
       "852       854      Mick  Schumacher      German          12.0\n",
       "853       855    Guanyu        Zhou     Chinese           5.0\n",
       "\n",
       "[854 rows x 5 columns]"
      ]
     },
     "execution_count": 21,
     "metadata": {},
     "output_type": "execute_result"
    }
   ],
   "source": [
    "points_nationality"
   ]
  },
  {
   "cell_type": "markdown",
   "metadata": {},
   "source": [
    "<font size=\"5\">\n",
    "\n",
    "- Let's now create a series of boxplots by Nationality"
   ]
  },
  {
   "cell_type": "code",
   "execution_count": 32,
   "metadata": {},
   "outputs": [],
   "source": [
    "nl = list(points_nationality[['nationality', 'total_points']].groupby('nationality', as_index=False).sum().sort_values(\n",
    "                                                            by='total_points', ascending=False)['nationality'])"
   ]
  },
  {
   "cell_type": "code",
   "execution_count": 37,
   "metadata": {},
   "outputs": [],
   "source": [
    "points_plot = points_nationality[points_nationality['nationality'].isin(nl[0:5])]"
   ]
  },
  {
   "cell_type": "code",
   "execution_count": 38,
   "metadata": {},
   "outputs": [
    {
     "data": {
      "text/plain": [
       "<AxesSubplot:xlabel='total_points', ylabel='nationality'>"
      ]
     },
     "execution_count": 38,
     "metadata": {},
     "output_type": "execute_result"
    },
    {
     "data": {
      "image/png": "[encoded data removed]",
      "text/plain": [
       "<Figure size 640x480 with 1 Axes>"
      ]
     },
     "metadata": {},
     "output_type": "display_data"
    }
   ],
   "source": [
    "fig, ax = plt.subplots() \n",
    "sns.boxplot(data=points_plot, x='total_points', y = 'nationality', showfliers = False)"
   ]
  }
 ],
 "metadata": {
  "kernelspec": {
   "display_name": "Python 3.10.4 ('qtm151')",
   "language": "python",
   "name": "python3"
  },
  "language_info": {
   "codemirror_mode": {
    "name": "ipython",
    "version": 3
   },
   "file_extension": ".py",
   "mimetype": "text/x-python",
   "name": "python",
   "nbconvert_exporter": "python",
   "pygments_lexer": "ipython3",
   "version": "3.10.4"
  },
  "orig_nbformat": 4,
  "vscode": {
   "interpreter": {
    "hash": "3319a3e6688fa2abbcabd2d471afffc8c0f79c015c5e314953c31ba97b81624b"
   }
  }
 },
 "nbformat": 4,
 "nbformat_minor": 2
}
