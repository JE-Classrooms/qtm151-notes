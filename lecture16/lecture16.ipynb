{
 "cells": [
  {
   "cell_type": "markdown",
   "metadata": {},
   "source": [
    "# <span style=\"color:darkblue\"> Today: Pandas Merge and Concat Methods</span>"
   ]
  },
  {
   "cell_type": "markdown",
   "metadata": {},
   "source": [
    "<font size=\"5\"> \n",
    "\n",
    "- You can complement this lesson with this Datacamp course: https://app.datacamp.com/learn/courses/joining-data-with-pandas\n",
    "\n",
    "- The ```DataFrame.merge()``` and ```DataFrame.concat()``` methods are two ways to combine different data frames together \n",
    "\n",
    "- **Merge:** combines data on common column values\n",
    "\n",
    "- **Concat:** combines data based on column names"
   ]
  },
  {
   "cell_type": "markdown",
   "metadata": {},
   "source": [
    "## <span style=\"color:darkblue\"> 1. The merge method</span>\n",
    "\n",
    "<font size=\"5\"> \n",
    "\n",
    "- When you want to combine data objects based on one or more keys --> **combine rows that share data**\n",
    "\n",
    "- When using ```merge```, we need to provide two required arguments:\n",
    "\n",
    "    - The **left** ```DataFrame```\n",
    "    \n",
    "    - The **right** ```DataFrame```\n",
    "\n",
    "- Merge is a flexible method and consequently it has many options\n",
    "\n",
    "- There is one option that is particularly relevant to understand: ```how``` --> **specifies the type of merge we want to execute**\n",
    "\n",
    "![rdb_us](images/rdb_us_congress.png)"
   ]
  },
  {
   "cell_type": "markdown",
   "metadata": {},
   "source": [
    "### **Types of merge**\n",
    "\n",
    "<font size=\"5\"> \n",
    "\n",
    "- There are four types of merges:\n",
    "\n",
    "    1. inner\n",
    "    \n",
    "    2. outer \n",
    "\n",
    "    3. left \n",
    "\n",
    "    4. right\n",
    "\n",
    "![merges](images/merges.png)\n"
   ]
  },
  {
   "cell_type": "markdown",
   "metadata": {},
   "source": [
    "## <span style=\"color:darkblue\"> Sample of the U.S. Congress relational data </span>\n",
    "\n",
    "![rdb_us](images/rdb_us_congress.png)"
   ]
  },
  {
   "cell_type": "markdown",
   "metadata": {},
   "source": [
    "<font size=\"5\"> \n",
    "\n",
    "- **Example 1:** we want to know what proportion of bills actions were proposed by members of the Senate and what percentage by members of the House of Representatives\n",
    "\n",
    "    1. Check how many unique ```member_id``` there are in the **bills actions** table\n",
    "\n",
    "    2. Check how many unique ```member_id``` there are in the **congress member** table\n",
    "\n",
    "    3. What type of merge should we use?"
   ]
  },
  {
   "cell_type": "code",
   "execution_count": null,
   "metadata": {},
   "outputs": [],
   "source": []
  },
  {
   "cell_type": "markdown",
   "metadata": {},
   "source": [
    "<font size=\"5\"> \n",
    "\n",
    "- Let's try the inner merge first. [Here](https://pandas.pydata.org/docs/reference/api/pandas.DataFrame.merge.html) are the Pandas options:\n",
    "\n",
    "    - **how:** {‘left’, ‘right’, ‘outer’, ‘inner’, ‘cross’}, **default** ‘inner’\n",
    "\n",
    "    - **on:** label or list\n",
    "\n",
    "    - **left_on** and **right_on** in case the variables have different numbers"
   ]
  },
  {
   "cell_type": "code",
   "execution_count": null,
   "metadata": {},
   "outputs": [],
   "source": []
  },
  {
   "cell_type": "markdown",
   "metadata": {},
   "source": [
    "<font size=\"5\"> \n",
    "\n",
    "- Is something going to change if we use ```how='left'```?"
   ]
  },
  {
   "cell_type": "code",
   "execution_count": null,
   "metadata": {},
   "outputs": [],
   "source": []
  },
  {
   "cell_type": "markdown",
   "metadata": {},
   "source": [
    "<font size=\"5\"> \n",
    "\n",
    "- How about if we use ```how='right'```?"
   ]
  },
  {
   "cell_type": "code",
   "execution_count": null,
   "metadata": {},
   "outputs": [],
   "source": []
  },
  {
   "cell_type": "markdown",
   "metadata": {},
   "source": [
    "<font size=\"5\"> \n",
    "\n",
    "- Let's save the correct merged data into a new object and perform the calculation we need\n",
    "\n",
    "- How can I calculate the proportion of legislative actions from Senators and House Representatives "
   ]
  },
  {
   "cell_type": "code",
   "execution_count": null,
   "metadata": {},
   "outputs": [],
   "source": []
  },
  {
   "cell_type": "markdown",
   "metadata": {},
   "source": [
    "## <span style=\"color:darkblue\"> 1.1. Merging on more than one key</span>\n",
    "\n",
    "<font size=\"5\"> \n",
    "\n",
    "- Instead of passing only a name for the ```on``` option, we pass a list\n",
    "\n",
    "- **Example 2:** how many actions are associated with the subject ```'Congressional oversight'```?"
   ]
  },
  {
   "cell_type": "markdown",
   "metadata": {},
   "source": [
    "![rdb_us](images/rdb_us_congress.png)"
   ]
  },
  {
   "cell_type": "code",
   "execution_count": null,
   "metadata": {},
   "outputs": [],
   "source": []
  },
  {
   "cell_type": "markdown",
   "metadata": {},
   "source": [
    "## <span style=\"color:darkblue\"> 2. The concat method</span>\n",
    "\n",
    "<font size=\"5\"> \n",
    "\n",
    "- With concatenation, the datasets are pulled together along an axis: column or row\n",
    "\n",
    "![concat](images/concat.png)"
   ]
  },
  {
   "cell_type": "markdown",
   "metadata": {},
   "source": [
    "<font size=\"5\"> \n",
    "\n",
    "- **Example 3:** concatenate the bills actions tables with and without ```member_id```"
   ]
  },
  {
   "cell_type": "code",
   "execution_count": null,
   "metadata": {},
   "outputs": [],
   "source": []
  }
 ],
 "metadata": {
  "kernelspec": {
   "display_name": "Python 3.10.6 ('qtm151')",
   "language": "python",
   "name": "python3"
  },
  "language_info": {
   "codemirror_mode": {
    "name": "ipython",
    "version": 3
   },
   "file_extension": ".py",
   "mimetype": "text/x-python",
   "name": "python",
   "nbconvert_exporter": "python",
   "pygments_lexer": "ipython3",
   "version": "3.10.6"
  },
  "orig_nbformat": 4,
  "vscode": {
   "interpreter": {
    "hash": "41aca5538fb71c95d9979d39d17102ee2d67fb2fbe4f4222ae9e94be3ccaf88e"
   }
  }
 },
 "nbformat": 4,
 "nbformat_minor": 2
}
