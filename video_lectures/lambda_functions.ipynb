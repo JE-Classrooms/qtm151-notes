{
 "cells": [
  {
   "cell_type": "markdown",
   "metadata": {},
   "source": [
    "# <span style=\"color:darkblue\"> 1. Lambda Functions </span>\n",
    "\n",
    "<font size=\"5\"> \n",
    "\n",
    "- A lambda function refers to a small, **anonymous** function\n",
    "\n",
    "- By anonymous we mean that we do not define a name for these functions using the ```def``` keywords\n",
    "\n",
    "- Other than not having a name, lambda functions **behave the same as regular user-defined** functions\n",
    "\n",
    "- Lambda functions are mainly used for creating small, single-use functions\n"
   ]
  },
  {
   "cell_type": "markdown",
   "metadata": {},
   "source": [
    "## <span style=\"color:darkblue\"> Lambda Function Syntax</span>\n",
    "\n",
    "<font size=\"5\"> \n",
    "\n",
    "- All Python Lambda Functions following the same exact syntax:\n",
    "\n",
    "```lambda arguments: expression```\n",
    "\n",
    "- They keyword ```lambda``` acts in a similar way as ```def``` to specify the start of the lambda function\n",
    "\n",
    "- In lambda functions the parameters of the function **do not** go inside parenthesis *()* as in user-defined functions\n",
    "\n",
    "- Instead, you just list the parameters separated by commas (,) after the keyword ```lambda```\n",
    "\n",
    "- You use colon (:) to specify that the body of the function is starting\n",
    "\n",
    "**Example:**\n",
    "\n",
    "Declare a lambda function that adds up any three numbers"
   ]
  },
  {
   "cell_type": "code",
   "execution_count": 24,
   "metadata": {},
   "outputs": [
    {
     "data": {
      "text/plain": [
       "<function __main__.<lambda>(x, y, z)>"
      ]
     },
     "execution_count": 24,
     "metadata": {},
     "output_type": "execute_result"
    }
   ],
   "source": [
    "lambda x, y, z: x + y + z"
   ]
  },
  {
   "cell_type": "markdown",
   "metadata": {},
   "source": [
    "<font size=\"5\"> \n",
    "\n",
    "- The lambda function defined above is a simpler version of the following user-defined function"
   ]
  },
  {
   "cell_type": "code",
   "execution_count": 2,
   "metadata": {},
   "outputs": [],
   "source": [
    "def summing(x, y, z):\n",
    "    return x + y + x"
   ]
  },
  {
   "cell_type": "markdown",
   "metadata": {},
   "source": [
    "<font size=\"5\">\n",
    "\n",
    "- Our newly defined only creates a function object and doesn’t return anything\n",
    "\n",
    "- To pass an argument to a lambda function, execute it, and return the result, we should use the following syntax:\n",
    "\n",
    "```(lambda arguments: expression)(values for the arguments)```\n",
    "\n",
    "**Example**\n",
    "\n",
    "Print the solution for the addition 1+2+3"
   ]
  },
  {
   "cell_type": "code",
   "execution_count": 27,
   "metadata": {},
   "outputs": [
    {
     "data": {
      "text/plain": [
       "'d2v'"
      ]
     },
     "execution_count": 27,
     "metadata": {},
     "output_type": "execute_result"
    }
   ],
   "source": [
    "(lambda x, y, z: x + y + z)('d','2','v')"
   ]
  },
  {
   "cell_type": "markdown",
   "metadata": {},
   "source": [
    "<font size=\"5\">\n",
    "\n",
    "- With a lambda function, we can execute the function immediately after its creation and receive the result\n",
    "\n",
    "- This coding scheme is called immediately invoked function execution (or IIFE)\n",
    "\n",
    "- We can assign a lambda function to a variable and then call that variable as a normal function:"
   ]
  },
  {
   "cell_type": "code",
   "execution_count": 30,
   "metadata": {},
   "outputs": [
    {
     "data": {
      "text/plain": [
       "'d2v'"
      ]
     },
     "execution_count": 30,
     "metadata": {},
     "output_type": "execute_result"
    }
   ],
   "source": [
    "summing = lambda x, y, z: x + y + z\n",
    "summing('d','2','v')"
   ]
  },
  {
   "cell_type": "markdown",
   "metadata": {},
   "source": [
    "<font size=\"5\">\n",
    "\n",
    "- However, it’s a bad practice, according the PEP 8 style guide for Python code:\n",
    "\n",
    "<span style=\"color:white\">'</span>\n",
    "\n",
    "*\"The use of the assignment statement eliminates the sole benefit a lambda expression can offer over an explicit def statement (i.e., that it can be embedded inside a larger expression).\"*\n",
    "\n",
    "<span style=\"color:white\">'</span>\n",
    "\n",
    "- If we really need to store a function for further usage, instead of assigning a lambda function to a variable, we can define an equivalent user-defined function."
   ]
  },
  {
   "cell_type": "markdown",
   "metadata": {},
   "source": [
    "# <span style=\"color:darkblue\"> 2. Lambda with the ```filter()``` Function </span>\n",
    "\n",
    "<font size=\"5\">\n",
    "\n",
    "- We use the ```filter()``` function to select certain items from an iterable: lists, tuples, Series...\n",
    "\n",
    "- The filtering process is based on predefined criteria\n",
    "\n",
    "- The ```filter()``` function takes two arguments:\n",
    "\n",
    "    1. A function that defines the filtering criteria\n",
    "\n",
    "    \n",
    "    2. An iterable on which the function runs\n",
    "\n",
    "\n",
    "**Example 1:** \n",
    "\n",
    "Create a program to keep the numbers smaller than 5 in a list. \n",
    "\n",
    "**Input:** ```[33, 3, 22, 2, 11, 1]```\n",
    "\n",
    "**Expected output:** ```[3, 2, 1]```"
   ]
  },
  {
   "cell_type": "code",
   "execution_count": 31,
   "metadata": {},
   "outputs": [
    {
     "data": {
      "text/plain": [
       "<filter at 0x1cb197d4d60>"
      ]
     },
     "execution_count": 31,
     "metadata": {},
     "output_type": "execute_result"
    }
   ],
   "source": [
    "l = [33, 3, 22, 2, 11, 1]\n",
    "filter(lambda x: x<5, l)"
   ]
  },
  {
   "cell_type": "markdown",
   "metadata": {},
   "source": [
    "<font size=\"5\">\n",
    "\n",
    "- The filter operation returns a filter object in memory\n",
    "\n",
    "- To get a new iterable from the filter object we need to use one of the built-in functions to transform an object into an iterable. Fox example:\n",
    "\n",
    "    ```list()```, ```tuple()```, or ```sorted()```"
   ]
  },
  {
   "cell_type": "code",
   "execution_count": 35,
   "metadata": {},
   "outputs": [
    {
     "data": {
      "text/plain": [
       "[3, 2, 1]"
      ]
     },
     "execution_count": 35,
     "metadata": {},
     "output_type": "execute_result"
    }
   ],
   "source": [
    "list(filter(lambda x: x<5, l))"
   ]
  },
  {
   "cell_type": "markdown",
   "metadata": {},
   "source": [
    "<font size=\"5\">\n",
    "\n",
    "**Example 2:**\n",
    "\n",
    "- Write a Python program to find all anagrams of a string in a given list of strings using lambda.\n",
    "\n",
    "**Input:** ```['bcda', 'abce', 'cbda', 'cbea', 'adcb']```\n",
    "\n",
    "Anagrams of 'abcd'\n",
    "\n",
    "**Expected output:** ```['bcda', 'cbda', 'adcb']```\n",
    "\n",
    "*Hint:* an anagram is a word, phrase, or name formed by rearranging the letters of another, such as cinema, formed from iceman."
   ]
  },
  {
   "cell_type": "code",
   "execution_count": 37,
   "metadata": {},
   "outputs": [],
   "source": [
    "def freq(string):\n",
    "    all_freq = {}\n",
    "    for ch in string:\n",
    "        if ch in all_freq:\n",
    "            all_freq[ch] += 1\n",
    "        else:\n",
    "            all_freq[ch] = 1\n",
    "    return all_freq "
   ]
  },
  {
   "cell_type": "code",
   "execution_count": 44,
   "metadata": {},
   "outputs": [],
   "source": [
    "il = ['bcda', 'abce', 'cbda', 'cbea', 'adcb']\n",
    "objective = 'abcd'\n",
    "ol = list(filter(lambda c: freq(c)==freq(objective), il))"
   ]
  },
  {
   "cell_type": "code",
   "execution_count": 49,
   "metadata": {},
   "outputs": [
    {
     "data": {
      "text/plain": [
       "True"
      ]
     },
     "execution_count": 49,
     "metadata": {},
     "output_type": "execute_result"
    }
   ],
   "source": [
    "freq(il[0]) == freq(objective)"
   ]
  },
  {
   "cell_type": "markdown",
   "metadata": {},
   "source": [
    "# <span style=\"color:darkblue\"> 3. Lambda with the ```map()``` Function </span>\n",
    "\n",
    "<font size=\"5\">\n",
    "\n",
    "- We use the ```map()``` function to perform a certain operation to each element in an iterable: lists, tuples, Series...\n",
    "\n",
    "- The syntax for ```map()``` is identical to that of ```filter()```:\n",
    "\n",
    "    1. A function that defines the operation to perform on the elements\n",
    "\n",
    "    \n",
    "    2. An iterable on which the function runs\n",
    "\n",
    "- As with the ```filter()``` function, we can extract an iterable of a different type than the original one from a map object and also assign it to a variable\n",
    "\n",
    "**Example 1:** \n",
    "\n",
    "Create a program to multiply all the elements of a list by a given number $n$ \n"
   ]
  },
  {
   "cell_type": "code",
   "execution_count": 52,
   "metadata": {},
   "outputs": [
    {
     "data": {
      "text/plain": [
       "[10, 20, 30, 70, 60, 50]"
      ]
     },
     "execution_count": 52,
     "metadata": {},
     "output_type": "execute_result"
    }
   ],
   "source": [
    "l = [1,2,3,7,6,5]\n",
    "n = 10\n",
    "list(map(lambda t: t*n, l))"
   ]
  },
  {
   "cell_type": "markdown",
   "metadata": {},
   "source": [
    "<font size=\"5\">\n",
    "\n",
    "**Example 2:**\n",
    "\n",
    "Write a Python program to add two given lists using map and lambda.\n",
    "\n",
    "**Original lists:**\n",
    "\n",
    "```python\n",
    "[1, 2, 3]\n",
    "[4, 5, 6]\n",
    "```\n",
    "\n",
    "**Result: after adding two list**\n",
    "\n",
    "```python\n",
    "[5, 7, 9]\n",
    "```"
   ]
  },
  {
   "cell_type": "code",
   "execution_count": 54,
   "metadata": {},
   "outputs": [],
   "source": [
    "l1, l2 = [1, 2, 3], [4, 5, 6]\n",
    "\n",
    "result = map(lambda x, y: x + y, l1, l2)"
   ]
  },
  {
   "cell_type": "code",
   "execution_count": 56,
   "metadata": {},
   "outputs": [
    {
     "data": {
      "text/plain": [
       "[5, 7, 9]"
      ]
     },
     "execution_count": 56,
     "metadata": {},
     "output_type": "execute_result"
    }
   ],
   "source": [
    "list(result)"
   ]
  }
 ],
 "metadata": {
  "kernelspec": {
   "display_name": "Python 3.8.5 ('base')",
   "language": "python",
   "name": "python3"
  },
  "language_info": {
   "codemirror_mode": {
    "name": "ipython",
    "version": 3
   },
   "file_extension": ".py",
   "mimetype": "text/x-python",
   "name": "python",
   "nbconvert_exporter": "python",
   "pygments_lexer": "ipython3",
   "version": "3.8.5"
  },
  "orig_nbformat": 4,
  "vscode": {
   "interpreter": {
    "hash": "9fbb33e86ca55080a202fed700efde3fb4ffe3f46131e5b52201b9ba06ce5f72"
   }
  }
 },
 "nbformat": 4,
 "nbformat_minor": 2
}
