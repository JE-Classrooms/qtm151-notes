{
 "cells": [
  {
   "cell_type": "markdown",
   "metadata": {},
   "source": [
    "# <span style=\"color:darkblue\"> Class Review </span>\n",
    "\n",
    "<font size=\"5\"> \n",
    "\n",
    "- Went through an example to understand the quiz workflow solving some math and numbers exercises \n",
    "\n",
    "- Introduced the string data type and work with some examples"
   ]
  },
  {
   "cell_type": "markdown",
   "metadata": {},
   "source": [
    "# <span style=\"color:darkblue\"> The list data type and for loops </span> \n",
    "\n",
    "<font size=\"5\"> \n",
    "\n",
    "**Learning Objectives:**\n",
    "\n",
    "- Introduce lists data types. \n",
    "\n",
    "    - Indexing\n",
    "\n",
    "    - List methods: append, sort, reverse, insert, remove, count, pop, extend\n",
    "\n",
    "- For loops and list comprehensions with exercises"
   ]
  },
  {
   "cell_type": "markdown",
   "metadata": {},
   "source": [
    "## <span style=\"color:darkblue\"> Lists </span> "
   ]
  },
  {
   "cell_type": "markdown",
   "metadata": {},
   "source": [
    "<font size=\"5\"> \n",
    "\n",
    "- Lists are one of the ways to store sequence of elements in Python \n",
    "\n",
    "- There are other two important ways to represent sequences: tuples and arrays (we will cover them later)\n",
    "\n",
    "- To create a list, you put a sequence of elements in square brackets"
   ]
  },
  {
   "cell_type": "code",
   "execution_count": null,
   "metadata": {},
   "outputs": [],
   "source": [
    "[1, 2, 3]"
   ]
  },
  {
   "cell_type": "markdown",
   "metadata": {},
   "source": [
    "<font size=\"5\"> \n",
    "\n",
    "- One important advantage of using lists to store sequences of elements is that the elements can be any type\n",
    "\n",
    "- You can also assign a list to a variable"
   ]
  },
  {
   "cell_type": "code",
   "execution_count": null,
   "metadata": {},
   "outputs": [],
   "source": [
    "mix_list = ['assignment', 4, 'is due', 'on', 'wednesday', 14]\n",
    "mix_list"
   ]
  },
  {
   "cell_type": "markdown",
   "metadata": {},
   "source": [
    "<font size=\"5\"> \n",
    "\n",
    "- You can also define empty lists\n",
    "\n",
    "- Here is the function ```len``` that we will use often in the future"
   ]
  },
  {
   "cell_type": "code",
   "execution_count": null,
   "metadata": {},
   "outputs": [],
   "source": []
  },
  {
   "cell_type": "markdown",
   "metadata": {},
   "source": [
    "<font size=\"5\"> \n",
    "\n",
    "- You can also use some arithmetic operators with lists: ```+``` and ```*```\n",
    "\n",
    "**Example:** \n",
    "\n",
    "Given the list ```guests = ['Ana', 'Kim', 'Pedro']``` add the new group of guests to the party: Luis, Teddy and Steve"
   ]
  },
  {
   "cell_type": "code",
   "execution_count": null,
   "metadata": {},
   "outputs": [],
   "source": []
  },
  {
   "cell_type": "markdown",
   "metadata": {},
   "source": [
    "## <span style=\"color:darkblue\"> Lists Methods</span> \n",
    "\n",
    "<font size=\"5\"> \n",
    "\n",
    "- This [link](https://www.w3schools.com/python/python_ref_list.asp) contains some of the methods that we will use the most with lists\n",
    "\n",
    "- We could use methods instead of arithmetic operators to solve the previous example"
   ]
  },
  {
   "cell_type": "code",
   "execution_count": null,
   "metadata": {},
   "outputs": [],
   "source": []
  },
  {
   "cell_type": "markdown",
   "metadata": {},
   "source": [
    "<font size=\"5\"> \n",
    "    \n",
    "**Example:**\n",
    "\n",
    "Reverse the following list: ```list1 = [100, 200, 300, 400, 500]```"
   ]
  },
  {
   "cell_type": "code",
   "execution_count": null,
   "metadata": {},
   "outputs": [],
   "source": []
  },
  {
   "cell_type": "markdown",
   "metadata": {},
   "source": [
    "<font size=\"5\"> \n",
    "\n",
    "- If you wanted to exclude Pedro form the list of guests we defined before, how can you do it?\n",
    "\n",
    "1. Slicing the list:"
   ]
  },
  {
   "cell_type": "code",
   "execution_count": null,
   "metadata": {},
   "outputs": [],
   "source": []
  },
  {
   "cell_type": "markdown",
   "metadata": {},
   "source": [
    "<font size=\"5\">\n",
    "\n",
    "2. Using methods:"
   ]
  },
  {
   "cell_type": "code",
   "execution_count": null,
   "metadata": {},
   "outputs": [],
   "source": []
  },
  {
   "cell_type": "markdown",
   "metadata": {},
   "source": [
    "## <span style=\"color:darkblue\"> For Loops</span> \n",
    "\n",
    "<font size=\"5\"> \n",
    "\n",
    "One of the most important elements of computation is repetition, and the most common way to express repetition is a for loop. As a simple example, suppose we want to display the elements of a list. Here’s a list of three integers:"
   ]
  },
  {
   "cell_type": "code",
   "execution_count": null,
   "metadata": {},
   "outputs": [],
   "source": [
    "t = [1, 2, 3]"
   ]
  },
  {
   "cell_type": "code",
   "execution_count": null,
   "metadata": {},
   "outputs": [],
   "source": [
    "for x in t:\n",
    "    print(x)"
   ]
  },
  {
   "cell_type": "markdown",
   "metadata": {},
   "source": [
    "<font size=\"5\"> \n",
    "\n",
    "- The first line of the loop is a header that specifies the list, ```t```, and a variable name ```x```. The list already exists, but ```x``` does not; the loop will create it. The header has to end with a colon, ```:```\n",
    "\n",
    "- Inside the loop is a print statement, which displays the value of ```x```\n",
    "\n",
    "So here’s what happens:\n",
    "\n",
    "1. When the loop starts, it gets the first element of ```t```, which is 1, and assigns it to ```x```. It executes the print statement, which displays the value 1.\n",
    "\n",
    "2. Then it gets the second element of ```t```, which is 2, and displays it.\n",
    "\n",
    "3. Then it gets the third element of ```t```, which is 3, and displays it.\n",
    "\n",
    "4. After printing the last element of the tuple, the loop ends."
   ]
  },
  {
   "cell_type": "markdown",
   "metadata": {},
   "source": [
    "<font size=\"5\"> \n",
    "\n",
    "**Exercise:**\n",
    "\n",
    "Given a list of numbers, write a program to turn every item of a list into its square: ```numbers = [1, 2, 3, 4, 5, 6, 7]```\n",
    "\n",
    "*Expected output:* [1, 4, 9, 16, 25, 36, 49]"
   ]
  },
  {
   "cell_type": "code",
   "execution_count": null,
   "metadata": {},
   "outputs": [],
   "source": []
  },
  {
   "cell_type": "markdown",
   "metadata": {},
   "source": [
    "<font size=\"5\"> \n",
    "\n",
    "We can also loop through the letters in a string:"
   ]
  },
  {
   "cell_type": "code",
   "execution_count": null,
   "metadata": {},
   "outputs": [],
   "source": [
    "word = 'Data'\n",
    "\n",
    "for letter in word:\n",
    "    print(letter)"
   ]
  },
  {
   "cell_type": "markdown",
   "metadata": {},
   "source": [
    "## <span style=\"color:darkblue\"> Lists Comprehensions</span>\n",
    "\n",
    "<font size=\"5\"> \n",
    "\n",
    "- List comprehension offers a shorter syntax when you want to create a new list based on the values of an existing list\n",
    "\n",
    "- List comprehension are the Pythonian way to loop over the elements of a list\n",
    "\n",
    "**Example:**\n",
    "\n",
    "Using list comprehensions instead of the for loop to calculate the squares of the components of the list ```numbers```"
   ]
  },
  {
   "cell_type": "code",
   "execution_count": null,
   "metadata": {},
   "outputs": [],
   "source": []
  },
  {
   "cell_type": "markdown",
   "metadata": {},
   "source": [
    "<font size=\"5\"> \n",
    "\n",
    "**Exercise:**\n",
    "\n",
    "Concatenate two lists in the following order\n",
    "\n",
    "```list1 = [\"Hello \", \"take \"]```\n",
    "\n",
    "```list2 = [\"Dear\", \"Sir\"]```\n",
    "\n",
    "*Expected output:* ['Hello Dear', 'Hello Sir', 'take Dear', 'take Sir']\n",
    "\n",
    "Hint: use a list comprehension across the two lists"
   ]
  },
  {
   "cell_type": "code",
   "execution_count": null,
   "metadata": {},
   "outputs": [],
   "source": []
  },
  {
   "cell_type": "markdown",
   "metadata": {},
   "source": [
    "## <span style=\"color:darkblue\"> Looping and Counting</span>\n",
    "\n",
    "<font size=\"5\"> \n",
    "\n",
    "- Suppose that we cannot use the ```len()``` function and we want to count the number of characters in the following string:\n",
    "\n",
    "    ```Passed Senate with amendments by Yea-Nay Vote. 73 - 21. Record Vote Number: 3 . (text: CR S430-557 )```\n",
    "\n",
    "- We can use a for loop for counting the characters"
   ]
  },
  {
   "cell_type": "markdown",
   "metadata": {},
   "source": [
    "<font size=\"5\"> \n",
    "\n",
    "1. We need to define a variable that will contain the final count"
   ]
  },
  {
   "cell_type": "code",
   "execution_count": null,
   "metadata": {},
   "outputs": [],
   "source": [
    "count = 0"
   ]
  },
  {
   "cell_type": "markdown",
   "metadata": {},
   "source": [
    "<font size=\"5\"> \n",
    "\n",
    "2 . If we assign a different value to the variable ```count```, it will replace the old value. Therefore, we can increase the value by adding 1 to the original value"
   ]
  },
  {
   "cell_type": "code",
   "execution_count": null,
   "metadata": {},
   "outputs": [],
   "source": [
    "count = count + 1"
   ]
  },
  {
   "cell_type": "markdown",
   "metadata": {},
   "source": [
    "<font size=\"5\"> \n",
    "\n",
    "3. We can use this idea and the for loop to count the characters in our string "
   ]
  },
  {
   "cell_type": "code",
   "execution_count": null,
   "metadata": {},
   "outputs": [],
   "source": [
    "string = \"Passed Senate with amendments by Yea-Nay Vote. 73 - 21. Record Vote Number: 3 . (text: CR S430-557 )\"\n",
    "\n",
    "count = 0\n",
    "for character in string:\n",
    "    count = count + 1\n",
    "\n",
    "count"
   ]
  },
  {
   "cell_type": "markdown",
   "metadata": {},
   "source": [
    "<font size=\"5\">  \n",
    "\n",
    "Instead of doing ```count = count + 1```, Python also provides the operator ```+=``` for the same purpose "
   ]
  },
  {
   "cell_type": "code",
   "execution_count": null,
   "metadata": {},
   "outputs": [],
   "source": [
    "count = 0\n",
    "for character in string:\n",
    "    count += 1\n",
    "\n",
    "count"
   ]
  },
  {
   "cell_type": "markdown",
   "metadata": {},
   "source": [
    "<font size=\"5\">  \n",
    "\n",
    "**Algorithm for finding someone’s age:**\n",
    "\n",
    "1. Ask the person to multiply the first number of their age by 5.\n",
    "\n",
    "2. Tell them to add 3.\n",
    "\n",
    "3. Now tell them to double this figure.\n",
    "\n",
    "4. Have the person add the second number of their age to the figure and have them tell you the answer.\n",
    "\n",
    "5. Deduct 6 and you will have their age.\n",
    "\n",
    "Test this algorithm using your age. Use a single variable and update it using ```+=``` and other update operators."
   ]
  },
  {
   "cell_type": "code",
   "execution_count": null,
   "metadata": {},
   "outputs": [],
   "source": []
  }
 ],
 "metadata": {
  "kernelspec": {
   "display_name": "conda_amazonei_mxnet_p36",
   "language": "python",
   "name": "conda_amazonei_mxnet_p36"
  },
  "language_info": {
   "codemirror_mode": {
    "name": "ipython",
    "version": 3
   },
   "file_extension": ".py",
   "mimetype": "text/x-python",
   "name": "python",
   "nbconvert_exporter": "python",
   "pygments_lexer": "ipython3",
   "version": "3.6.13"
  },
  "vscode": {
   "interpreter": {
    "hash": "11838f79d2aaadbfa3a2adfaf35bacdebdb4e8d9b63957ddf298964812544a76"
   }
  }
 },
 "nbformat": 4,
 "nbformat_minor": 4
}
