{
 "cells": [
  {
   "cell_type": "markdown",
   "metadata": {},
   "source": [
    "# <span style=\"color:darkblue\"> Today: Continue with Pandas groupby </span>"
   ]
  },
  {
   "cell_type": "markdown",
   "metadata": {},
   "source": [
    "<font size=\"5\"> \n",
    "\n",
    "- What are the steps to calculate the average wage of Brazilian and Colombian players by their ```Attacking Work Rate``` (low, medium, high)?"
   ]
  },
  {
   "cell_type": "code",
   "execution_count": null,
   "metadata": {},
   "outputs": [],
   "source": [
    "import pandas as pd\n",
    "fifa = pd.read_csv('../lecture12/fifa23_players.csv')"
   ]
  },
  {
   "cell_type": "code",
   "execution_count": null,
   "metadata": {},
   "outputs": [],
   "source": [
    "#\n",
    "# 1. Create a new data frame that contains only the characteristics we want to use for the rows that we need\n",
    "fifa_sub = fifa.loc[(fifa['Nationality']=='Brazil') | (fifa['Nationality']=='Colombia'), ['Nationality','Attacking Work Rate', 'Wage(in Euro)']] \n",
    "\n",
    "# 2. Use group by where the input is a list with the variables []\n",
    "fifa_sub.groupby(['Attacking Work Rate', 'Nationality']).mean()"
   ]
  },
  {
   "cell_type": "markdown",
   "metadata": {},
   "source": [
    "<font size=\"5\"> \n",
    "\n",
    "- What if we want to calculate different statistics for the same variable?\n",
    "\n",
    "- **Example:** we want to know the average, median, minimum and maximum wage age for players form France"
   ]
  },
  {
   "cell_type": "code",
   "execution_count": null,
   "metadata": {},
   "outputs": [],
   "source": []
  },
  {
   "cell_type": "markdown",
   "metadata": {},
   "source": [
    "<font size=\"5\"> \n",
    "\n",
    "- What if we want to calculate different statistics for different variables?\n",
    "\n",
    "- **Example:** we want to know the average wage, minumum, maximum and average overall, minimum and maximum age for players form France and Argentina"
   ]
  },
  {
   "cell_type": "code",
   "execution_count": null,
   "metadata": {},
   "outputs": [],
   "source": []
  },
  {
   "cell_type": "markdown",
   "metadata": {},
   "source": [
    "<font size=\"5\"> \n",
    "\n",
    "- We can also create new names for the variables using tuples"
   ]
  },
  {
   "cell_type": "code",
   "execution_count": null,
   "metadata": {},
   "outputs": [],
   "source": [
    "fifa.groupby('Nationality', as_index=False).agg(\n",
    "    # Name average wages for each group\n",
    "    mean_wage=('Wage(in Euro)', lambda x: sum(x)/len(x)),\n",
    "    # Name minimum overall for each group\n",
    "    min_overall=('Overall', min),\n",
    "    # Name maximum overall for each group\n",
    "    max_overall=('Overall', max), \n",
    "    # Name maximum overall for each group\n",
    "    average_overall=('Overall', lambda x: sum(x)/len(x))).sort_values(by='average_overall', ascending=False)"
   ]
  }
 ],
 "metadata": {
  "kernelspec": {
   "display_name": "Python 3.8.5 ('base')",
   "language": "python",
   "name": "python3"
  },
  "language_info": {
   "codemirror_mode": {
    "name": "ipython",
    "version": 3
   },
   "file_extension": ".py",
   "mimetype": "text/x-python",
   "name": "python",
   "nbconvert_exporter": "python",
   "pygments_lexer": "ipython3",
   "version": "3.8.5"
  },
  "orig_nbformat": 4,
  "vscode": {
   "interpreter": {
    "hash": "9fbb33e86ca55080a202fed700efde3fb4ffe3f46131e5b52201b9ba06ce5f72"
   }
  }
 },
 "nbformat": 4,
 "nbformat_minor": 2
}
