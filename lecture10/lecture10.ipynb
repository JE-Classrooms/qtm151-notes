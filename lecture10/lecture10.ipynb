{
 "cells": [
  {
   "cell_type": "markdown",
   "metadata": {},
   "source": [
    "### <span style=\"color:darkblue\"> 4. Python scope of variables: local versus global variables </span>\n",
    "\n",
    "<font size=\"5\"> \n",
    "\n",
    "- As we know, variables are the containers for storing data values\n",
    "\n",
    "- Variables point to an object in memory\n",
    "\n",
    "- A variable is only available from inside the region (local or global regions) it is created. **This is called scope.**\n"
   ]
  }
 ],
 "metadata": {
  "kernelspec": {
   "display_name": "Python 3.9.0 ('multilayer')",
   "language": "python",
   "name": "python3"
  },
  "language_info": {
   "name": "python",
   "version": "3.9.0"
  },
  "orig_nbformat": 4,
  "vscode": {
   "interpreter": {
    "hash": "11838f79d2aaadbfa3a2adfaf35bacdebdb4e8d9b63957ddf298964812544a76"
   }
  }
 },
 "nbformat": 4,
 "nbformat_minor": 2
}
