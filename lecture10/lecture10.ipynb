{
 "cells": [
  {
   "cell_type": "markdown",
   "metadata": {},
   "source": [
    "# <span style=\"color:darkblue\"> A couple of comments: </span>\n",
    "\n",
    "<font size=\"5\"> \n",
    "\n",
    "1. I apologize for the audio quality of the videos. I will solve that issue for coming videos.\n",
    "\n",
    "2. I will assign **(OPTIONAL)** additional exercises and extra videos from **Data Camp** on the weekend. "
   ]
  },
  {
   "cell_type": "markdown",
   "metadata": {},
   "source": [
    "# <span style=\"color:darkblue\"> Review: Syntax and Flow Control for Functions </span>\n",
    "\n",
    "<font size=\"5\"> \n",
    "\n",
    "```python\n",
    "def my_function(parameters):\n",
    "    function body\n",
    "    return expression\n",
    "```\n",
    "\n",
    "![function](images/function.png)"
   ]
  },
  {
   "cell_type": "markdown",
   "metadata": {},
   "source": [
    "## <span style=\"color:darkblue\"> Today. Python scope of variables: local versus global variables </span>\n",
    "\n",
    "<font size=\"5\"> \n",
    "\n",
    "- As we know, variables are the containers for storing data values\n",
    "\n",
    "- Variables point to an object in memory\n",
    "\n",
    "- A variable is only available from inside the region (local or global regions) it is created. **This is called scope.**\n",
    "\n",
    "### Global Variables\n",
    "\n",
    "- Global variables are the ones that are defined and declared outside any function and are not specified to any function \n",
    "\n",
    "- They can be used by any part of the program\n",
    "\n",
    "\n",
    "**Example:** we can use a function defined globally inside of a function."
   ]
  },
  {
   "cell_type": "code",
   "execution_count": null,
   "metadata": {},
   "outputs": [],
   "source": [
    "def printing():\n",
    "    print(x)\n",
    "\n",
    "x = 'I love learning python'\n",
    "printing()"
   ]
  },
  {
   "cell_type": "markdown",
   "metadata": {},
   "source": [
    "<font size=\"5\"> \n",
    "\n",
    "**Example:** what happens if we define a new variable with the same name inside the scope of the function?"
   ]
  },
  {
   "cell_type": "code",
   "execution_count": null,
   "metadata": {},
   "outputs": [],
   "source": [
    "def printing():\n",
    "    x = 'Me too'\n",
    "    print(x)\n",
    "\n",
    "x = 'I love learning python'\n",
    "print(x)\n",
    "printing()"
   ]
  },
  {
   "cell_type": "markdown",
   "metadata": {},
   "source": [
    "### Local Variables\n",
    "\n",
    "<font size=\"5\"> \n",
    "\n",
    "- The variable defined inside the function is called a **local variable**\n",
    "\n",
    "\n",
    "**Example:** what will happen if we change the value of ```s``` inside of the function?\n",
    "\n"
   ]
  },
  {
   "cell_type": "code",
   "execution_count": 9,
   "metadata": {},
   "outputs": [
    {
     "name": "stdout",
     "output_type": "stream",
     "text": [
      "I love learning python\n",
      "I love learning python\n",
      "Me too\n"
     ]
    }
   ],
   "source": [
    "def printing():\n",
    "    global x\n",
    "    print(x)\n",
    "    x = 'Me too'\n",
    "    print(x)\n",
    "\n",
    "x = 'I love learning python'\n",
    "print(x)\n",
    "printing()"
   ]
  },
  {
   "cell_type": "markdown",
   "metadata": {},
   "source": [
    "<font size=\"5\"> \n",
    "\n",
    "\n",
    "- We can use the ```global``` keyword to solve the previous issue."
   ]
  },
  {
   "cell_type": "code",
   "execution_count": null,
   "metadata": {},
   "outputs": [],
   "source": []
  }
 ],
 "metadata": {
  "kernelspec": {
   "display_name": "Python 3.9.0 ('multilayer')",
   "language": "python",
   "name": "python3"
  },
  "language_info": {
   "codemirror_mode": {
    "name": "ipython",
    "version": 3
   },
   "file_extension": ".py",
   "mimetype": "text/x-python",
   "name": "python",
   "nbconvert_exporter": "python",
   "pygments_lexer": "ipython3",
   "version": "3.9.0"
  },
  "orig_nbformat": 4,
  "vscode": {
   "interpreter": {
    "hash": "11838f79d2aaadbfa3a2adfaf35bacdebdb4e8d9b63957ddf298964812544a76"
   }
  }
 },
 "nbformat": 4,
 "nbformat_minor": 2
}
