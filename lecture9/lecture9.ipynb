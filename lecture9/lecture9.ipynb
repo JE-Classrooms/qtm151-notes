{
 "cells": [
  {
   "cell_type": "markdown",
   "metadata": {},
   "source": [
    "# <span style=\"color:darkblue\"> Module 3: User Defined Functions </span>"
   ]
  },
  {
   "cell_type": "markdown",
   "metadata": {},
   "source": [
    "## <span style=\"color:darkblue\"> Today: Introduction to Functions and Scope of Variables in Python </span>\n",
    "\n",
    "\n",
    "<font size=\"5\"> \n",
    "\n",
    "1. What is a function in Python?\n",
    "\n",
    "2. Difference between **built-in** functions and **user-defined** functions\n",
    "\n",
    "3. Basic Python syntax for user-defined functions\n",
    "\n",
    "4. The return statement\n",
    "\n",
    "5. Some exercises"
   ]
  },
  {
   "cell_type": "markdown",
   "metadata": {},
   "source": [
    "### <span style=\"color:darkblue\"> 1. What is a function? </span>\n",
    "\n",
    "<font size=\"5\"> \n",
    "\n",
    "- A function is a **block of organized, reusable** code that is used to perform a a specific task\n",
    "\n",
    "- Functions help break our program into smaller and modular chunks\n",
    "\n",
    "- As our code grows larger, functions make it more organized and manageable\n",
    "\n",
    "- Functions avoid repetition and make code reusable"
   ]
  },
  {
   "cell_type": "markdown",
   "metadata": {},
   "source": [
    "### <span style=\"color:darkblue\"> 2. Types of functions </span>\n",
    "\n",
    "<font size=\"5\"> \n",
    "\n",
    "- **Built-in functions:** these are functions that are predefined in a Python installation\n",
    "\n",
    "**Examples:**\n",
    "\n",
    "- Functions that we have used: ```print()```, ```type()```, ```len()```, ```sum()```\n",
    "\n",
    "- Some other examples: ```abs()```, ```round()```, ```sorted()```"
   ]
  },
  {
   "cell_type": "code",
   "execution_count": null,
   "metadata": {},
   "outputs": [],
   "source": []
  },
  {
   "cell_type": "markdown",
   "metadata": {},
   "source": [
    "<font size=\"5\"> \n",
    "\n",
    "- **User-defined functions:** these functions are defined by the user and they perform a **new** specific task"
   ]
  },
  {
   "cell_type": "markdown",
   "metadata": {},
   "source": [
    "### <span style=\"color:darkblue\"> 3. Python syntax for user-defined functions </span>\n",
    "\n",
    "<font size=\"5\"> \n",
    "\n",
    "```python\n",
    "def my_function(parameters):\n",
    "    function body\n",
    "    return expression\n",
    "```\n",
    "\n",
    "Explanation of the components:\n",
    "\n",
    "1. The keyword ```def``` marks the start of the function header.\n",
    "\n",
    "2. A function name to uniquely identify the function (my_function). [Here](https://peps.python.org/pep-0008/) a guideline for name and style for Python code.\n",
    "\n",
    "3. Parameters (arguments) through which we pass values to a function. They are optional.\n",
    "\n",
    "4. A colon (:) to mark the end of the function header.\n",
    "\n",
    "5. One or more valid python statements that make up the function body. Statements must have the same indentation level\n",
    "\n",
    "6. An optional ```return``` statement to return a value from the function."
   ]
  },
  {
   "cell_type": "markdown",
   "metadata": {},
   "source": [
    "<font size=\"5\"> \n",
    "\n",
    "**Example:** write a function that greets the person passed in as a parameter."
   ]
  },
  {
   "cell_type": "code",
   "execution_count": null,
   "metadata": {},
   "outputs": [],
   "source": []
  },
  {
   "cell_type": "markdown",
   "metadata": {},
   "source": [
    "<font size=\"5\"> \n",
    "\n",
    "- How do we call the function we just created? \n",
    "\n",
    "- To call a function we simply type the function name with appropriate parameters."
   ]
  },
  {
   "cell_type": "code",
   "execution_count": null,
   "metadata": {},
   "outputs": [],
   "source": []
  },
  {
   "cell_type": "markdown",
   "metadata": {},
   "source": [
    "<font size=\"5\"> \n",
    "\n",
    "**What is the difference between built-in and user-defined functions?**"
   ]
  },
  {
   "cell_type": "markdown",
   "metadata": {},
   "source": [
    "### <span style=\"color:darkblue\"> 4. The return statement </span>\n",
    "\n",
    "<font size=\"5\"> \n",
    "\n",
    "- The return statement is used to exit a function and go back to the place from where it was called.\n",
    "\n",
    "- The syntax is ```return expression```\n",
    "\n",
    "- If there is no expression in the statement or the return statement itself is not present inside a function, then the function will return the None object.\n",
    "\n",
    "**Example:** create a function that prints the even numbers from 1 to 10."
   ]
  },
  {
   "cell_type": "code",
   "execution_count": null,
   "metadata": {},
   "outputs": [],
   "source": []
  },
  {
   "cell_type": "markdown",
   "metadata": {},
   "source": [
    "<font size=\"5\"> \n",
    "\n",
    "**Example:** let's return to an example we solved during week two.\n",
    "\n",
    "Create a function that calculate compound interest. If we start with a principal sum, $P$, and earn compounded interest, the total accumulated value, $V$, at the end of time $t$ is:\n",
    "\n",
    "$V=P\\left(1+{\\frac {r}{n}}\\right)^{nt}$\n",
    "\n",
    "where $r$ is the annual interest rate and $n$ is the compounding frequency (for quarterly interest $n=4$, and for monthly $n=12$)."
   ]
  },
  {
   "cell_type": "code",
   "execution_count": null,
   "metadata": {},
   "outputs": [],
   "source": []
  },
  {
   "cell_type": "markdown",
   "metadata": {},
   "source": [
    "<font size=\"5\"> \n",
    "\n",
    "How does Python read a function?\n",
    "\n",
    "![function](images/function.png)\n"
   ]
  },
  {
   "cell_type": "markdown",
   "metadata": {},
   "source": [
    "### <span style=\"color:darkblue\"> 5. Exercises </span>"
   ]
  },
  {
   "cell_type": "markdown",
   "metadata": {},
   "source": [
    "**Exercise 1:**\n",
    "\n",
    "Write a Python function that accepts a string and calculate the number of upper case letters and lower case letters. Go to the editor\n",
    "\n",
    "**Sample String:** 'The quick Brow Fox'\n",
    "\n",
    "**Expected Output:**\n",
    "\n",
    "No. of Upper case characters : 3\n",
    "\n",
    "No. of Lower case Characters : 12"
   ]
  },
  {
   "cell_type": "code",
   "execution_count": null,
   "metadata": {},
   "outputs": [],
   "source": []
  },
  {
   "cell_type": "markdown",
   "metadata": {},
   "source": [
    "**Exercise 2:**\n",
    "\n",
    "Write a Python function that checks whether a passed string is palindrome or not.\n",
    "\n",
    "*Note:* A palindrome is a word, phrase, or sequence that reads the same backward as forward, e.g., madam or nurses run."
   ]
  },
  {
   "cell_type": "code",
   "execution_count": null,
   "metadata": {},
   "outputs": [],
   "source": []
  },
  {
   "cell_type": "markdown",
   "metadata": {},
   "source": [
    "**Exercise 3:**\n",
    "\n",
    "Write a Python function that takes a list and returns a new list with unique elements of the first list.\n",
    "\n",
    "**Sample List:** [1,2,3,3,3,3,4,5]\n",
    "\n",
    "**Unique List:** [1, 2, 3, 4, 5]"
   ]
  },
  {
   "cell_type": "code",
   "execution_count": null,
   "metadata": {},
   "outputs": [],
   "source": []
  }
 ],
 "metadata": {
  "kernelspec": {
   "display_name": "Python 3.8.5 ('base')",
   "language": "python",
   "name": "python3"
  },
  "language_info": {
   "codemirror_mode": {
    "name": "ipython",
    "version": 3
   },
   "file_extension": ".py",
   "mimetype": "text/x-python",
   "name": "python",
   "nbconvert_exporter": "python",
   "pygments_lexer": "ipython3",
   "version": "3.8.5"
  },
  "orig_nbformat": 4,
  "vscode": {
   "interpreter": {
    "hash": "9fbb33e86ca55080a202fed700efde3fb4ffe3f46131e5b52201b9ba06ce5f72"
   }
  }
 },
 "nbformat": 4,
 "nbformat_minor": 2
}
