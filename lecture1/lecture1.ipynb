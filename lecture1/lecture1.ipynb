{
 "cells": [
  {
   "cell_type": "markdown",
   "metadata": {
    "slideshow": {
     "slide_type": "slide"
    }
   },
   "source": [
    "# <span style=\"color:darkblue\"> QTM 151: Introduction to Statistical Computing II</span>"
   ]
  },
  {
   "cell_type": "markdown",
   "metadata": {
    "slideshow": {
     "slide_type": "slide"
    }
   },
   "source": [
    "## <span style=\"color:darkblue\"> Introduction to Git and GitHub </span> \n",
    "\n",
    "<font size=\"5\"> \n",
    "\n",
    "**Learning Objectives:** \n",
    "\n",
    "1. What is GitHub and why should I use it?\n",
    "\n",
    "2. What is a Version Control System?\n",
    "\n",
    "3. What is Git? What is the difference between Git and GitHub?\n",
    "\n",
    "4. What is the GitHub workflow and how it relates to Git?\n",
    "\n",
    "5. How to create, clone and make changes in a GitHub repository?"
   ]
  },
  {
   "cell_type": "markdown",
   "metadata": {
    "slideshow": {
     "slide_type": "slide"
    }
   },
   "source": [
    "## <span style=\"color:darkblue\"> Motivation </span>\n",
    "\n",
    "<font size=\"5\"> \n",
    "\n",
    "* Data science is the use of data to answers questions and guide **decision making**\n",
    "\n",
    "⚠️ Use data and programming tools to **solve problems**"
   ]
  },
  {
   "cell_type": "markdown",
   "metadata": {
    "slideshow": {
     "slide_type": "slide"
    }
   },
   "source": [
    "![title](images/data-process.png)"
   ]
  },
  {
   "cell_type": "markdown",
   "metadata": {
    "slideshow": {
     "slide_type": "slide"
    }
   },
   "source": [
    "## <span style=\"color:darkblue\"> Use Case: Decathlon </span> \n",
    "\n",
    "This example was inspired by Ishan Gaba at Simplilearn\n",
    "\n",
    "<font size=\"5\"> \n",
    "\n",
    "In 2019 Decathlon had 1030 stores across 28 countries and nearly 100,000 employees"
   ]
  },
  {
   "cell_type": "markdown",
   "metadata": {
    "slideshow": {
     "slide_type": "slide"
    }
   },
   "source": [
    "![title](images/decathlon-stores.png)"
   ]
  },
  {
   "cell_type": "markdown",
   "metadata": {
    "slideshow": {
     "slide_type": "slide"
    }
   },
   "source": [
    "<font size=\"5\"> \n",
    "\n",
    "⚠️ How to coordinate production and buyer experience across different shops and countries?\n",
    "\n",
    "⚠️ How to improve the efficiency of hiring process?"
   ]
  },
  {
   "cell_type": "markdown",
   "metadata": {
    "slideshow": {
     "slide_type": "slide"
    }
   },
   "source": [
    "<font size=\"5\">\n",
    "\n",
    "**GitHub visibility:** \n",
    "\n",
    "- It is an affordable, open-source community \n",
    "\n",
    "- It is a cloud-based tool ⟿ facilitates visibility across the entire organization\n",
    "\n",
    "- It allows collaboration all over the world ⟿ improves the efficiency of hiring process\n",
    "\n",
    "⚡GitHub improves organization and visualization by taking advantage of the <span style=\"color:darkblue\"> **Version Control System** </span> \n",
    "\n",
    "<font size=\"1\">\n",
    "Images in this document were taken from the internet.\n"
   ]
  },
  {
   "cell_type": "markdown",
   "metadata": {
    "slideshow": {
     "slide_type": "slide"
    }
   },
   "source": [
    "![vontrol](images/vcs.png)"
   ]
  },
  {
   "cell_type": "markdown",
   "metadata": {
    "slideshow": {
     "slide_type": "slide"
    }
   },
   "source": [
    "## <span style=\"color:darkblue\"> What is a Version Control System (VCS)? </span> \n",
    "\n",
    "<font size=\"5\">\n",
    "\n",
    "- It is a system that records all the changes made to a file (or a set of files)\n",
    "\n",
    "- The idea is to have access to different versions of the project \n",
    "\n",
    "- **Example** of <span style=\"color:red\"> inefficient </span> version control: ```final_project_version1.py```, ```final_project_version2.py```, ```final_project_version3.py```, etc. \n",
    "\n",
    "⚠️ **Problems:** \n",
    "\n",
    "(1) increasing number of files, (2) costly to compare between different versions, (3) not easy to share \n",
    "\n",
    "⚡A VCS such as **Git** solves all the previous issues"
   ]
  },
  {
   "cell_type": "markdown",
   "metadata": {
    "slideshow": {
     "slide_type": "slide"
    }
   },
   "source": [
    "## <span style=\"color:darkblue\"> What is the Difference Between Git and GitHub? </span>\n",
    "\n",
    "![gitvshub](images/Gitvs_Github.png)"
   ]
  },
  {
   "cell_type": "markdown",
   "metadata": {
    "slideshow": {
     "slide_type": "slide"
    }
   },
   "source": [
    "![gitvshub2](images/git-github.png)"
   ]
  },
  {
   "cell_type": "markdown",
   "metadata": {
    "slideshow": {
     "slide_type": "slide"
    }
   },
   "source": [
    "## <span style=\"color:darkblue\"> Repository (aka Repo) </span> \n",
    "\n",
    "<font size=\"5\">\n",
    "\n",
    "- You can think of a repository as the main folder in your project that contains all the necessary information \n",
    "\n",
    "- Repositories can contain other folders within them, or they can be formed only by separate files\n",
    "\n",
    "- You will generally have two copies of the repository: local copy (your computer or the cloud computer) and the online copy (on GitHub) \n",
    "\n",
    "- Here is an example of the repository I created for this class: https://github.com/JE-Classrooms/qtm151-notes"
   ]
  },
  {
   "cell_type": "markdown",
   "metadata": {
    "slideshow": {
     "slide_type": "slide"
    }
   },
   "source": [
    "## <span style=\"color:darkblue\"> GitHub Workflow: commit-pull-push </span> \n",
    "\n"
   ]
  },
  {
   "cell_type": "markdown",
   "metadata": {
    "slideshow": {
     "slide_type": "slide"
    }
   },
   "source": [
    "![worflow](images/workflow.png)"
   ]
  },
  {
   "cell_type": "markdown",
   "metadata": {
    "slideshow": {
     "slide_type": "slide"
    }
   },
   "source": [
    "## <span style=\"color:darkblue\"> Creating a New Repository </span> \n",
    "\n",
    "<font size=\"5\">\n",
    "\n",
    "1. Login to your GitHub account\n",
    "\n",
    "2. In the dashboard on the left click on the green button <span style=\"color:green\"> Create repository </span>"
   ]
  },
  {
   "cell_type": "markdown",
   "metadata": {
    "slideshow": {
     "slide_type": "slide"
    }
   },
   "source": [
    "![Alt Text](giffs/create_repo.gif)"
   ]
  },
  {
   "cell_type": "markdown",
   "metadata": {
    "slideshow": {
     "slide_type": "slide"
    }
   },
   "source": [
    "<font size=\"5\">\n",
    "\n",
    "3. Type a short, memorable name for your repository. We will use ```demo-repo```.\n",
    "\n",
    "4. You can optionally add a description. For this example we will use  \"My first repository on GitHub.\"\n",
    "\n",
    "5. Choose repository visibility. In this example we will leave it as public.\n",
    "\n",
    "6. Choose whether oyu want to initialize the repository with a README.\n",
    "\n",
    "7. Create the repository."
   ]
  },
  {
   "cell_type": "markdown",
   "metadata": {
    "slideshow": {
     "slide_type": "slide"
    }
   },
   "source": [
    "## <span style=\"color:darkblue\"> Cloning the new repository to a local machine </span>\n",
    "\n",
    "For today's class we will only focus on Cloning the repository into our local machines. We will follow this process:\n",
    "\n",
    "1. determine the folder where you want to save your repository (I recommend you have a specific folder for this class)\n",
    "\n",
    "2. Clone the repository into the local folder you selected in step 1. We will use GitHub desktop during class to manage cloning and the GitHub workflow (I will also provide videos with the Command Prompt version of the examples we cover in class)\n",
    "\n",
    "3. Check the status of the repository\n",
    "\n",
    "4. Add a ```txt``` README file, commit and push the file \n",
    "\n",
    "5. Check the repository on GitHub\n",
    "\n"
   ]
  },
  {
   "cell_type": "markdown",
   "metadata": {
    "slideshow": {
     "slide_type": "slide"
    }
   },
   "source": [
    "## <span style=\"color:darkblue\"> Summary </span>\n",
    "\n",
    "1. We learned what is Git and GitHub, why we should use them, and how to use them.\n",
    "\n",
    "2. We learned what is a  Version Control System and that Git is one provider of Version Control services.\n",
    "\n",
    "3. We understand the difference between Git and GitHub\n",
    "\n",
    "4. We learned how to create, clone, and make changes in a GitHub repository using GitHub desktop (see the video on Canvas to learn how to do the same using Git commands)"
   ]
  }
 ],
 "metadata": {
  "celltoolbar": "Slideshow",
  "kernelspec": {
   "display_name": "Python 3 (ipykernel)",
   "language": "python",
   "name": "python3"
  },
  "language_info": {
   "codemirror_mode": {
    "name": "ipython",
    "version": 3
   },
   "file_extension": ".py",
   "mimetype": "text/x-python",
   "name": "python",
   "nbconvert_exporter": "python",
   "pygments_lexer": "ipython3",
   "version": "3.7.6"
  },
  "vscode": {
   "interpreter": {
    "hash": "dad53b1bd150ad5f8a853133a980ad918e93d2227e3184f8ad962191acca0b90"
   }
  }
 },
 "nbformat": 4,
 "nbformat_minor": 4
}
